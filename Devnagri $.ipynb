{
 "cells": [
  {
   "cell_type": "code",
   "execution_count": 16,
   "metadata": {},
   "outputs": [],
   "source": [
    "# python program to count  devnagri charcaters \n",
    "import pandas as pd\n",
    "import numpy as np\n",
    "import unicodedata\n",
    "import math\n",
    "pd.set_option('display.max_rows', None)\n",
    "pd.set_option('display.max_columns', None)\n",
    "pd.set_option('display.width', None)\n",
    "pd.set_option('display.max_colwidth', -1) "
   ]
  },
  {
   "cell_type": "code",
   "execution_count": 17,
   "metadata": {},
   "outputs": [],
   "source": [
    "#script = r\"C:\\Users\\Lavkush\\3D Objects\\poem2.txt\"\n",
    "#script = r\"C:\\Users\\Lavkush\\3D Objects\\Poem.txt\"\n",
    "script = r\"C:\\Users\\Lavkush\\3D Objects\\Python Nlp\\Poem3.txt\"\n",
    "#script  = input(\"Enter Your Text\")"
   ]
  },
  {
   "cell_type": "code",
   "execution_count": 18,
   "metadata": {},
   "outputs": [],
   "source": [
    "list = []\n",
    "with open(script, encoding='utf-8') as f:\n",
    "     for i in  f.readlines(): list.append(i.strip())"
   ]
  },
  {
   "cell_type": "code",
   "execution_count": 19,
   "metadata": {},
   "outputs": [],
   "source": [
    "df = pd.DataFrame(list, columns = ['Script'])\n",
    "df['Script'].replace('', np.nan, inplace=True)\n",
    "df.dropna(subset=['Script'], inplace=True)\n"
   ]
  },
  {
   "cell_type": "code",
   "execution_count": 20,
   "metadata": {},
   "outputs": [],
   "source": [
    "def splitclusters(s):\n",
    "    virama = u'\\N{DEVANAGARI SIGN VIRAMA}'\n",
    "    lst=[]\n",
    "    cluster = u''\n",
    "    last = None\n",
    "    for c in s:\n",
    "        cat = unicodedata.category(c)[0]\n",
    "        if cat == 'M' or cat == 'L' and last == virama:\n",
    "            cluster += c\n",
    "        else:\n",
    "            if cluster:\n",
    "                lst.append(cluster)\n",
    "            cluster = c\n",
    "        last = c\n",
    "    if cluster:\n",
    "        lst.append(cluster)\n",
    "    return lst\n"
   ]
  },
  {
   "cell_type": "code",
   "execution_count": 21,
   "metadata": {},
   "outputs": [],
   "source": [
    "df[\"Tokenise1\"] =df[\"Script\"].apply((splitclusters))"
   ]
  },
  {
   "cell_type": "code",
   "execution_count": 22,
   "metadata": {},
   "outputs": [],
   "source": [
    "def clean(Textlist):\n",
    "    tokenize = []\n",
    "    for i in Textlist : \n",
    "        if i in [\" \",\",\",\"_\",\"-\",np.nan,\"?\", \"\\ufeff\",\"\\\"\"] : pass\n",
    "        else : tokenize.append(i)\n",
    "    return tokenize\n",
    "\n",
    "df[\"Tokenise\"] =df[\"Tokenise1\"].apply((clean))\n",
    "del df[\"Tokenise1\"]"
   ]
  },
  {
   "cell_type": "code",
   "execution_count": 25,
   "metadata": {},
   "outputs": [],
   "source": [
    "def length(sentence):\n",
    "    lst = []\n",
    "    for j in (sentence):\n",
    "            if (u'\\u093F')in j or (u'\\u0909') in j or (u'\\u0907') in j or (u'\\u0941') in j  :lst.append([j,1])\n",
    "            elif j in [ '\\u0915' , '\\u0916' , '\\u0917' , '\\u0918' , '\\u0919' , '\\u091A' , '\\u091B' , '\\u091C' , '\\u091D' , '\\u091E' ,'\\u091F' ,'\\u0920','\\u0921','\\u0922','\\u0923', '\\u0924' , '\\u0925', '\\u0926' , '\\u0927' , '\\u0928' , '\\u092A' , '\\u092B' , '\\u092C' , '\\u092D' , '\\u092E' , '\\u092F' , '\\u0930' , '\\u0932' ,'\\u0933', '\\u0935' , '\\u0936' , '\\u0937' , '\\u0938' , '\\u0939']:lst.append([j,1])\n",
    "            else : lst.append([j,2])\n",
    "    return (lst)\n",
    "    "
   ]
  },
  {
   "cell_type": "code",
   "execution_count": 26,
   "metadata": {},
   "outputs": [],
   "source": [
    "def totalsum(sentence):\n",
    "    lst = 0\n",
    "    for j in (sentence):\n",
    "            if (u'\\u093F')in j or (u'\\u0909') in j or (u'\\u0907') in j or (u'\\u0941') in j  : lst += 1\n",
    "            elif j in [ '\\u0915' , '\\u0916' , '\\u0917' , '\\u0918' , '\\u0919' , '\\u091A' , '\\u091B' , '\\u091C' , '\\u091D' , '\\u091E' ,'\\u091F' ,'\\u0920','\\u0921','\\u0922','\\u0923', '\\u0924' , '\\u0925', '\\u0926' , '\\u0927' , '\\u0928' , '\\u092A' , '\\u092B' , '\\u092C' , '\\u092D' , '\\u092E' , '\\u092F' , '\\u0930' , '\\u0932' ,'\\u0933', '\\u0935' , '\\u0936' , '\\u0937' , '\\u0938' , '\\u0939']:lst += 1\n",
    "            else : lst += 2\n",
    "    return (lst)"
   ]
  },
  {
   "cell_type": "code",
   "execution_count": 27,
   "metadata": {
    "scrolled": false
   },
   "outputs": [
    {
     "data": {
      "text/html": [
       "<div>\n",
       "<style scoped>\n",
       "    .dataframe tbody tr th:only-of-type {\n",
       "        vertical-align: middle;\n",
       "    }\n",
       "\n",
       "    .dataframe tbody tr th {\n",
       "        vertical-align: top;\n",
       "    }\n",
       "\n",
       "    .dataframe thead th {\n",
       "        text-align: right;\n",
       "    }\n",
       "</style>\n",
       "<table border=\"1\" class=\"dataframe\">\n",
       "  <thead>\n",
       "    <tr style=\"text-align: right;\">\n",
       "      <th></th>\n",
       "      <th>Script</th>\n",
       "      <th>Tokenise</th>\n",
       "      <th>Length</th>\n",
       "      <th>Sum</th>\n",
       "    </tr>\n",
       "  </thead>\n",
       "  <tbody>\n",
       "    <tr>\n",
       "      <th>0</th>\n",
       "      <td>﻿</td>\n",
       "      <td>[]</td>\n",
       "      <td>[]</td>\n",
       "      <td>0</td>\n",
       "    </tr>\n",
       "    <tr>\n",
       "      <th>1</th>\n",
       "      <td>खड्यात पडल्यास हातावर छड्या</td>\n",
       "      <td>[ख, ड्या, त, प, ड, ल्या, स, हा, ता, व, र, छ, ड्या]</td>\n",
       "      <td>[[ख, 1], [ड्या, 2], [त, 1], [प, 1], [ड, 1], [ल्या, 2], [स, 1], [हा, 2], [ता, 2], [व, 1], [र, 1], [छ, 1], [ड्या, 2]]</td>\n",
       "      <td>18</td>\n",
       "    </tr>\n",
       "    <tr>\n",
       "      <th>2</th>\n",
       "      <td>गागाल गागाल गागागा लगा</td>\n",
       "      <td>[गा, गा, ल, गा, गा, ल, गा, गा, गा, ल, गा]</td>\n",
       "      <td>[[गा, 2], [गा, 2], [ल, 1], [गा, 2], [गा, 2], [ल, 1], [गा, 2], [गा, 2], [गा, 2], [ल, 1], [गा, 2]]</td>\n",
       "      <td>19</td>\n",
       "    </tr>\n",
       "    <tr>\n",
       "      <th>4</th>\n",
       "      <td>कण्हत कुथत पोट्ट्याशिवाय</td>\n",
       "      <td>[क, ण्ह, त, कु, थ, त, पो, ट्ट्या, शि, वा, य]</td>\n",
       "      <td>[[क, 1], [ण्ह, 2], [त, 1], [कु, 1], [थ, 1], [त, 1], [पो, 2], [ट्ट्या, 2], [शि, 1], [वा, 2], [य, 1]]</td>\n",
       "      <td>15</td>\n",
       "    </tr>\n",
       "    <tr>\n",
       "      <th>5</th>\n",
       "      <td>लगा लगा गागालगाल</td>\n",
       "      <td>[ल, गा, ल, गा, गा, गा, ल, गा, ल]</td>\n",
       "      <td>[[ल, 1], [गा, 2], [ल, 1], [गा, 2], [गा, 2], [गा, 2], [ल, 1], [गा, 2], [ल, 1]]</td>\n",
       "      <td>14</td>\n",
       "    </tr>\n",
       "    <tr>\n",
       "      <th>7</th>\n",
       "      <td>मोत्याच्या कुडीत सत्याबाय</td>\n",
       "      <td>[मो, त्या, च्या, कु, डी, त, स, त्या, बा, य]</td>\n",
       "      <td>[[मो, 2], [त्या, 2], [च्या, 2], [कु, 1], [डी, 2], [त, 1], [स, 1], [त्या, 2], [बा, 2], [य, 1]]</td>\n",
       "      <td>16</td>\n",
       "    </tr>\n",
       "    <tr>\n",
       "      <th>8</th>\n",
       "      <td>गागागा लगाल गागागाल</td>\n",
       "      <td>[गा, गा, गा, ल, गा, ल, गा, गा, गा, ल]</td>\n",
       "      <td>[[गा, 2], [गा, 2], [गा, 2], [ल, 1], [गा, 2], [ल, 1], [गा, 2], [गा, 2], [गा, 2], [ल, 1]]</td>\n",
       "      <td>17</td>\n",
       "    </tr>\n",
       "    <tr>\n",
       "      <th>10</th>\n",
       "      <td>हक्क नि हेका सुलुचा</td>\n",
       "      <td>[ह, क्क, नि, हे, का, सु, लु, चा]</td>\n",
       "      <td>[[ह, 1], [क्क, 2], [नि, 1], [हे, 2], [का, 2], [सु, 1], [लु, 1], [चा, 2]]</td>\n",
       "      <td>12</td>\n",
       "    </tr>\n",
       "    <tr>\n",
       "      <th>11</th>\n",
       "      <td>गाल ल गागा  ललगा</td>\n",
       "      <td>[गा, ल, ल, गा, गा, ल, ल, गा]</td>\n",
       "      <td>[[गा, 2], [ल, 1], [ल, 1], [गा, 2], [गा, 2], [ल, 1], [ल, 1], [गा, 2]]</td>\n",
       "      <td>12</td>\n",
       "    </tr>\n",
       "    <tr>\n",
       "      <th>13</th>\n",
       "      <td>समजावण्याने आणिच वाढायचा</td>\n",
       "      <td>[स, म, जा, व, ण्या, ने, आ, णि, च, वा, ढा, य, चा]</td>\n",
       "      <td>[[स, 1], [म, 1], [जा, 2], [व, 1], [ण्या, 2], [ने, 2], [आ, 2], [णि, 1], [च, 1], [वा, 2], [ढा, 2], [य, 1], [चा, 2]]</td>\n",
       "      <td>20</td>\n",
       "    </tr>\n",
       "    <tr>\n",
       "      <th>14</th>\n",
       "      <td>गागालगागा गागा गागालगा</td>\n",
       "      <td>[गा, गा, ल, गा, गा, गा, गा, गा, गा, ल, गा]</td>\n",
       "      <td>[[गा, 2], [गा, 2], [ल, 1], [गा, 2], [गा, 2], [गा, 2], [गा, 2], [गा, 2], [गा, 2], [ल, 1], [गा, 2]]</td>\n",
       "      <td>20</td>\n",
       "    </tr>\n",
       "  </tbody>\n",
       "</table>\n",
       "</div>"
      ],
      "text/plain": [
       "                         Script  \\\n",
       "0   ﻿                             \n",
       "1   खड्यात पडल्यास हातावर छड्या   \n",
       "2   गागाल गागाल गागागा लगा        \n",
       "4   कण्हत कुथत पोट्ट्याशिवाय      \n",
       "5   लगा लगा गागालगाल              \n",
       "7   मोत्याच्या कुडीत सत्याबाय     \n",
       "8   गागागा लगाल गागागाल           \n",
       "10  हक्क नि हेका सुलुचा           \n",
       "11  गाल ल गागा  ललगा              \n",
       "13  समजावण्याने आणिच वाढायचा      \n",
       "14  गागालगागा गागा गागालगा        \n",
       "\n",
       "                                              Tokenise  \\\n",
       "0   []                                                   \n",
       "1   [ख, ड्या, त, प, ड, ल्या, स, हा, ता, व, र, छ, ड्या]   \n",
       "2   [गा, गा, ल, गा, गा, ल, गा, गा, गा, ल, गा]            \n",
       "4   [क, ण्ह, त, कु, थ, त, पो, ट्ट्या, शि, वा, य]         \n",
       "5   [ल, गा, ल, गा, गा, गा, ल, गा, ल]                     \n",
       "7   [मो, त्या, च्या, कु, डी, त, स, त्या, बा, य]          \n",
       "8   [गा, गा, गा, ल, गा, ल, गा, गा, गा, ल]                \n",
       "10  [ह, क्क, नि, हे, का, सु, लु, चा]                     \n",
       "11  [गा, ल, ल, गा, गा, ल, ल, गा]                         \n",
       "13  [स, म, जा, व, ण्या, ने, आ, णि, च, वा, ढा, य, चा]     \n",
       "14  [गा, गा, ल, गा, गा, गा, गा, गा, गा, ल, गा]           \n",
       "\n",
       "                                                                                                                 Length  \\\n",
       "0   []                                                                                                                    \n",
       "1   [[ख, 1], [ड्या, 2], [त, 1], [प, 1], [ड, 1], [ल्या, 2], [स, 1], [हा, 2], [ता, 2], [व, 1], [र, 1], [छ, 1], [ड्या, 2]]   \n",
       "2   [[गा, 2], [गा, 2], [ल, 1], [गा, 2], [गा, 2], [ल, 1], [गा, 2], [गा, 2], [गा, 2], [ल, 1], [गा, 2]]                      \n",
       "4   [[क, 1], [ण्ह, 2], [त, 1], [कु, 1], [थ, 1], [त, 1], [पो, 2], [ट्ट्या, 2], [शि, 1], [वा, 2], [य, 1]]                   \n",
       "5   [[ल, 1], [गा, 2], [ल, 1], [गा, 2], [गा, 2], [गा, 2], [ल, 1], [गा, 2], [ल, 1]]                                         \n",
       "7   [[मो, 2], [त्या, 2], [च्या, 2], [कु, 1], [डी, 2], [त, 1], [स, 1], [त्या, 2], [बा, 2], [य, 1]]                         \n",
       "8   [[गा, 2], [गा, 2], [गा, 2], [ल, 1], [गा, 2], [ल, 1], [गा, 2], [गा, 2], [गा, 2], [ल, 1]]                               \n",
       "10  [[ह, 1], [क्क, 2], [नि, 1], [हे, 2], [का, 2], [सु, 1], [लु, 1], [चा, 2]]                                              \n",
       "11  [[गा, 2], [ल, 1], [ल, 1], [गा, 2], [गा, 2], [ल, 1], [ल, 1], [गा, 2]]                                                  \n",
       "13  [[स, 1], [म, 1], [जा, 2], [व, 1], [ण्या, 2], [ने, 2], [आ, 2], [णि, 1], [च, 1], [वा, 2], [ढा, 2], [य, 1], [चा, 2]]     \n",
       "14  [[गा, 2], [गा, 2], [ल, 1], [गा, 2], [गा, 2], [गा, 2], [गा, 2], [गा, 2], [गा, 2], [ल, 1], [गा, 2]]                     \n",
       "\n",
       "    Sum  \n",
       "0   0    \n",
       "1   18   \n",
       "2   19   \n",
       "4   15   \n",
       "5   14   \n",
       "7   16   \n",
       "8   17   \n",
       "10  12   \n",
       "11  12   \n",
       "13  20   \n",
       "14  20   "
      ]
     },
     "execution_count": 27,
     "metadata": {},
     "output_type": "execute_result"
    }
   ],
   "source": [
    "df[\"Length\"] = df[\"Tokenise\"].apply(length)\n",
    "df[\"Sum\"] = (df[\"Tokenise\"]).apply(totalsum)\n",
    "df.head(15)"
   ]
  },
  {
   "cell_type": "code",
   "execution_count": 28,
   "metadata": {},
   "outputs": [
    {
     "ename": "ValueError",
     "evalue": "need at least one array to concatenate",
     "output_type": "error",
     "traceback": [
      "\u001b[1;31m---------------------------------------------------------------------------\u001b[0m",
      "\u001b[1;31mValueError\u001b[0m                                Traceback (most recent call last)",
      "\u001b[1;32m<ipython-input-28-8dc53dc24bc9>\u001b[0m in \u001b[0;36m<module>\u001b[1;34m\u001b[0m\n\u001b[1;32m----> 1\u001b[1;33m \u001b[0mnewlist\u001b[0m \u001b[1;33m=\u001b[0m \u001b[0mdf\u001b[0m\u001b[1;33m[\u001b[0m\u001b[1;34m\"Length\"\u001b[0m\u001b[1;33m]\u001b[0m\u001b[1;33m.\u001b[0m\u001b[0mapply\u001b[0m\u001b[1;33m(\u001b[0m\u001b[0mnp\u001b[0m\u001b[1;33m.\u001b[0m\u001b[0mconcatenate\u001b[0m\u001b[1;33m)\u001b[0m\u001b[1;33m\u001b[0m\u001b[1;33m\u001b[0m\u001b[0m\n\u001b[0m",
      "\u001b[1;32mc:\\program files\\python37\\lib\\site-packages\\pandas\\core\\series.py\u001b[0m in \u001b[0;36mapply\u001b[1;34m(self, func, convert_dtype, args, **kwds)\u001b[0m\n\u001b[0;32m   3589\u001b[0m             \u001b[1;32melse\u001b[0m\u001b[1;33m:\u001b[0m\u001b[1;33m\u001b[0m\u001b[1;33m\u001b[0m\u001b[0m\n\u001b[0;32m   3590\u001b[0m                 \u001b[0mvalues\u001b[0m \u001b[1;33m=\u001b[0m \u001b[0mself\u001b[0m\u001b[1;33m.\u001b[0m\u001b[0mastype\u001b[0m\u001b[1;33m(\u001b[0m\u001b[0mobject\u001b[0m\u001b[1;33m)\u001b[0m\u001b[1;33m.\u001b[0m\u001b[0mvalues\u001b[0m\u001b[1;33m\u001b[0m\u001b[1;33m\u001b[0m\u001b[0m\n\u001b[1;32m-> 3591\u001b[1;33m                 \u001b[0mmapped\u001b[0m \u001b[1;33m=\u001b[0m \u001b[0mlib\u001b[0m\u001b[1;33m.\u001b[0m\u001b[0mmap_infer\u001b[0m\u001b[1;33m(\u001b[0m\u001b[0mvalues\u001b[0m\u001b[1;33m,\u001b[0m \u001b[0mf\u001b[0m\u001b[1;33m,\u001b[0m \u001b[0mconvert\u001b[0m\u001b[1;33m=\u001b[0m\u001b[0mconvert_dtype\u001b[0m\u001b[1;33m)\u001b[0m\u001b[1;33m\u001b[0m\u001b[1;33m\u001b[0m\u001b[0m\n\u001b[0m\u001b[0;32m   3592\u001b[0m \u001b[1;33m\u001b[0m\u001b[0m\n\u001b[0;32m   3593\u001b[0m         \u001b[1;32mif\u001b[0m \u001b[0mlen\u001b[0m\u001b[1;33m(\u001b[0m\u001b[0mmapped\u001b[0m\u001b[1;33m)\u001b[0m \u001b[1;32mand\u001b[0m \u001b[0misinstance\u001b[0m\u001b[1;33m(\u001b[0m\u001b[0mmapped\u001b[0m\u001b[1;33m[\u001b[0m\u001b[1;36m0\u001b[0m\u001b[1;33m]\u001b[0m\u001b[1;33m,\u001b[0m \u001b[0mSeries\u001b[0m\u001b[1;33m)\u001b[0m\u001b[1;33m:\u001b[0m\u001b[1;33m\u001b[0m\u001b[1;33m\u001b[0m\u001b[0m\n",
      "\u001b[1;32mpandas\\_libs\\lib.pyx\u001b[0m in \u001b[0;36mpandas._libs.lib.map_infer\u001b[1;34m()\u001b[0m\n",
      "\u001b[1;31mValueError\u001b[0m: need at least one array to concatenate"
     ]
    }
   ],
   "source": [
    "newlist = df[\"Length\"].apply(np.concatenate)"
   ]
  },
  {
   "cell_type": "code",
   "execution_count": null,
   "metadata": {},
   "outputs": [],
   "source": []
  },
  {
   "cell_type": "code",
   "execution_count": null,
   "metadata": {},
   "outputs": [],
   "source": []
  },
  {
   "cell_type": "code",
   "execution_count": null,
   "metadata": {},
   "outputs": [],
   "source": []
  }
 ],
 "metadata": {
  "kernelspec": {
   "display_name": "Python 3",
   "language": "python",
   "name": "python3"
  },
  "language_info": {
   "codemirror_mode": {
    "name": "ipython",
    "version": 3
   },
   "file_extension": ".py",
   "mimetype": "text/x-python",
   "name": "python",
   "nbconvert_exporter": "python",
   "pygments_lexer": "ipython3",
   "version": "3.7.3"
  }
 },
 "nbformat": 4,
 "nbformat_minor": 2
}
