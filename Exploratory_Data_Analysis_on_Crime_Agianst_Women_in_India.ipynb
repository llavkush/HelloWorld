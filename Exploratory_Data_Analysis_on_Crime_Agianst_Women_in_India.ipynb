{
  "nbformat": 4,
  "nbformat_minor": 0,
  "metadata": {
    "colab": {
      "name": "Exploratory Data Analysis on Crime Agianst Women in India.ipynb",
      "provenance": [],
      "collapsed_sections": []
    },
    "kernelspec": {
      "name": "python3",
      "display_name": "Python 3"
    },
    "language_info": {
      "name": "python"
    }
  },
  "cells": [
    {
      "cell_type": "markdown",
      "metadata": {
        "id": "l2pfuiVSiW3A"
      },
      "source": [
        "# Crimes Against Women in India\n",
        "This data is collated from https://data.gov.in. It has state-wise and district level data on the various crimes committed against women between 2001 to 2014. Some crimes that are included are Rape, Kidnapping and Abduction, Dowry Deaths etc.\n",
        "\n"
      ]
    },
    {
      "cell_type": "code",
      "metadata": {
        "id": "C6Q_YZNQii3q"
      },
      "source": [
        "#Importing Required Libraries\n",
        "import pandas as pd\n",
        "import numpy as np\n",
        "import matplotlib.pyplot as plt\n",
        "import seaborn as sns\n",
        "%matplotlib inline"
      ],
      "execution_count": 67,
      "outputs": []
    },
    {
      "cell_type": "code",
      "metadata": {
        "id": "zLbp1JSInZZe"
      },
      "source": [
        "crime_df = pd.read_csv('/content/crimes_against_women_2001-2014.csv')"
      ],
      "execution_count": 68,
      "outputs": []
    },
    {
      "cell_type": "code",
      "metadata": {
        "colab": {
          "base_uri": "https://localhost:8080/",
          "height": 357
        },
        "id": "S1eA7okjnZlo",
        "outputId": "9f991078-a9b2-4bb3-c8ce-9e4f06d1dac4"
      },
      "source": [
        "crime_df.head()"
      ],
      "execution_count": 69,
      "outputs": [
        {
          "output_type": "execute_result",
          "data": {
            "text/html": [
              "<div>\n",
              "<style scoped>\n",
              "    .dataframe tbody tr th:only-of-type {\n",
              "        vertical-align: middle;\n",
              "    }\n",
              "\n",
              "    .dataframe tbody tr th {\n",
              "        vertical-align: top;\n",
              "    }\n",
              "\n",
              "    .dataframe thead th {\n",
              "        text-align: right;\n",
              "    }\n",
              "</style>\n",
              "<table border=\"1\" class=\"dataframe\">\n",
              "  <thead>\n",
              "    <tr style=\"text-align: right;\">\n",
              "      <th></th>\n",
              "      <th>Unnamed: 0</th>\n",
              "      <th>STATE/UT</th>\n",
              "      <th>DISTRICT</th>\n",
              "      <th>Year</th>\n",
              "      <th>Rape</th>\n",
              "      <th>Kidnapping and Abduction</th>\n",
              "      <th>Dowry Deaths</th>\n",
              "      <th>Assault on women with intent to outrage her modesty</th>\n",
              "      <th>Insult to modesty of Women</th>\n",
              "      <th>Cruelty by Husband or his Relatives</th>\n",
              "      <th>Importation of Girls</th>\n",
              "    </tr>\n",
              "  </thead>\n",
              "  <tbody>\n",
              "    <tr>\n",
              "      <th>0</th>\n",
              "      <td>0</td>\n",
              "      <td>ANDHRA PRADESH</td>\n",
              "      <td>ADILABAD</td>\n",
              "      <td>2001</td>\n",
              "      <td>50</td>\n",
              "      <td>30</td>\n",
              "      <td>16</td>\n",
              "      <td>149</td>\n",
              "      <td>34</td>\n",
              "      <td>175</td>\n",
              "      <td>0</td>\n",
              "    </tr>\n",
              "    <tr>\n",
              "      <th>1</th>\n",
              "      <td>1</td>\n",
              "      <td>ANDHRA PRADESH</td>\n",
              "      <td>ANANTAPUR</td>\n",
              "      <td>2001</td>\n",
              "      <td>23</td>\n",
              "      <td>30</td>\n",
              "      <td>7</td>\n",
              "      <td>118</td>\n",
              "      <td>24</td>\n",
              "      <td>154</td>\n",
              "      <td>0</td>\n",
              "    </tr>\n",
              "    <tr>\n",
              "      <th>2</th>\n",
              "      <td>2</td>\n",
              "      <td>ANDHRA PRADESH</td>\n",
              "      <td>CHITTOOR</td>\n",
              "      <td>2001</td>\n",
              "      <td>27</td>\n",
              "      <td>34</td>\n",
              "      <td>14</td>\n",
              "      <td>112</td>\n",
              "      <td>83</td>\n",
              "      <td>186</td>\n",
              "      <td>0</td>\n",
              "    </tr>\n",
              "    <tr>\n",
              "      <th>3</th>\n",
              "      <td>3</td>\n",
              "      <td>ANDHRA PRADESH</td>\n",
              "      <td>CUDDAPAH</td>\n",
              "      <td>2001</td>\n",
              "      <td>20</td>\n",
              "      <td>20</td>\n",
              "      <td>17</td>\n",
              "      <td>126</td>\n",
              "      <td>38</td>\n",
              "      <td>57</td>\n",
              "      <td>0</td>\n",
              "    </tr>\n",
              "    <tr>\n",
              "      <th>4</th>\n",
              "      <td>4</td>\n",
              "      <td>ANDHRA PRADESH</td>\n",
              "      <td>EAST GODAVARI</td>\n",
              "      <td>2001</td>\n",
              "      <td>23</td>\n",
              "      <td>26</td>\n",
              "      <td>12</td>\n",
              "      <td>109</td>\n",
              "      <td>58</td>\n",
              "      <td>247</td>\n",
              "      <td>0</td>\n",
              "    </tr>\n",
              "  </tbody>\n",
              "</table>\n",
              "</div>"
            ],
            "text/plain": [
              "   Unnamed: 0  ... Importation of Girls\n",
              "0           0  ...                    0\n",
              "1           1  ...                    0\n",
              "2           2  ...                    0\n",
              "3           3  ...                    0\n",
              "4           4  ...                    0\n",
              "\n",
              "[5 rows x 11 columns]"
            ]
          },
          "metadata": {
            "tags": []
          },
          "execution_count": 69
        }
      ]
    },
    {
      "cell_type": "code",
      "metadata": {
        "colab": {
          "base_uri": "https://localhost:8080/"
        },
        "id": "iCdzhnn_nZnk",
        "outputId": "e14f76ba-7e5b-4c8b-db53-80cdaa6937d1"
      },
      "source": [
        "crime_df.shape"
      ],
      "execution_count": 70,
      "outputs": [
        {
          "output_type": "execute_result",
          "data": {
            "text/plain": [
              "(10677, 11)"
            ]
          },
          "metadata": {
            "tags": []
          },
          "execution_count": 70
        }
      ]
    },
    {
      "cell_type": "markdown",
      "metadata": {
        "id": "BTGZNy_YAYsF"
      },
      "source": [
        "This Dataset contains 11 columns and 10677 rows."
      ]
    },
    {
      "cell_type": "markdown",
      "metadata": {
        "id": "OCscK906o0R3"
      },
      "source": [
        "## Data Preparation and Cleaning"
      ]
    },
    {
      "cell_type": "markdown",
      "metadata": {
        "id": "UEquZ64PpFL2"
      },
      "source": [
        "To start Cleaning of data Lets find out missing values in the dataframe."
      ]
    },
    {
      "cell_type": "code",
      "metadata": {
        "colab": {
          "base_uri": "https://localhost:8080/"
        },
        "id": "uOhAihxfnZqr",
        "outputId": "4bd7b529-f45e-46d9-ed7f-79a67419da4a"
      },
      "source": [
        "crime_df.info()"
      ],
      "execution_count": 71,
      "outputs": [
        {
          "output_type": "stream",
          "text": [
            "<class 'pandas.core.frame.DataFrame'>\n",
            "RangeIndex: 10677 entries, 0 to 10676\n",
            "Data columns (total 11 columns):\n",
            " #   Column                                               Non-Null Count  Dtype \n",
            "---  ------                                               --------------  ----- \n",
            " 0   Unnamed: 0                                           10677 non-null  int64 \n",
            " 1   STATE/UT                                             10677 non-null  object\n",
            " 2   DISTRICT                                             10677 non-null  object\n",
            " 3   Year                                                 10677 non-null  int64 \n",
            " 4   Rape                                                 10677 non-null  int64 \n",
            " 5   Kidnapping and Abduction                             10677 non-null  int64 \n",
            " 6   Dowry Deaths                                         10677 non-null  int64 \n",
            " 7   Assault on women with intent to outrage her modesty  10677 non-null  int64 \n",
            " 8   Insult to modesty of Women                           10677 non-null  int64 \n",
            " 9   Cruelty by Husband or his Relatives                  10677 non-null  int64 \n",
            " 10  Importation of Girls                                 10677 non-null  int64 \n",
            "dtypes: int64(9), object(2)\n",
            "memory usage: 917.7+ KB\n"
          ],
          "name": "stdout"
        }
      ]
    },
    {
      "cell_type": "code",
      "metadata": {
        "colab": {
          "base_uri": "https://localhost:8080/"
        },
        "id": "sFONlWLOnZwH",
        "outputId": "4bfbe771-dcc6-4b64-d516-9759cb3be089"
      },
      "source": [
        "crime_df.isna().sum()"
      ],
      "execution_count": 72,
      "outputs": [
        {
          "output_type": "execute_result",
          "data": {
            "text/plain": [
              "Unnamed: 0                                             0\n",
              "STATE/UT                                               0\n",
              "DISTRICT                                               0\n",
              "Year                                                   0\n",
              "Rape                                                   0\n",
              "Kidnapping and Abduction                               0\n",
              "Dowry Deaths                                           0\n",
              "Assault on women with intent to outrage her modesty    0\n",
              "Insult to modesty of Women                             0\n",
              "Cruelty by Husband or his Relatives                    0\n",
              "Importation of Girls                                   0\n",
              "dtype: int64"
            ]
          },
          "metadata": {
            "tags": []
          },
          "execution_count": 72
        }
      ]
    },
    {
      "cell_type": "markdown",
      "metadata": {
        "id": "HDf9R_SbpiO7"
      },
      "source": [
        "None of the columns has missing values"
      ]
    },
    {
      "cell_type": "code",
      "metadata": {
        "colab": {
          "base_uri": "https://localhost:8080/"
        },
        "id": "yVoX4AHIBjCU",
        "outputId": "d9b8ebb0-829c-446b-cee7-b62276e85c50"
      },
      "source": [
        "state = list(crime_df['STATE/UT'].unique())\n",
        "len(state)\n",
        "print(state)"
      ],
      "execution_count": 73,
      "outputs": [
        {
          "output_type": "stream",
          "text": [
            "['ANDHRA PRADESH', 'ARUNACHAL PRADESH', 'ASSAM', 'BIHAR', 'CHHATTISGARH', 'GOA', 'GUJARAT', 'HARYANA', 'HIMACHAL PRADESH', 'JAMMU & KASHMIR', 'JHARKHAND', 'KARNATAKA', 'KERALA', 'MADHYA PRADESH', 'MAHARASHTRA', 'MANIPUR', 'MEGHALAYA', 'MIZORAM', 'NAGALAND', 'ODISHA', 'PUNJAB', 'RAJASTHAN', 'SIKKIM', 'TAMIL NADU', 'TRIPURA', 'UTTAR PRADESH', 'UTTARAKHAND', 'WEST BENGAL', 'A & N ISLANDS', 'CHANDIGARH', 'D & N HAVELI', 'DAMAN & DIU', 'DELHI', 'LAKSHADWEEP', 'PUDUCHERRY', 'Andhra Pradesh', 'Arunachal Pradesh', 'Assam', 'Bihar', 'Chhattisgarh', 'Goa', 'Gujarat', 'Haryana', 'Himachal Pradesh', 'Jammu & Kashmir', 'Jharkhand', 'Karnataka', 'Kerala', 'Madhya Pradesh', 'Maharashtra', 'Manipur', 'Meghalaya', 'Mizoram', 'Nagaland', 'Odisha', 'Punjab', 'Rajasthan', 'Sikkim', 'Tamil Nadu', 'Tripura', 'Uttar Pradesh', 'Uttarakhand', 'West Bengal', 'A&N Islands', 'Chandigarh', 'D&N Haveli', 'Daman & Diu', 'Delhi UT', 'Lakshadweep', 'Puducherry', 'Telangana', 'A & N Islands']\n"
          ],
          "name": "stdout"
        }
      ]
    },
    {
      "cell_type": "markdown",
      "metadata": {
        "id": "rce68lUuDHPx"
      },
      "source": [
        "We can see from above that there are lot many repeated states, like some of them are repeated again by using capital letters and some of them have issues with space too, like A&N Islands and also Delhi has been repeated again by mentioning it as Delhi UT"
      ]
    },
    {
      "cell_type": "code",
      "metadata": {
        "id": "f6xHFcf5DES_"
      },
      "source": [
        "def remove_uppercase(r):\n",
        "    r = r['STATE/UT'].strip()\n",
        "    r = r.upper()\n",
        "    return r\n",
        "crime_df['STATE/UT'] = crime_df.apply(remove_uppercase, axis=1)\n",
        "\n",
        "#Now use replace function to replace the other type of repeated datas as dicussed above\n",
        "crime_df['STATE/UT'].replace(\"A&N ISLANDS\", \"A & N ISLANDS\", inplace = True)\n",
        "crime_df['STATE/UT'].replace(\"D&N HAVELI\", \"D & N HAVELI\", inplace = True)\n",
        "crime_df['STATE/UT'].replace(\"DELHI UT\", \"DELHI\", inplace = True)"
      ],
      "execution_count": 74,
      "outputs": []
    },
    {
      "cell_type": "code",
      "metadata": {
        "colab": {
          "base_uri": "https://localhost:8080/"
        },
        "id": "9Tpq5AR4Dj5l",
        "outputId": "8bda0622-09d8-4fdf-d2bd-262f99e9e851"
      },
      "source": [
        "list(crime_df['STATE/UT'].unique())"
      ],
      "execution_count": 75,
      "outputs": [
        {
          "output_type": "execute_result",
          "data": {
            "text/plain": [
              "['ANDHRA PRADESH',\n",
              " 'ARUNACHAL PRADESH',\n",
              " 'ASSAM',\n",
              " 'BIHAR',\n",
              " 'CHHATTISGARH',\n",
              " 'GOA',\n",
              " 'GUJARAT',\n",
              " 'HARYANA',\n",
              " 'HIMACHAL PRADESH',\n",
              " 'JAMMU & KASHMIR',\n",
              " 'JHARKHAND',\n",
              " 'KARNATAKA',\n",
              " 'KERALA',\n",
              " 'MADHYA PRADESH',\n",
              " 'MAHARASHTRA',\n",
              " 'MANIPUR',\n",
              " 'MEGHALAYA',\n",
              " 'MIZORAM',\n",
              " 'NAGALAND',\n",
              " 'ODISHA',\n",
              " 'PUNJAB',\n",
              " 'RAJASTHAN',\n",
              " 'SIKKIM',\n",
              " 'TAMIL NADU',\n",
              " 'TRIPURA',\n",
              " 'UTTAR PRADESH',\n",
              " 'UTTARAKHAND',\n",
              " 'WEST BENGAL',\n",
              " 'A & N ISLANDS',\n",
              " 'CHANDIGARH',\n",
              " 'D & N HAVELI',\n",
              " 'DAMAN & DIU',\n",
              " 'DELHI',\n",
              " 'LAKSHADWEEP',\n",
              " 'PUDUCHERRY',\n",
              " 'TELANGANA']"
            ]
          },
          "metadata": {
            "tags": []
          },
          "execution_count": 75
        }
      ]
    },
    {
      "cell_type": "code",
      "metadata": {
        "colab": {
          "base_uri": "https://localhost:8080/"
        },
        "id": "53tdzd9RDphR",
        "outputId": "368c90b6-8665-4641-a049-45366b160a5b"
      },
      "source": [
        "len(list(crime_df['STATE/UT'].unique()))"
      ],
      "execution_count": 76,
      "outputs": [
        {
          "output_type": "execute_result",
          "data": {
            "text/plain": [
              "36"
            ]
          },
          "metadata": {
            "tags": []
          },
          "execution_count": 76
        }
      ]
    },
    {
      "cell_type": "markdown",
      "metadata": {
        "id": "nIimlgPTDuSF"
      },
      "source": [
        "Now this data represent total 36 states "
      ]
    },
    {
      "cell_type": "code",
      "metadata": {
        "colab": {
          "base_uri": "https://localhost:8080/"
        },
        "id": "Pu4zhIaanZyk",
        "outputId": "c762e03c-7079-45be-8bb2-e2c6ae6eaffc"
      },
      "source": [
        "district = (crime_df.DISTRICT.unique())\n",
        "print(district)\n",
        "print(len(district))\n"
      ],
      "execution_count": 77,
      "outputs": [
        {
          "output_type": "stream",
          "text": [
            "['ADILABAD' 'ANANTAPUR' 'CHITTOOR' ... 'Lakshadweep' 'Karaikal'\n",
            " 'Puducherry']\n",
            "1605\n"
          ],
          "name": "stdout"
        }
      ]
    },
    {
      "cell_type": "markdown",
      "metadata": {
        "id": "s5v7Y1x-FIri"
      },
      "source": [
        "Some district are repeated like states, applying the same processing to District column and removing the inconsistency across the data "
      ]
    },
    {
      "cell_type": "code",
      "metadata": {
        "id": "-i8PotxyERW6"
      },
      "source": [
        "def remove_uppercase(r):\n",
        "    r = r['DISTRICT'].strip()\n",
        "    r = r.upper()\n",
        "    return r\n",
        "crime_df['DISTRICT'] = crime_df.apply(remove_uppercase, axis=1)\n"
      ],
      "execution_count": 78,
      "outputs": []
    },
    {
      "cell_type": "code",
      "metadata": {
        "colab": {
          "base_uri": "https://localhost:8080/"
        },
        "id": "wM32AhIbElR4",
        "outputId": "7ced217e-651f-4643-80c1-4e98d3c6bac0"
      },
      "source": [
        "district = (crime_df.DISTRICT.unique())\n",
        "print(district)"
      ],
      "execution_count": 79,
      "outputs": [
        {
          "output_type": "stream",
          "text": [
            "['ADILABAD' 'ANANTAPUR' 'CHITTOOR' 'CUDDAPAH' 'EAST GODAVARI'\n",
            " 'GUNTAKAL RLY.' 'GUNTUR' 'HYDERABAD CITY' 'KARIMNAGAR' 'KHAMMAM'\n",
            " 'KRISHNA' 'KURNOOL' 'MAHABOOBNAGAR' 'MEDAK' 'NALGONDA' 'NELLORE'\n",
            " 'NIZAMABAD' 'PRAKASHAM' 'RANGA REDDY' 'SECUNDERABAD RLY.' 'SRIKAKULAM'\n",
            " 'VIJAYAWADA' 'VIJAYAWADA RLY.' 'VISAKHA RURAL' 'VISAKHAPATNAM'\n",
            " 'VIZIANAGARAM' 'WARANGAL' 'WEST GODAVARI' 'TOTAL' 'CHANGLANG'\n",
            " 'DIBANG VALLEY' 'KAMENG EAST' 'KAMENG WEST' 'LOHIT' 'PAPUM PARE'\n",
            " 'SIANG EAST' 'SIANG UPPER' 'SIANG WEST' 'SUBANSIRI LOWER'\n",
            " 'SUBANSIRI UPPER' 'TAWANG' 'TIRAP' 'BARPETA' 'BONGAIGAON' 'C.I.D.'\n",
            " 'CACHAR' 'DARRANG' 'DHEMAJI' 'DHUBRI' 'DIBRUGARH' 'G.R.P.' 'GOALPARA'\n",
            " 'GOLAGHAT' 'GUWAHATI CITY' 'HAILAKANDI' 'JORHAT' 'KAMRUP' 'KARBI ANGLONG'\n",
            " 'KARIMGANJ' 'KOKRAJHAR' 'LAKHIMPUR' 'MORIGAON' 'N.C.HILLS' 'NAGAON'\n",
            " 'NALBARI' 'R.P.O.' 'SIBSAGAR' 'SONITPUR' 'TINSUKIA' 'ARARIA' 'ARWAL'\n",
            " 'AURANGABAD' 'BAGAHA' 'BANKA' 'BEGUSARAI' 'BETTIAH' 'BHABHUA' 'BHAGALPUR'\n",
            " 'BHOJPUR' 'BUXAR' 'DARBHANGA' 'GAYA' 'GOPALGANJ' 'JAMALPUR RLY.' 'JAMUI'\n",
            " 'JEHANABAD' 'KATIHAR' 'KATIHAR RLY.' 'KHAGARIA' 'KISHANGANJ' 'LAKHISARAI'\n",
            " 'MADHEPURA' 'MADHUBANI' 'MOTIHARI' 'MUNGER' 'MUZAFFARPUR'\n",
            " 'MUZAFFARPUR RLY.' 'NALANDA' 'NAUGACHIA' 'NAWADAH' 'PATNA' 'PATNA RLY.'\n",
            " 'PURNEA' 'ROHTAS' 'SAHARSA' 'SAMASTIPUR' 'SARAN' 'SHEIKHPURA' 'SHEOHAR'\n",
            " 'SITAMARHI' 'SIWAN' 'SUPAUL' 'VAISHALI' 'BALRAMPUR' 'BILASPUR' 'BIZAPUR'\n",
            " 'DANTEWARA' 'DHAMTARI' 'DURG' 'GRP RAIPUR' 'JAGDALPUR' 'JANJGIR'\n",
            " 'JASHPUR' 'KANKER' 'KAWARDHA' 'KORBA' 'KORIYA' 'MAHASAMUND' 'RAIGARH'\n",
            " 'RAIPUR' 'RAJNANDGAON' 'SARGUJA' 'NORTH GOA' 'SOUTH GOA'\n",
            " 'AHMEDABAD COMMR.' 'AHMEDABAD RURAL' 'AHWA-DANG' 'AMRELI' 'ANAND'\n",
            " 'BHARUCH' 'BHAVNAGAR' 'DAHOD' 'GANDHINAGAR' 'HIMATNAGAR' 'JAMNAGAR'\n",
            " 'JUNAGADH' 'KHEDA NORTH' 'KUTCH' 'MEHSANA' 'NARMADA' 'NAVSARI' 'PALANPUR'\n",
            " 'PANCHMAHAL' 'PATAN' 'PORBANDAR' 'RAJKOT COMMR.' 'RAJKOT RURAL'\n",
            " 'SURAT COMMR.' 'SURAT RURAL' 'SURENDRANAGAR' 'VADODARA COMMR.'\n",
            " 'VADODARA RURAL' 'VALSAD' 'W.RLY' 'AMBALA' 'BHIWANI' 'FARIDABAD'\n",
            " 'FATEHABAD' 'GRP' 'GURGAON' 'HISSAR' 'JHAJJAR' 'JIND' 'KAITHAL' 'KARNAL'\n",
            " 'KURUKSHETRA' 'MAHENDRAGARH' 'PANCHKULA' 'PANIPAT' 'REWARI' 'ROHTAK'\n",
            " 'SIRSA' 'SONIPAT' 'YAMUNANAGAR' 'CHAMBA' 'HAMIRPUR' 'KANGRA' 'KINNAUR'\n",
            " 'KULLU' 'LAHAUL-SPITI' 'MANDI' 'SHIMLA' 'SIRMAUR' 'SOLAN' 'UNA'\n",
            " 'ANANTNAG' 'AWANTIPORA' 'BARAMULLA' 'BORDER' 'BUDGAM' 'CRIME JAMMU'\n",
            " 'CRIME SRINAGAR' 'DODA' 'GANDERBAL' 'JAMMU' 'KARGIL' 'KATHUA' 'KULGAM'\n",
            " 'KUPWARA' 'LEH' 'POONCH' 'PULWAMA' 'RAILWAYS' 'RAJOURI' 'RAMBAN' 'REASI'\n",
            " 'SRINAGAR' 'UDHAMPUR' 'BOKARO' 'CHAIBASA' 'CHATRA' 'DEOGHAR' 'DHANBAD'\n",
            " 'DHANBAD RLY.' 'DUMKA' 'GARHWA' 'GIRIDIH' 'GODDA' 'GUMLA' 'HAZARIBAGH'\n",
            " 'JAMSHEDPUR' 'JAMSHEDPUR RLY.' 'JAMTARA' 'KODERMA' 'LATEHAR' 'LOHARDAGGA'\n",
            " 'PAKUR' 'PALAMU' 'RANCHI' 'SAHEBGANJ' 'SARAIKELA' 'SIMDEGA' 'BAGALKOT'\n",
            " 'BANGALORE COMMR.' 'BANGALORE RURAL' 'BELGAUM' 'BELLARY' 'BIDAR'\n",
            " 'BIJAPUR' 'CHAMARAJNAGAR' 'CHICKMAGALUR' 'CHITRADURGA' 'DAKSHIN KANNADA'\n",
            " 'DAVANAGERE' 'DHARWAD COMMR.' 'DHARWAD RURAL' 'GADAG' 'GULBARGA' 'HASSAN'\n",
            " 'HAVERI' 'K.G.F.' 'KODAGU' 'KOLAR' 'KOPPAL' 'MANDYA' 'MYSORE COMMR.'\n",
            " 'MYSORE RURAL' 'RAICHUR' 'SHIMOGA' 'TUMKUR' 'UDUPI' 'UTTAR KANNADA'\n",
            " 'ALAPUZHA' 'CBCID' 'ERNAKULAM' 'IDUKKI' 'KANNUR' 'KASARGOD' 'KOLLAM'\n",
            " 'KOTTAYAM' 'KOZHIKODE' 'MALAPPURAM' 'PALAKKAD' 'PATHANAMTHITTA'\n",
            " 'THRISSUR' 'TRIVANDRUM' 'WAYANADU' 'BALAGHAT' 'BARWANI' 'BETUL' 'BHIND'\n",
            " 'BHOPAL' 'BHOPAL RLY.' 'CHHATARPUR' 'CHHINDWARA' 'DAMOH' 'DATIYA' 'DEWAS'\n",
            " 'DHAR' 'DINDORI' 'GUNA' 'GWALIOR' 'HARDA' 'HOSHANGABAD' 'INDORE'\n",
            " 'INDORE RLY.' 'JABALPUR' 'JABALPUR RLY.' 'JHABUA' 'KATNI' 'KHANDWA'\n",
            " 'KHARGON' 'MANDLA' 'MANDSAUR' 'MORENA' 'NARSINGHPUR' 'NEEMUCH' 'PANNA'\n",
            " 'RAISEN' 'RAJGARH' 'RATLAM' 'REWA' 'SAGAR' 'SATNA' 'SEONI' 'SHAHDOL'\n",
            " 'SHAJAPUR' 'SHEOPUR' 'SHIVPURI' 'SIDHI' 'SIHORE' 'TIKAMGARH' 'UJJAIN'\n",
            " 'UMARIYA' 'VIDISHA' 'AHMEDNAGAR' 'AKOLA' 'AMRAVATI COMMR.'\n",
            " 'AMRAVATI RURAL' 'AURANGABAD COMMR.' 'AURANGABAD RURAL' 'BEED' 'BHANDARA'\n",
            " 'BULDHANA' 'CHANDRAPUR' 'DHULE' 'GADCHIROLI' 'GONDIA' 'HINGOLI' 'JALGAON'\n",
            " 'JALNA' 'KOLHAPUR' 'LATUR' 'MUMBAI' 'MUMBAI RLY.' 'NAGPUR COMMR.'\n",
            " 'NAGPUR RLY.' 'NAGPUR RURAL' 'NANDED' 'NANDURBAR' 'NASIK COMMR.'\n",
            " 'NASIK RURAL' 'NAVI MUMBAI' 'OSMANABAD' 'PARBHANI' 'PUNE COMMR.'\n",
            " 'PUNE RLY.' 'PUNE RURAL' 'RAIGAD' 'RATNAGIRI' 'SANGLI' 'SATARA'\n",
            " 'SINDHUDURG' 'SOLAPUR COMMR.' 'SOLAPUR RURAL' 'THANE COMMR.'\n",
            " 'THANE RURAL' 'WARDHA' 'WASHIM' 'YAVATMAL' 'BISHNUPUR' 'CHANDEL'\n",
            " 'CHURACHANDPUR' 'IMPHAL(EAST)' 'IMPHAL(WEST)' 'SENAPATI' 'TAMENGLONG'\n",
            " 'THOUBAL' 'UKHRUL' 'GARO HILLS EAST' 'GARO HILLS SOUTH' 'GARO HILLS WEST'\n",
            " 'JAINTIA HILLS' 'KHASI HILLS EAST' 'KHASI HILLS WEST' 'RI-BHOI' 'AIZAWL'\n",
            " 'CHAMPHAI' 'KOLASIB' 'LAWNGTLAI' 'LUNGLEI' 'MAMIT' 'SAIHA' 'SERCHHIP'\n",
            " 'DIMAPUR' 'KIPHIRE' 'KOHIMA' 'MOKOKCHUNG' 'MON' 'PEREN' 'PHEK' 'TUENSANG'\n",
            " 'WOKHA' 'ZUNHEBOTO' 'ANGUL' 'BALASORE' 'BARAGARH' 'BERHAMPUR' 'BHADRAK'\n",
            " 'BOLANGIR' 'BOUDH' 'CUTTACK' 'DEOGARH' 'DHENKANAL' 'GAJAPATI' 'GANJAM'\n",
            " 'JAGATSINGHPUR' 'JAJPUR' 'JHARSUGUDA' 'KALAHANDI' 'KANDHAMAL'\n",
            " 'KENDRAPARA' 'KEONJHAR' 'KHURDA' 'KORAPUT' 'MALKANGIR' 'MAYURBHANJ'\n",
            " 'NAYAGARH' 'NOWRANGPUR' 'NUAPADA' 'PURI' 'RAYAGADA' 'ROURKELA'\n",
            " 'SAMBALPUR' 'SONEPUR' 'SRP(CUTTACK)' 'SRP(ROURKELA)' 'SUNDARGARH'\n",
            " 'AMRITSAR' 'BARNALA' 'BATALA' 'BHATINDA' 'FARIDKOT' 'FATEHGARH SAHIB'\n",
            " 'FEROZEPUR' 'G.R.P' 'GURDASPUR' 'HOSHIARPUR' 'JAGRAON' 'JALANDHAR'\n",
            " 'KAPURTHALA' 'KHANNA' 'LUDHIANA' 'MAJITHA' 'MANSA' 'MOGA' 'MUKTSAR'\n",
            " 'NAWAN SHAHR' 'PATIALA' 'ROPAR' 'SANGRUR' 'TARN TARAN' 'AJMER' 'ALWAR'\n",
            " 'BANSWARA' 'BARAN' 'BARMER' 'BHARATPUR' 'BHILWARA' 'BIKANER' 'BUNDI'\n",
            " 'CHITTORGARH' 'CHURU' 'DAUSA' 'DHOLPUR' 'DUNGARPUR' 'GANGANAGAR'\n",
            " 'HANUMANGARH' 'JAIPUR' 'JAISALMER' 'JALORE' 'JHALAWAR' 'JHUNJHUNU'\n",
            " 'JODHPUR' 'KARAULI' 'KOTA' 'NAGAUR' 'PALI' 'RAJSAMAND' 'SAWAI MADHOPUR'\n",
            " 'SIKAR' 'SIROHI' 'TONK' 'UDAIPUR' 'EAST' 'NORTH' 'SOUTH' 'WEST'\n",
            " 'ARIYALUR' 'CHENGAI' 'CHENNAI' 'CHENNAI RLY.' 'COIMBATORE RURAL'\n",
            " 'COIMBATORE URBAN' 'CUDDALORE' 'DHARMAPURI' 'DINDIGUL' 'ERODE'\n",
            " 'KANCHIPURAM' 'KANYAKUMARI' 'KARUR' 'MADURAI RURAL' 'MADURAI URBAN'\n",
            " 'NAGAPATTINAM' 'NAMAKKAL' 'NILGIRIS' 'PERAMBALUR' 'PUDUKOTTAI'\n",
            " 'RAMNATHAPURAM' 'SALEM RURAL' 'SALEM URBAN' 'SIVAGANGAI' 'THANJAVUR'\n",
            " 'THENI' 'THIRUNELVELI RURAL' 'THIRUNELVELI URBAN' 'THIRUVALLUR'\n",
            " 'THIRUVANNAMALAI' 'THIRUVARUR' 'THOOTHUGUDI' 'TRICHY RLY.' 'TRICHY RURAL'\n",
            " 'TRICHY URBAN' 'VELLORE' 'VILLUPURAM' 'VIRUDHUNAGAR' 'DHALAI' 'AGRA'\n",
            " 'ALIGARH' 'ALLAHABAD' 'AMBEDKAR NAGAR' 'AURAIYA' 'AZAMGARH' 'BADAUN'\n",
            " 'BAGHPAT' 'BAHRAICH' 'BALLIA' 'BANDA' 'BARABANKI' 'BAREILLY' 'BASTI'\n",
            " 'BIJNOR' 'BULANDSHAHAR' 'CHANDOLI' 'CHITRAKOOT DHAM' 'DEORIA' 'ETAH'\n",
            " 'ETAWAH' 'FAIZABAD' 'FATEHGARH' 'FATEHPUR' 'FIROZABAD' 'GAUTAMBUDH NAGAR'\n",
            " 'GHAZIABAD' 'GHAZIPUR' 'GONDA' 'GORAKHPUR' 'HARDOI' 'HATHRAS' 'J.P.NAGAR'\n",
            " 'JALAUN' 'JAUNPUR' 'JHANSI' 'KANNAUJ' 'KANPUR DEHAT' 'KANPUR NAGAR'\n",
            " 'KAUSHAMBI' 'KHIRI' 'KUSHI NAGAR' 'LALITPUR' 'LUCKNOW' 'MAHARAJGANJ'\n",
            " 'MAHOBA' 'MAINPURI' 'MATHURA' 'MAU' 'MEERUT' 'MIRZAPUR' 'MORADABAD'\n",
            " 'MUZAFFARNAGAR' 'PILIBHIT' 'PRATAPGARH' 'RAIBAREILLY' 'RAMPUR'\n",
            " 'SAHARANPUR' 'SANT KABIRNAGAR' 'SHAHJAHANPUR' 'SHRAWASTI' 'SIDHARTHNAGAR'\n",
            " 'SITAPUR' 'SONBHADRA' 'ST.RAVIDASNAGAR' 'SULTANPUR' 'UNNAO' 'VARANASI'\n",
            " 'ALMORA' 'BAGESHWAR' 'CHAMOLI' 'CHAMPAWAT' 'DEHRADUN' 'HARIDWAR'\n",
            " 'NAINITAL' 'PAURI GARHWAL' 'PITHORAGARH' 'RUDRA PRAYAG' 'TEHRI GARHWAL'\n",
            " 'UDHAMSINGH NAGAR' 'UTTARKASHI' '24 PARGANAS NORTH' '24 PARGANAS SOUTH'\n",
            " 'ASANSOL' 'BANKURA' 'BIRBHUM' 'BURDWAN' 'COOCHBEHAR' 'DAKSHIN DINAJPUR'\n",
            " 'DARJEELING' 'HOOGHLY' 'HOWRAH' 'HOWRAH CITY' 'HOWRAH G.R.P.'\n",
            " 'JALPAIGURI' 'KOLKATA' 'MALDA' 'MIDNAPUR' 'MURSHIDABAD' 'NADIA' 'PURULIA'\n",
            " 'SEALDAH G.R.P.' 'SILIGURI G.R.P.' 'UTTAR DINAJPUR' 'ANDAMAN' 'NICOBAR'\n",
            " 'CHANDIGARH' 'D AND N HAVELI' 'DAMAN' 'DIU' 'CENTRAL' 'DELHI UT TOTAL'\n",
            " 'G.R.P.(RLY)' 'I.G.I. AIRPORT' 'NEW DELHI' 'NORTH EAST' 'NORTH WEST'\n",
            " 'S.T.F.' 'SOUTH WEST' 'LAKSHADWEEP' 'PONDICHERRY' 'KABIRDHAM' 'HANDWARA'\n",
            " 'KHARAGPUR G.R.P.' 'PASCHIM MIDNAPUR' 'PURAB MIDNAPUR' 'SPL CELL'\n",
            " 'CYBERABAD' 'K/KUMEY' 'UPPER DIBANG VALLEY' 'NARAYANPUR'\n",
            " 'ERNAKULAM COMMR.' 'ERNAKULAM RURAL' 'KOZHIKODE COMMR.' 'KOZHIKODE RURAL'\n",
            " 'TRIVANDRUM COMMR.' 'TRIVANDRUM RURAL' 'ANUPPUR' 'ASHOK NAGAR'\n",
            " 'BURHANPUR' 'KRISHNAGIRI' 'BASKA' 'CHIRANG' 'UDALGURI' 'SURAJPUR' 'MEWAT'\n",
            " 'FEROZPUR' 'VILUPPURAM' 'IGI AIRPORT' 'NORTH-EAST' 'NORTH-WEST'\n",
            " 'SOUTH-WEST' 'VIJAYAWADA CITY' 'PALWAL' 'BORDER DISTRICT' 'MUMBAI COMMR.'\n",
            " 'IMPHAL EAST' 'IMPHAL WEST' 'SAS NGR' 'JAIPUR EAST' 'JAIPUR NORTH'\n",
            " 'JAIPUR RURAL' 'JAIPUR SOUTH' 'JODHPUR CITY' 'JODHPUR RURAL' 'KOTA CITY'\n",
            " 'KOTA RURAL' 'GRP(RLY)' 'STF' 'KARAIKAL' 'KHUNTI' 'RAMGARH' 'LONGLENG'\n",
            " 'AMRITSAR RURAL' 'A AND N ISLANDS' 'OUTER' 'TAPI' 'BANDIPORA' 'KISHTWAR'\n",
            " 'SAMBA' 'SHOPIAN' 'CBPURA' 'RAMANAGAR' 'ALIRAJPUR' 'SINGRAULI' 'CID'\n",
            " 'DCP BBSR' 'DCP CTC' 'LUDHIANA RURAL' 'SBS NAGAR' 'CHENNAISUBURBAN'\n",
            " 'KANSHIRAM NAGAR' 'CAW' 'CRIME BRANCH' 'EOW' 'SOUTH-EAST' 'PUDUCHERRY'\n",
            " 'ANJAW' 'BADDIPOLICEDIST' 'RAILWAYS KMR' 'TIRUPPUR' 'GUNTUR URBAN'\n",
            " 'RAJAHMUNDRY' 'TIRUPATHI URBAN' 'WARANGAL URBAN' 'RURAL' 'CID CRIME'\n",
            " 'CRIME KASHMIR' 'SOPORE' 'YADGIRI' 'CP AMRITSAR' 'CP JALANDHAR'\n",
            " 'CP LUDHIANA' 'JALANDHAR RURAL' 'G.R.P. AJMER' 'G.R.P. JODHPUR'\n",
            " 'CSM NAGAR' 'RAMABAI NAGAR' 'GARIYABAND' 'KUTCH (EAST(G))'\n",
            " 'KUTCH (WEST-BHUJ)' 'W.RLY AHMEDABAD' 'W.RLY VADODARA' 'RAILWAYS JAMMU'\n",
            " 'RAILWAYS KASHMIR' 'MANGALORE CITY' 'KOLLAM COMMR.' 'KOLLAM RURAL'\n",
            " 'THRISSUR COMMR.' 'THRISSUR RURAL' 'FAZILKA' 'PATHANKOT' 'G.R.P.AJMER'\n",
            " 'G.R.P.JODHPUR' 'JAIPUR WEST' 'BHIM NAGAR' 'PANCHSHIL NAGAR'\n",
            " 'PRABUDDH NAGAR' 'BAKSA' 'BIEO' 'HAMREN' 'BALOD' 'BALODA BAZAR'\n",
            " 'BEMETARA' 'KONDAGAON' 'MUNGELI' 'SUKMA' 'AMBALA RURAL' 'AMBALA URBAN'\n",
            " 'RAILWAYS KATRA' 'JODHPUR EAST' 'JODHPUR WEST' 'GOMATI' 'KHOWAI'\n",
            " 'SIPAHIJALA' 'UNAKOTI' 'BDN CP' 'BKP CP' 'JHARGRAM' 'SILIGURI_PC' 'CAR'\n",
            " 'ZZ TOTAL' 'LONGDING' 'I&P HARYANA' 'AGAR' 'GARO HILLS NORTH'\n",
            " 'GARO HILLS SOUTH W.' 'JAINTIA HILLS EAST' 'JAINTIA HILLS WEST'\n",
            " 'KHASI HILLS SOUTH W.' 'SPL NARCOTIC' 'TRAFFIC PS' 'DISCOM' 'AMETHI'\n",
            " 'AMROHA' 'HAPUR' 'KASGANJ' 'SAMBHAL' 'SHAMLI' 'D&N HAVELI' 'METRO RAIL'\n",
            " 'GUNTAKAL RAILWAY' 'VIJAYAWADA RAILWAY' 'TOTAL DISTRICT(S)'\n",
            " 'KURUNG KUMEY' 'LOWER DIBANG VALLEY' 'PAPUM PARE CITY' 'PAPUM PARE RURAL'\n",
            " 'DIMA HASAO' 'JAMALPUR RAILWAY' 'KATIHAR RAILWAY' 'MUZAFFARPUR RAILWAY'\n",
            " 'PATNA RAILWAY' 'ECONOMIC OFFENCES UNIT' 'ANTI TERRORIST SQUAD'\n",
            " 'BALODBAZAR' 'BEMETRA' 'G. R. P. RAIPUR' 'MUNGALI' 'C. I. D.'\n",
            " 'AHMEDABAD CITY' 'ARVALLI' 'BANASKANTHA' 'BOTAD' 'CHHOTAUDEPUR'\n",
            " 'C. I. D. CRIME' 'DANG' 'DEVBHUMI DWARKA' 'GIR SOMNATH' 'KACHCHH EAST(G)'\n",
            " 'KACHCHH WEST(B)' 'KHEDA' 'MAHISAGAR' 'MORBI' 'RAJKOT CITY' 'SABARKANTHA'\n",
            " 'SURAT CITY' 'VADODARA CITY' 'AMBALA (RURAL)' 'AMBALA (URBAN)' 'G. R. P.'\n",
            " 'MAHENDERGARH' 'IRRIGATION & POWER' 'BADDI' 'LAHAUL & SPITI'\n",
            " 'DHANBAD RAILWAY' 'JAMSHEDPUR RAILWAY' 'BENGALURU CITY'\n",
            " 'BENGALURU DISTRICT' 'BELAGAVI DISTRICT' 'BALLARI' 'VIJAYAPURA'\n",
            " 'CHIKKABALLAPURA' 'CHIKKAMAGALURU' 'DAKSHINA KANNADA' 'DHARWAD'\n",
            " 'KALABURGI' 'HUBBALLI DHARWAD CITY' 'MANGALURU CITY' 'MYSURU CITY'\n",
            " 'MYSURU DISTRICT' 'K.RAILWAYS' 'RAMANAGARA' 'TUMAKURU' 'UTTARA KANNADA'\n",
            " 'BELAGAVI CITY' 'BHOPAL RAILWAY' 'DATIA' 'INDORE RAILWAY'\n",
            " 'JABALPUR RAILWAY' 'KHARGONE' 'SEHORE' 'UMARIA' 'CYBER CELL'\n",
            " 'MUMBAI RAILWAY' 'NAGPUR RAILWAY' 'PALGHAR' 'PUNE RAILWAY'\n",
            " 'GARO HILLS SOUTH WEST' 'KHASI HILLS SOUTH WEST' 'SPL TRAFFIC'\n",
            " 'MALKANGIRI' 'NABARANGPUR' 'SRP (CUTTACK)' 'SRP (ROURKELA)' 'BATHINDA'\n",
            " 'SAS NAGAR' 'COIMBATORE' 'COIMBATORE CITY' 'MADURAI' 'MADURAI CITY'\n",
            " 'RAILWAY CHENNAI' 'RAILWAY TRICHY' 'SALEM' 'SALEM CITY' 'THIRUNELVELI'\n",
            " 'THIRUNELVELI CITY' 'THOOTHUKUDI' 'TIRUPPUR CITY' 'TRICHY' 'TRICHY CITY'\n",
            " 'OTHER UNITS' 'MAHABOOB NAGAR' 'SECUNDERABAD RAILWAY' 'WARANGAL RURAL'\n",
            " 'WARANGAL CITY' 'KOWAI' 'CHITRAKOOT' 'BHADOHI' 'NORTH 24 PARGANAS'\n",
            " 'SOUTH 24 PARGANAS' 'ALIPURDUAR' 'ASANSOL-DURGAPUR PC' 'BARRACKPUR PC'\n",
            " 'BIDHANNAGAR PC' 'HOWRAH G. R. P.' 'HOWRAH PC' 'HOWRAH RURAL'\n",
            " 'JHARGRAM POLICE DISTRICT' 'KHARAGPUR G. R. P.' 'PASCHIM MEDINIPUR'\n",
            " 'PURAB MEDINIPUR' 'SEALDAH G. R. P.' 'SILIGURI G. R. P.' 'SILIGURI PC'\n",
            " 'SOUTH ANDAMAN' 'NORTH & MIDDLE ANDAMAN' 'METRO' 'RAILWAY' 'SPUWAC'\n",
            " 'VIGILANCE']\n"
          ],
          "name": "stdout"
        }
      ]
    },
    {
      "cell_type": "markdown",
      "metadata": {
        "id": "0tLNbA7sGIa2"
      },
      "source": [
        "## Exploratory Data Analysis and Visualization"
      ]
    },
    {
      "cell_type": "code",
      "metadata": {
        "id": "aSwS-yxBF5eG"
      },
      "source": [
        "#@title Droping Unnamed Column from Dataframe\n",
        "del crime_df['Unnamed: 0']"
      ],
      "execution_count": 80,
      "outputs": []
    },
    {
      "cell_type": "markdown",
      "metadata": {
        "id": "vuYx2VkTGVOO"
      },
      "source": [
        "Let us find out the total population of women over the years, 2001-2014, who has been a victim of the crime based on their gender."
      ]
    },
    {
      "cell_type": "code",
      "metadata": {
        "id": "KAeCvZ1lnZ1D",
        "colab": {
          "base_uri": "https://localhost:8080/"
        },
        "outputId": "49de427a-45d0-4b15-fd97-604c17c97a4a"
      },
      "source": [
        "crime_df.columns"
      ],
      "execution_count": 81,
      "outputs": [
        {
          "output_type": "execute_result",
          "data": {
            "text/plain": [
              "Index(['STATE/UT', 'DISTRICT', 'Year', 'Rape', 'Kidnapping and Abduction',\n",
              "       'Dowry Deaths', 'Assault on women with intent to outrage her modesty',\n",
              "       'Insult to modesty of Women', 'Cruelty by Husband or his Relatives',\n",
              "       'Importation of Girls'],\n",
              "      dtype='object')"
            ]
          },
          "metadata": {
            "tags": []
          },
          "execution_count": 81
        }
      ]
    },
    {
      "cell_type": "code",
      "metadata": {
        "id": "QfyRes6lHW-p"
      },
      "source": [
        "crime_df.rename( columns = {'Kidnapping and Abduction':'Kidnapping_Abduction','Dowry Deaths':'Dowry_Deaths',\n",
        "                             'Assault on women with intent to outrage her modesty':'Hurting_of_womens_modesty',\n",
        "                             'Insult to modesty of Women':'Insult_to_womens_modesty',\n",
        "                             'Cruelty by Husband or his Relatives':'Domestic_Cruelty',\n",
        "                             'Importation of Girls':'Importation_of_Girls'}, inplace = True)"
      ],
      "execution_count": 82,
      "outputs": []
    },
    {
      "cell_type": "code",
      "metadata": {
        "id": "JHmXTU4pF5h9"
      },
      "source": [
        "victims_raped = crime_df.Rape.sum()\n",
        "victims_kidnapped_abducted = crime_df.Kidnapping_Abduction.sum()\n",
        "dowery_death = crime_df.Dowry_Deaths.sum()\n",
        "modesty_assault = crime_df.Hurting_of_womens_modesty.sum()\n",
        "insult_to_modesty = crime_df.Insult_to_womens_modesty.sum()\n",
        "domestic_violence = crime_df.Domestic_Cruelty.sum()\n",
        "girls_imported = crime_df.Importation_of_Girls.sum()"
      ],
      "execution_count": 83,
      "outputs": []
    },
    {
      "cell_type": "code",
      "metadata": {
        "colab": {
          "base_uri": "https://localhost:8080/"
        },
        "id": "ZdqgOUjhF5kx",
        "outputId": "4c1a587f-3f59-47d2-9a00-42484edccf15"
      },
      "source": [
        "total_population_of_victim_overall = victims_raped + victims_raped + dowery_death +modesty_assault+ insult_to_modesty + domestic_violence+ girls_imported\n",
        "total_population_of_victim_overall"
      ],
      "execution_count": 84,
      "outputs": [
        {
          "output_type": "execute_result",
          "data": {
            "text/plain": [
              "5194570"
            ]
          },
          "metadata": {
            "tags": []
          },
          "execution_count": 84
        }
      ]
    },
    {
      "cell_type": "markdown",
      "metadata": {
        "id": "SNxPlINyH2lz"
      },
      "source": [
        "This above analysis potrays a heartbreaking situation of women in our society, as more than **51 Lakh** number of females, over the years 2001-2014, have been a victim of assault, violance, rape or even death, in India alone.\n",
        "<br>Now let us analyse the all the cases sepately by using bar graph."
      ]
    },
    {
      "cell_type": "code",
      "metadata": {
        "colab": {
          "base_uri": "https://localhost:8080/",
          "height": 499
        },
        "id": "lLgZWu3TF5n2",
        "outputId": "34b43e17-9c96-4f3a-f27c-8f5f736bb00b"
      },
      "source": [
        "fig, axes = plt.subplots(2, 3, figsize=(25, 12))\n",
        "\n",
        "axes[0,0].set_title(\"Chart of rape cases in India in 2001-2014\")\n",
        "axes[0,0].bar(crime_df.Year, crime_df.Rape, color = 'black');\n",
        "plt.xlabel('Year') #X-axis\n",
        "plt.ylabel('Cases of Rape in India')\n",
        "\n",
        "axes[0,1].set_title(\"Chart of Kidnapping and Abduction cases in India in 2001-2014\")\n",
        "axes[0,1].bar(crime_df.Year, crime_df.Kidnapping_Abduction, color = 'violet');\n",
        "plt.xlabel('Year') \n",
        "plt.ylabel('Cases of Kidnapping and Abduction in India')\n",
        "\n",
        "axes[0,2].set_title(\"Chart of Dowry death cases in India in 2001-2014\")\n",
        "axes[0,2].bar(crime_df.Year, crime_df.Dowry_Deaths, color = 'navy');\n",
        "plt.xlabel('Year') \n",
        "plt.ylabel('Cases of Dowry deaths in India')\n",
        "\n",
        "axes[1,0].set_title(\"Chart of Assault to her modesty in 2001-2014\")\n",
        "axes[1,0].bar(crime_df.Year, crime_df.Hurting_of_womens_modesty, color = 'cyan');\n",
        "plt.xlabel('Year') \n",
        "plt.ylabel('Cases of Assaulting a women for her modesty in India') \n",
        "\n",
        "axes[1,1].set_title(\"Chart of Domestic Violence cases in India in 2001-2014\")\n",
        "axes[1,1].bar(crime_df.Year, crime_df.Domestic_Cruelty, color = 'orange');\n",
        "plt.xlabel('Year') \n",
        "plt.ylabel('Cases of Domestic Violence in India') \n",
        "\n",
        "axes[1,2].set_title(\"Chart of Importation of girls in India in 2001-2014\")\n",
        "axes[1,2].bar(crime_df.Year, crime_df.Importation_of_Girls, color = 'red');\n",
        "plt.xlabel('Year')\n",
        "plt.ylabel('Cases ofImportation of girls in India')"
      ],
      "execution_count": 85,
      "outputs": [
        {
          "output_type": "execute_result",
          "data": {
            "text/plain": [
              "Text(0, 0.5, 'Cases ofImportation of girls in India')"
            ]
          },
          "metadata": {
            "tags": []
          },
          "execution_count": 85
        },
        {
          "output_type": "display_data",
          "data": {
            "image/png": "[encoded data removed]",
            "text/plain": [
              "<Figure size 1800x864 with 6 Axes>"
            ]
          },
          "metadata": {
            "tags": [],
            "needs_background": "light"
          }
        }
      ]
    },
    {
      "cell_type": "markdown",
      "metadata": {
        "id": "eNEOoZxhIuWQ"
      },
      "source": [
        "There are two things to be concluded from the above bar chart -\n",
        "<br> - The cases have incraesed over the years.\n",
        "<br> -2014 has been the year, where violance against women was reported the maximum, under each of the cases like, rape, domestic violence etc, which can also be proved below, which can also be cross examined with the code below.\n",
        "<br> - Cases of Importation of Girls Has been Decresed every year being lowest in 2014 which is a positive news."
      ]
    },
    {
      "cell_type": "code",
      "metadata": {
        "colab": {
          "base_uri": "https://localhost:8080/",
          "height": 514
        },
        "id": "hUIF29iUF5qD",
        "outputId": "6b099e57-faed-4bdb-b8e4-16d8632f8130"
      },
      "source": [
        "count_df = crime_df.groupby('Year')[['STATE/UT']].count()\n",
        "count_df"
      ],
      "execution_count": 86,
      "outputs": [
        {
          "output_type": "execute_result",
          "data": {
            "text/html": [
              "<div>\n",
              "<style scoped>\n",
              "    .dataframe tbody tr th:only-of-type {\n",
              "        vertical-align: middle;\n",
              "    }\n",
              "\n",
              "    .dataframe tbody tr th {\n",
              "        vertical-align: top;\n",
              "    }\n",
              "\n",
              "    .dataframe thead th {\n",
              "        text-align: right;\n",
              "    }\n",
              "</style>\n",
              "<table border=\"1\" class=\"dataframe\">\n",
              "  <thead>\n",
              "    <tr style=\"text-align: right;\">\n",
              "      <th></th>\n",
              "      <th>STATE/UT</th>\n",
              "    </tr>\n",
              "    <tr>\n",
              "      <th>Year</th>\n",
              "      <th></th>\n",
              "    </tr>\n",
              "  </thead>\n",
              "  <tbody>\n",
              "    <tr>\n",
              "      <th>2001</th>\n",
              "      <td>716</td>\n",
              "    </tr>\n",
              "    <tr>\n",
              "      <th>2002</th>\n",
              "      <td>719</td>\n",
              "    </tr>\n",
              "    <tr>\n",
              "      <th>2003</th>\n",
              "      <td>728</td>\n",
              "    </tr>\n",
              "    <tr>\n",
              "      <th>2004</th>\n",
              "      <td>729</td>\n",
              "    </tr>\n",
              "    <tr>\n",
              "      <th>2005</th>\n",
              "      <td>733</td>\n",
              "    </tr>\n",
              "    <tr>\n",
              "      <th>2006</th>\n",
              "      <td>740</td>\n",
              "    </tr>\n",
              "    <tr>\n",
              "      <th>2007</th>\n",
              "      <td>743</td>\n",
              "    </tr>\n",
              "    <tr>\n",
              "      <th>2008</th>\n",
              "      <td>761</td>\n",
              "    </tr>\n",
              "    <tr>\n",
              "      <th>2009</th>\n",
              "      <td>767</td>\n",
              "    </tr>\n",
              "    <tr>\n",
              "      <th>2010</th>\n",
              "      <td>779</td>\n",
              "    </tr>\n",
              "    <tr>\n",
              "      <th>2011</th>\n",
              "      <td>791</td>\n",
              "    </tr>\n",
              "    <tr>\n",
              "      <th>2012</th>\n",
              "      <td>811</td>\n",
              "    </tr>\n",
              "    <tr>\n",
              "      <th>2013</th>\n",
              "      <td>823</td>\n",
              "    </tr>\n",
              "    <tr>\n",
              "      <th>2014</th>\n",
              "      <td>837</td>\n",
              "    </tr>\n",
              "  </tbody>\n",
              "</table>\n",
              "</div>"
            ],
            "text/plain": [
              "      STATE/UT\n",
              "Year          \n",
              "2001       716\n",
              "2002       719\n",
              "2003       728\n",
              "2004       729\n",
              "2005       733\n",
              "2006       740\n",
              "2007       743\n",
              "2008       761\n",
              "2009       767\n",
              "2010       779\n",
              "2011       791\n",
              "2012       811\n",
              "2013       823\n",
              "2014       837"
            ]
          },
          "metadata": {
            "tags": []
          },
          "execution_count": 86
        }
      ]
    },
    {
      "cell_type": "code",
      "metadata": {
        "colab": {
          "base_uri": "https://localhost:8080/",
          "height": 336
        },
        "id": "J5J82tE9F5r9",
        "outputId": "fddf22bb-f29e-48ec-e81d-278129aaffb1"
      },
      "source": [
        "plt.figure(figsize=(10,5))\n",
        "plt.title(\"Total cases reported from every state Year wise\")\n",
        "sns.heatmap(count_df,cmap=\"Greens\");\n"
      ],
      "execution_count": 87,
      "outputs": [
        {
          "output_type": "display_data",
          "data": {
            "image/png": "[encoded data removed]",
            "text/plain": [
              "<Figure size 720x360 with 2 Axes>"
            ]
          },
          "metadata": {
            "tags": [],
            "needs_background": "light"
          }
        }
      ]
    },
    {
      "cell_type": "markdown",
      "metadata": {
        "id": "SUtNppijLWdT"
      },
      "source": [
        "This heatmap shows how more number of state's name started appearing on the dataset, for reporting crimes and sadly the crime only increased with the passing year.\n",
        "<br>It gives us the conclusion that overall(cases under each category), from every state, has increased with time, not decreased."
      ]
    },
    {
      "cell_type": "markdown",
      "metadata": {
        "id": "ecVuU4eyLgiQ"
      },
      "source": [
        "## Asking and Answering Questions"
      ]
    },
    {
      "cell_type": "markdown",
      "metadata": {
        "id": "uIK2A_dTLkOS"
      },
      "source": [
        "As part of this data analysis, it is very crucial to raise question and find answer to them. Here we will try to find out some of the most essential questions, that will help us in drawing a major conclusion from our dataset."
      ]
    },
    {
      "cell_type": "markdown",
      "metadata": {
        "id": "fH9u6EKGLuw7"
      },
      "source": [
        "### Q1 . Create a dataframe containing 10 highest reported rape cases in India, in the span of year 2001-2014?."
      ]
    },
    {
      "cell_type": "code",
      "metadata": {
        "id": "RUznCeXnnZ4T",
        "colab": {
          "base_uri": "https://localhost:8080/",
          "height": 515
        },
        "outputId": "ca1fdeed-d82f-4abf-ccc1-5305745319c8"
      },
      "source": [
        "max_rape_cases = crime_df.sort_values('Rape', ascending = False).head(10)\n",
        "max_rape_cases"
      ],
      "execution_count": 88,
      "outputs": [
        {
          "output_type": "execute_result",
          "data": {
            "text/html": [
              "<div>\n",
              "<style scoped>\n",
              "    .dataframe tbody tr th:only-of-type {\n",
              "        vertical-align: middle;\n",
              "    }\n",
              "\n",
              "    .dataframe tbody tr th {\n",
              "        vertical-align: top;\n",
              "    }\n",
              "\n",
              "    .dataframe thead th {\n",
              "        text-align: right;\n",
              "    }\n",
              "</style>\n",
              "<table border=\"1\" class=\"dataframe\">\n",
              "  <thead>\n",
              "    <tr style=\"text-align: right;\">\n",
              "      <th></th>\n",
              "      <th>STATE/UT</th>\n",
              "      <th>DISTRICT</th>\n",
              "      <th>Year</th>\n",
              "      <th>Rape</th>\n",
              "      <th>Kidnapping_Abduction</th>\n",
              "      <th>Dowry_Deaths</th>\n",
              "      <th>Hurting_of_womens_modesty</th>\n",
              "      <th>Insult_to_womens_modesty</th>\n",
              "      <th>Domestic_Cruelty</th>\n",
              "      <th>Importation_of_Girls</th>\n",
              "    </tr>\n",
              "  </thead>\n",
              "  <tbody>\n",
              "    <tr>\n",
              "      <th>10244</th>\n",
              "      <td>MADHYA PRADESH</td>\n",
              "      <td>TOTAL DISTRICT(S)</td>\n",
              "      <td>2014</td>\n",
              "      <td>5076</td>\n",
              "      <td>5688</td>\n",
              "      <td>733</td>\n",
              "      <td>9609</td>\n",
              "      <td>429</td>\n",
              "      <td>6451</td>\n",
              "      <td>0</td>\n",
              "    </tr>\n",
              "    <tr>\n",
              "      <th>9426</th>\n",
              "      <td>MADHYA PRADESH</td>\n",
              "      <td>ZZ TOTAL</td>\n",
              "      <td>2013</td>\n",
              "      <td>4335</td>\n",
              "      <td>2873</td>\n",
              "      <td>776</td>\n",
              "      <td>8252</td>\n",
              "      <td>736</td>\n",
              "      <td>4988</td>\n",
              "      <td>7</td>\n",
              "    </tr>\n",
              "    <tr>\n",
              "      <th>10445</th>\n",
              "      <td>RAJASTHAN</td>\n",
              "      <td>TOTAL DISTRICT(S)</td>\n",
              "      <td>2014</td>\n",
              "      <td>3759</td>\n",
              "      <td>4421</td>\n",
              "      <td>408</td>\n",
              "      <td>5999</td>\n",
              "      <td>18</td>\n",
              "      <td>15905</td>\n",
              "      <td>0</td>\n",
              "    </tr>\n",
              "    <tr>\n",
              "      <th>10595</th>\n",
              "      <td>UTTAR PRADESH</td>\n",
              "      <td>TOTAL DISTRICT(S)</td>\n",
              "      <td>2014</td>\n",
              "      <td>3467</td>\n",
              "      <td>10626</td>\n",
              "      <td>2469</td>\n",
              "      <td>8605</td>\n",
              "      <td>29</td>\n",
              "      <td>10471</td>\n",
              "      <td>0</td>\n",
              "    </tr>\n",
              "    <tr>\n",
              "      <th>10291</th>\n",
              "      <td>MAHARASHTRA</td>\n",
              "      <td>TOTAL DISTRICT(S)</td>\n",
              "      <td>2014</td>\n",
              "      <td>3438</td>\n",
              "      <td>2457</td>\n",
              "      <td>279</td>\n",
              "      <td>10001</td>\n",
              "      <td>1575</td>\n",
              "      <td>7696</td>\n",
              "      <td>1</td>\n",
              "    </tr>\n",
              "    <tr>\n",
              "      <th>8611</th>\n",
              "      <td>MADHYA PRADESH</td>\n",
              "      <td>TOTAL</td>\n",
              "      <td>2012</td>\n",
              "      <td>3425</td>\n",
              "      <td>1127</td>\n",
              "      <td>743</td>\n",
              "      <td>6655</td>\n",
              "      <td>774</td>\n",
              "      <td>3988</td>\n",
              "      <td>6</td>\n",
              "    </tr>\n",
              "    <tr>\n",
              "      <th>7810</th>\n",
              "      <td>MADHYA PRADESH</td>\n",
              "      <td>TOTAL</td>\n",
              "      <td>2011</td>\n",
              "      <td>3406</td>\n",
              "      <td>1088</td>\n",
              "      <td>811</td>\n",
              "      <td>6665</td>\n",
              "      <td>762</td>\n",
              "      <td>3732</td>\n",
              "      <td>45</td>\n",
              "    </tr>\n",
              "    <tr>\n",
              "      <th>9628</th>\n",
              "      <td>RAJASTHAN</td>\n",
              "      <td>ZZ TOTAL</td>\n",
              "      <td>2013</td>\n",
              "      <td>3285</td>\n",
              "      <td>4047</td>\n",
              "      <td>453</td>\n",
              "      <td>4829</td>\n",
              "      <td>25</td>\n",
              "      <td>15094</td>\n",
              "      <td>1</td>\n",
              "    </tr>\n",
              "    <tr>\n",
              "      <th>7025</th>\n",
              "      <td>MADHYA PRADESH</td>\n",
              "      <td>TOTAL</td>\n",
              "      <td>2010</td>\n",
              "      <td>3135</td>\n",
              "      <td>1030</td>\n",
              "      <td>892</td>\n",
              "      <td>6646</td>\n",
              "      <td>918</td>\n",
              "      <td>3756</td>\n",
              "      <td>5</td>\n",
              "    </tr>\n",
              "    <tr>\n",
              "      <th>9472</th>\n",
              "      <td>MAHARASHTRA</td>\n",
              "      <td>ZZ TOTAL</td>\n",
              "      <td>2013</td>\n",
              "      <td>3063</td>\n",
              "      <td>1874</td>\n",
              "      <td>320</td>\n",
              "      <td>8132</td>\n",
              "      <td>2632</td>\n",
              "      <td>8542</td>\n",
              "      <td>0</td>\n",
              "    </tr>\n",
              "  </tbody>\n",
              "</table>\n",
              "</div>"
            ],
            "text/plain": [
              "             STATE/UT  ... Importation_of_Girls\n",
              "10244  MADHYA PRADESH  ...                    0\n",
              "9426   MADHYA PRADESH  ...                    7\n",
              "10445       RAJASTHAN  ...                    0\n",
              "10595   UTTAR PRADESH  ...                    0\n",
              "10291     MAHARASHTRA  ...                    1\n",
              "8611   MADHYA PRADESH  ...                    6\n",
              "7810   MADHYA PRADESH  ...                   45\n",
              "9628        RAJASTHAN  ...                    1\n",
              "7025   MADHYA PRADESH  ...                    5\n",
              "9472      MAHARASHTRA  ...                    0\n",
              "\n",
              "[10 rows x 10 columns]"
            ]
          },
          "metadata": {
            "tags": []
          },
          "execution_count": 88
        }
      ]
    },
    {
      "cell_type": "markdown",
      "metadata": {
        "id": "FrYkuAMZMH2z"
      },
      "source": [
        "We see from the analysis, the top states that reported the maximum number of rape cases, along with the year, in which they occured.\n",
        "Where, Madhya Pradesh reported the maximum rape cases in the year 2014."
      ]
    },
    {
      "cell_type": "markdown",
      "metadata": {
        "id": "tMxBBwP4MpLQ"
      },
      "source": [
        "### Q2. Create a dataframe containing 10 highest reported deaths caused by Dowry cases in India, in the span of year 2001-2014."
      ]
    },
    {
      "cell_type": "code",
      "metadata": {
        "colab": {
          "base_uri": "https://localhost:8080/",
          "height": 549
        },
        "id": "7iI0_MuCMsYg",
        "outputId": "23d8f02e-de8b-4af7-824e-b226bc2cfee4"
      },
      "source": [
        "max_dowry_death_cases = crime_df.sort_values('Dowry_Deaths', ascending = False).head(10)\n",
        "max_dowry_death_cases"
      ],
      "execution_count": 89,
      "outputs": [
        {
          "output_type": "execute_result",
          "data": {
            "text/html": [
              "<div>\n",
              "<style scoped>\n",
              "    .dataframe tbody tr th:only-of-type {\n",
              "        vertical-align: middle;\n",
              "    }\n",
              "\n",
              "    .dataframe tbody tr th {\n",
              "        vertical-align: top;\n",
              "    }\n",
              "\n",
              "    .dataframe thead th {\n",
              "        text-align: right;\n",
              "    }\n",
              "</style>\n",
              "<table border=\"1\" class=\"dataframe\">\n",
              "  <thead>\n",
              "    <tr style=\"text-align: right;\">\n",
              "      <th></th>\n",
              "      <th>STATE/UT</th>\n",
              "      <th>DISTRICT</th>\n",
              "      <th>Year</th>\n",
              "      <th>Rape</th>\n",
              "      <th>Kidnapping_Abduction</th>\n",
              "      <th>Dowry_Deaths</th>\n",
              "      <th>Hurting_of_womens_modesty</th>\n",
              "      <th>Insult_to_womens_modesty</th>\n",
              "      <th>Domestic_Cruelty</th>\n",
              "      <th>Importation_of_Girls</th>\n",
              "    </tr>\n",
              "  </thead>\n",
              "  <tbody>\n",
              "    <tr>\n",
              "      <th>10595</th>\n",
              "      <td>UTTAR PRADESH</td>\n",
              "      <td>TOTAL DISTRICT(S)</td>\n",
              "      <td>2014</td>\n",
              "      <td>3467</td>\n",
              "      <td>10626</td>\n",
              "      <td>2469</td>\n",
              "      <td>8605</td>\n",
              "      <td>29</td>\n",
              "      <td>10471</td>\n",
              "      <td>0</td>\n",
              "    </tr>\n",
              "    <tr>\n",
              "      <th>9760</th>\n",
              "      <td>UTTAR PRADESH</td>\n",
              "      <td>ZZ TOTAL</td>\n",
              "      <td>2013</td>\n",
              "      <td>3050</td>\n",
              "      <td>9737</td>\n",
              "      <td>2335</td>\n",
              "      <td>7303</td>\n",
              "      <td>25</td>\n",
              "      <td>8781</td>\n",
              "      <td>0</td>\n",
              "    </tr>\n",
              "    <tr>\n",
              "      <th>8132</th>\n",
              "      <td>UTTAR PRADESH</td>\n",
              "      <td>TOTAL</td>\n",
              "      <td>2011</td>\n",
              "      <td>2042</td>\n",
              "      <td>7525</td>\n",
              "      <td>2322</td>\n",
              "      <td>3455</td>\n",
              "      <td>3</td>\n",
              "      <td>7121</td>\n",
              "      <td>0</td>\n",
              "    </tr>\n",
              "    <tr>\n",
              "      <th>8938</th>\n",
              "      <td>UTTAR PRADESH</td>\n",
              "      <td>TOTAL</td>\n",
              "      <td>2012</td>\n",
              "      <td>1963</td>\n",
              "      <td>7910</td>\n",
              "      <td>2244</td>\n",
              "      <td>3247</td>\n",
              "      <td>8</td>\n",
              "      <td>7661</td>\n",
              "      <td>0</td>\n",
              "    </tr>\n",
              "    <tr>\n",
              "      <th>5796</th>\n",
              "      <td>UTTAR PRADESH</td>\n",
              "      <td>TOTAL</td>\n",
              "      <td>2008</td>\n",
              "      <td>1871</td>\n",
              "      <td>4439</td>\n",
              "      <td>2237</td>\n",
              "      <td>2955</td>\n",
              "      <td>3374</td>\n",
              "      <td>8312</td>\n",
              "      <td>0</td>\n",
              "    </tr>\n",
              "    <tr>\n",
              "      <th>6563</th>\n",
              "      <td>UTTAR PRADESH</td>\n",
              "      <td>TOTAL</td>\n",
              "      <td>2009</td>\n",
              "      <td>1759</td>\n",
              "      <td>5078</td>\n",
              "      <td>2232</td>\n",
              "      <td>2782</td>\n",
              "      <td>2524</td>\n",
              "      <td>8566</td>\n",
              "      <td>0</td>\n",
              "    </tr>\n",
              "    <tr>\n",
              "      <th>7342</th>\n",
              "      <td>UTTAR PRADESH</td>\n",
              "      <td>TOTAL</td>\n",
              "      <td>2010</td>\n",
              "      <td>1563</td>\n",
              "      <td>5468</td>\n",
              "      <td>2217</td>\n",
              "      <td>2793</td>\n",
              "      <td>11</td>\n",
              "      <td>7978</td>\n",
              "      <td>0</td>\n",
              "    </tr>\n",
              "    <tr>\n",
              "      <th>650</th>\n",
              "      <td>UTTAR PRADESH</td>\n",
              "      <td>TOTAL</td>\n",
              "      <td>2001</td>\n",
              "      <td>1958</td>\n",
              "      <td>2879</td>\n",
              "      <td>2211</td>\n",
              "      <td>2870</td>\n",
              "      <td>2575</td>\n",
              "      <td>7365</td>\n",
              "      <td>0</td>\n",
              "    </tr>\n",
              "    <tr>\n",
              "      <th>5040</th>\n",
              "      <td>UTTAR PRADESH</td>\n",
              "      <td>TOTAL</td>\n",
              "      <td>2007</td>\n",
              "      <td>1648</td>\n",
              "      <td>3363</td>\n",
              "      <td>2076</td>\n",
              "      <td>2522</td>\n",
              "      <td>2882</td>\n",
              "      <td>7650</td>\n",
              "      <td>0</td>\n",
              "    </tr>\n",
              "    <tr>\n",
              "      <th>1366</th>\n",
              "      <td>UTTAR PRADESH</td>\n",
              "      <td>TOTAL</td>\n",
              "      <td>2002</td>\n",
              "      <td>1415</td>\n",
              "      <td>2298</td>\n",
              "      <td>1893</td>\n",
              "      <td>2145</td>\n",
              "      <td>1887</td>\n",
              "      <td>5679</td>\n",
              "      <td>0</td>\n",
              "    </tr>\n",
              "  </tbody>\n",
              "</table>\n",
              "</div>"
            ],
            "text/plain": [
              "            STATE/UT           DISTRICT  ...  Domestic_Cruelty  Importation_of_Girls\n",
              "10595  UTTAR PRADESH  TOTAL DISTRICT(S)  ...             10471                     0\n",
              "9760   UTTAR PRADESH           ZZ TOTAL  ...              8781                     0\n",
              "8132   UTTAR PRADESH              TOTAL  ...              7121                     0\n",
              "8938   UTTAR PRADESH              TOTAL  ...              7661                     0\n",
              "5796   UTTAR PRADESH              TOTAL  ...              8312                     0\n",
              "6563   UTTAR PRADESH              TOTAL  ...              8566                     0\n",
              "7342   UTTAR PRADESH              TOTAL  ...              7978                     0\n",
              "650    UTTAR PRADESH              TOTAL  ...              7365                     0\n",
              "5040   UTTAR PRADESH              TOTAL  ...              7650                     0\n",
              "1366   UTTAR PRADESH              TOTAL  ...              5679                     0\n",
              "\n",
              "[10 rows x 10 columns]"
            ]
          },
          "metadata": {
            "tags": []
          },
          "execution_count": 89
        }
      ]
    },
    {
      "cell_type": "markdown",
      "metadata": {
        "id": "AH8p5H1dM4v5"
      },
      "source": [
        "From our analysis, we observe that the highest reported dowry death was in Uttar Pradesh in 2014, with number of reports being 2469.\n",
        "One more here to be observed as well is that, **Uttar Pradesh **is the only state that appears in this list."
      ]
    },
    {
      "cell_type": "markdown",
      "metadata": {
        "id": "TdWQAmuFNFHI"
      },
      "source": [
        "### Q3. Create a dataframe containing 10 highest reported Domestic Violance cases in India, in the span of year 2001-2014 ?."
      ]
    },
    {
      "cell_type": "code",
      "metadata": {
        "colab": {
          "base_uri": "https://localhost:8080/",
          "height": 532
        },
        "id": "clkM6pxuM8Zl",
        "outputId": "f6db0e19-ea37-4426-8d18-fd32cfff3ae3"
      },
      "source": [
        "max_domestic_violance_cases = crime_df.sort_values('Domestic_Cruelty', ascending = False).head(10)\n",
        "max_domestic_violance_cases"
      ],
      "execution_count": 90,
      "outputs": [
        {
          "output_type": "execute_result",
          "data": {
            "text/html": [
              "<div>\n",
              "<style scoped>\n",
              "    .dataframe tbody tr th:only-of-type {\n",
              "        vertical-align: middle;\n",
              "    }\n",
              "\n",
              "    .dataframe tbody tr th {\n",
              "        vertical-align: top;\n",
              "    }\n",
              "\n",
              "    .dataframe thead th {\n",
              "        text-align: right;\n",
              "    }\n",
              "</style>\n",
              "<table border=\"1\" class=\"dataframe\">\n",
              "  <thead>\n",
              "    <tr style=\"text-align: right;\">\n",
              "      <th></th>\n",
              "      <th>STATE/UT</th>\n",
              "      <th>DISTRICT</th>\n",
              "      <th>Year</th>\n",
              "      <th>Rape</th>\n",
              "      <th>Kidnapping_Abduction</th>\n",
              "      <th>Dowry_Deaths</th>\n",
              "      <th>Hurting_of_womens_modesty</th>\n",
              "      <th>Insult_to_womens_modesty</th>\n",
              "      <th>Domestic_Cruelty</th>\n",
              "      <th>Importation_of_Girls</th>\n",
              "    </tr>\n",
              "  </thead>\n",
              "  <tbody>\n",
              "    <tr>\n",
              "      <th>10640</th>\n",
              "      <td>WEST BENGAL</td>\n",
              "      <td>TOTAL DISTRICT(S)</td>\n",
              "      <td>2014</td>\n",
              "      <td>1466</td>\n",
              "      <td>4976</td>\n",
              "      <td>501</td>\n",
              "      <td>5670</td>\n",
              "      <td>543</td>\n",
              "      <td>23278</td>\n",
              "      <td>4</td>\n",
              "    </tr>\n",
              "    <tr>\n",
              "      <th>8982</th>\n",
              "      <td>WEST BENGAL</td>\n",
              "      <td>TOTAL</td>\n",
              "      <td>2012</td>\n",
              "      <td>2046</td>\n",
              "      <td>4168</td>\n",
              "      <td>593</td>\n",
              "      <td>3345</td>\n",
              "      <td>556</td>\n",
              "      <td>19865</td>\n",
              "      <td>12</td>\n",
              "    </tr>\n",
              "    <tr>\n",
              "      <th>8172</th>\n",
              "      <td>WEST BENGAL</td>\n",
              "      <td>TOTAL</td>\n",
              "      <td>2011</td>\n",
              "      <td>2363</td>\n",
              "      <td>3711</td>\n",
              "      <td>510</td>\n",
              "      <td>2363</td>\n",
              "      <td>200</td>\n",
              "      <td>19772</td>\n",
              "      <td>0</td>\n",
              "    </tr>\n",
              "    <tr>\n",
              "      <th>9804</th>\n",
              "      <td>WEST BENGAL</td>\n",
              "      <td>ZZ TOTAL</td>\n",
              "      <td>2013</td>\n",
              "      <td>1685</td>\n",
              "      <td>3830</td>\n",
              "      <td>481</td>\n",
              "      <td>4913</td>\n",
              "      <td>577</td>\n",
              "      <td>18116</td>\n",
              "      <td>9</td>\n",
              "    </tr>\n",
              "    <tr>\n",
              "      <th>7381</th>\n",
              "      <td>WEST BENGAL</td>\n",
              "      <td>TOTAL</td>\n",
              "      <td>2010</td>\n",
              "      <td>2311</td>\n",
              "      <td>2764</td>\n",
              "      <td>507</td>\n",
              "      <td>2465</td>\n",
              "      <td>163</td>\n",
              "      <td>17796</td>\n",
              "      <td>8</td>\n",
              "    </tr>\n",
              "    <tr>\n",
              "      <th>6602</th>\n",
              "      <td>WEST BENGAL</td>\n",
              "      <td>TOTAL</td>\n",
              "      <td>2009</td>\n",
              "      <td>2336</td>\n",
              "      <td>2187</td>\n",
              "      <td>506</td>\n",
              "      <td>1942</td>\n",
              "      <td>108</td>\n",
              "      <td>16112</td>\n",
              "      <td>5</td>\n",
              "    </tr>\n",
              "    <tr>\n",
              "      <th>10445</th>\n",
              "      <td>RAJASTHAN</td>\n",
              "      <td>TOTAL DISTRICT(S)</td>\n",
              "      <td>2014</td>\n",
              "      <td>3759</td>\n",
              "      <td>4421</td>\n",
              "      <td>408</td>\n",
              "      <td>5999</td>\n",
              "      <td>18</td>\n",
              "      <td>15905</td>\n",
              "      <td>0</td>\n",
              "    </tr>\n",
              "    <tr>\n",
              "      <th>9628</th>\n",
              "      <td>RAJASTHAN</td>\n",
              "      <td>ZZ TOTAL</td>\n",
              "      <td>2013</td>\n",
              "      <td>3285</td>\n",
              "      <td>4047</td>\n",
              "      <td>453</td>\n",
              "      <td>4829</td>\n",
              "      <td>25</td>\n",
              "      <td>15094</td>\n",
              "      <td>1</td>\n",
              "    </tr>\n",
              "    <tr>\n",
              "      <th>9050</th>\n",
              "      <td>ANDHRA PRADESH</td>\n",
              "      <td>ZZ TOTAL</td>\n",
              "      <td>2013</td>\n",
              "      <td>1635</td>\n",
              "      <td>1595</td>\n",
              "      <td>492</td>\n",
              "      <td>6930</td>\n",
              "      <td>4702</td>\n",
              "      <td>15084</td>\n",
              "      <td>0</td>\n",
              "    </tr>\n",
              "    <tr>\n",
              "      <th>5835</th>\n",
              "      <td>WEST BENGAL</td>\n",
              "      <td>TOTAL</td>\n",
              "      <td>2008</td>\n",
              "      <td>2263</td>\n",
              "      <td>1907</td>\n",
              "      <td>451</td>\n",
              "      <td>2396</td>\n",
              "      <td>94</td>\n",
              "      <td>13663</td>\n",
              "      <td>5</td>\n",
              "    </tr>\n",
              "  </tbody>\n",
              "</table>\n",
              "</div>"
            ],
            "text/plain": [
              "             STATE/UT  ... Importation_of_Girls\n",
              "10640     WEST BENGAL  ...                    4\n",
              "8982      WEST BENGAL  ...                   12\n",
              "8172      WEST BENGAL  ...                    0\n",
              "9804      WEST BENGAL  ...                    9\n",
              "7381      WEST BENGAL  ...                    8\n",
              "6602      WEST BENGAL  ...                    5\n",
              "10445       RAJASTHAN  ...                    0\n",
              "9628        RAJASTHAN  ...                    1\n",
              "9050   ANDHRA PRADESH  ...                    0\n",
              "5835      WEST BENGAL  ...                    5\n",
              "\n",
              "[10 rows x 10 columns]"
            ]
          },
          "metadata": {
            "tags": []
          },
          "execution_count": 90
        }
      ]
    },
    {
      "cell_type": "markdown",
      "metadata": {
        "id": "qrxJwETINRYI"
      },
      "source": [
        "According to our analysis, we see the maximum cases of Domestic Violance cases came from West Bengal in the year 2014, with number of cases reported being 23278."
      ]
    },
    {
      "cell_type": "markdown",
      "metadata": {
        "id": "b5AF6soxNZa2"
      },
      "source": [
        "### Q4. Create a dataframe containing 10 highest reported Importation cases in India, in the span of year 2001-2014."
      ]
    },
    {
      "cell_type": "code",
      "metadata": {
        "colab": {
          "base_uri": "https://localhost:8080/",
          "height": 430
        },
        "id": "VCmoisPmNVqH",
        "outputId": "f12dd33d-8f24-4b29-d85c-73e6f19f482b"
      },
      "source": [
        "max_importation_case = crime_df.sort_values('Importation_of_Girls', ascending = False).head(10)\n",
        "max_importation_case"
      ],
      "execution_count": 91,
      "outputs": [
        {
          "output_type": "execute_result",
          "data": {
            "text/html": [
              "<div>\n",
              "<style scoped>\n",
              "    .dataframe tbody tr th:only-of-type {\n",
              "        vertical-align: middle;\n",
              "    }\n",
              "\n",
              "    .dataframe tbody tr th {\n",
              "        vertical-align: top;\n",
              "    }\n",
              "\n",
              "    .dataframe thead th {\n",
              "        text-align: right;\n",
              "    }\n",
              "</style>\n",
              "<table border=\"1\" class=\"dataframe\">\n",
              "  <thead>\n",
              "    <tr style=\"text-align: right;\">\n",
              "      <th></th>\n",
              "      <th>STATE/UT</th>\n",
              "      <th>DISTRICT</th>\n",
              "      <th>Year</th>\n",
              "      <th>Rape</th>\n",
              "      <th>Kidnapping_Abduction</th>\n",
              "      <th>Dowry_Deaths</th>\n",
              "      <th>Hurting_of_womens_modesty</th>\n",
              "      <th>Insult_to_womens_modesty</th>\n",
              "      <th>Domestic_Cruelty</th>\n",
              "      <th>Importation_of_Girls</th>\n",
              "    </tr>\n",
              "  </thead>\n",
              "  <tbody>\n",
              "    <tr>\n",
              "      <th>115</th>\n",
              "      <td>BIHAR</td>\n",
              "      <td>TOTAL</td>\n",
              "      <td>2001</td>\n",
              "      <td>888</td>\n",
              "      <td>518</td>\n",
              "      <td>859</td>\n",
              "      <td>562</td>\n",
              "      <td>21</td>\n",
              "      <td>1558</td>\n",
              "      <td>83</td>\n",
              "    </tr>\n",
              "    <tr>\n",
              "      <th>3013</th>\n",
              "      <td>BIHAR</td>\n",
              "      <td>TOTAL</td>\n",
              "      <td>2005</td>\n",
              "      <td>1147</td>\n",
              "      <td>929</td>\n",
              "      <td>1014</td>\n",
              "      <td>451</td>\n",
              "      <td>13</td>\n",
              "      <td>1574</td>\n",
              "      <td>74</td>\n",
              "    </tr>\n",
              "    <tr>\n",
              "      <th>3597</th>\n",
              "      <td>WEST BENGAL</td>\n",
              "      <td>TOTAL</td>\n",
              "      <td>2005</td>\n",
              "      <td>1686</td>\n",
              "      <td>1039</td>\n",
              "      <td>446</td>\n",
              "      <td>1572</td>\n",
              "      <td>54</td>\n",
              "      <td>6936</td>\n",
              "      <td>61</td>\n",
              "    </tr>\n",
              "    <tr>\n",
              "      <th>3590</th>\n",
              "      <td>WEST BENGAL</td>\n",
              "      <td>NADIA</td>\n",
              "      <td>2005</td>\n",
              "      <td>148</td>\n",
              "      <td>97</td>\n",
              "      <td>48</td>\n",
              "      <td>95</td>\n",
              "      <td>3</td>\n",
              "      <td>545</td>\n",
              "      <td>60</td>\n",
              "    </tr>\n",
              "    <tr>\n",
              "      <th>4486</th>\n",
              "      <td>BIHAR</td>\n",
              "      <td>TOTAL</td>\n",
              "      <td>2007</td>\n",
              "      <td>1555</td>\n",
              "      <td>1260</td>\n",
              "      <td>1172</td>\n",
              "      <td>853</td>\n",
              "      <td>12</td>\n",
              "      <td>1635</td>\n",
              "      <td>56</td>\n",
              "    </tr>\n",
              "    <tr>\n",
              "      <th>3005</th>\n",
              "      <td>BIHAR</td>\n",
              "      <td>SAMASTIPUR</td>\n",
              "      <td>2005</td>\n",
              "      <td>28</td>\n",
              "      <td>4</td>\n",
              "      <td>40</td>\n",
              "      <td>10</td>\n",
              "      <td>0</td>\n",
              "      <td>73</td>\n",
              "      <td>48</td>\n",
              "    </tr>\n",
              "    <tr>\n",
              "      <th>7810</th>\n",
              "      <td>MADHYA PRADESH</td>\n",
              "      <td>TOTAL</td>\n",
              "      <td>2011</td>\n",
              "      <td>3406</td>\n",
              "      <td>1088</td>\n",
              "      <td>811</td>\n",
              "      <td>6665</td>\n",
              "      <td>762</td>\n",
              "      <td>3732</td>\n",
              "      <td>45</td>\n",
              "    </tr>\n",
              "    <tr>\n",
              "      <th>3746</th>\n",
              "      <td>BIHAR</td>\n",
              "      <td>TOTAL</td>\n",
              "      <td>2006</td>\n",
              "      <td>1232</td>\n",
              "      <td>1084</td>\n",
              "      <td>1188</td>\n",
              "      <td>530</td>\n",
              "      <td>53</td>\n",
              "      <td>1689</td>\n",
              "      <td>42</td>\n",
              "    </tr>\n",
              "    <tr>\n",
              "      <th>102</th>\n",
              "      <td>BIHAR</td>\n",
              "      <td>PATNA</td>\n",
              "      <td>2001</td>\n",
              "      <td>27</td>\n",
              "      <td>11</td>\n",
              "      <td>90</td>\n",
              "      <td>47</td>\n",
              "      <td>0</td>\n",
              "      <td>152</td>\n",
              "      <td>39</td>\n",
              "    </tr>\n",
              "    <tr>\n",
              "      <th>5378</th>\n",
              "      <td>JHARKHAND</td>\n",
              "      <td>TOTAL</td>\n",
              "      <td>2008</td>\n",
              "      <td>791</td>\n",
              "      <td>499</td>\n",
              "      <td>266</td>\n",
              "      <td>271</td>\n",
              "      <td>23</td>\n",
              "      <td>851</td>\n",
              "      <td>39</td>\n",
              "    </tr>\n",
              "  </tbody>\n",
              "</table>\n",
              "</div>"
            ],
            "text/plain": [
              "            STATE/UT    DISTRICT  ...  Domestic_Cruelty  Importation_of_Girls\n",
              "115            BIHAR       TOTAL  ...              1558                    83\n",
              "3013           BIHAR       TOTAL  ...              1574                    74\n",
              "3597     WEST BENGAL       TOTAL  ...              6936                    61\n",
              "3590     WEST BENGAL       NADIA  ...               545                    60\n",
              "4486           BIHAR       TOTAL  ...              1635                    56\n",
              "3005           BIHAR  SAMASTIPUR  ...                73                    48\n",
              "7810  MADHYA PRADESH       TOTAL  ...              3732                    45\n",
              "3746           BIHAR       TOTAL  ...              1689                    42\n",
              "102            BIHAR       PATNA  ...               152                    39\n",
              "5378       JHARKHAND       TOTAL  ...               851                    39\n",
              "\n",
              "[10 rows x 10 columns]"
            ]
          },
          "metadata": {
            "tags": []
          },
          "execution_count": 91
        }
      ]
    },
    {
      "cell_type": "markdown",
      "metadata": {
        "id": "zhSIKtUxNtTz"
      },
      "source": [
        "According to our analysis, maximum of Importation of girls has been reported in Bihar in the year 2011"
      ]
    },
    {
      "cell_type": "markdown",
      "metadata": {
        "id": "aa8z5JpLNx1j"
      },
      "source": [
        "### Q5. Find out the total number of cases, in span of 2001-2014 under each category, state wise."
      ]
    },
    {
      "cell_type": "code",
      "metadata": {
        "colab": {
          "base_uri": "https://localhost:8080/",
          "height": 1000
        },
        "id": "1Rie2h2QNorM",
        "outputId": "cef5cfcb-ba86-44e6-adb2-c0c8ad9dc165"
      },
      "source": [
        "counts_df = crime_df.groupby('STATE/UT')[['Rape', 'Kidnapping_Abduction', 'Dowry_Deaths','Domestic_Cruelty', 'Importation_of_Girls']].sum()\n",
        "counts_df"
      ],
      "execution_count": 92,
      "outputs": [
        {
          "output_type": "execute_result",
          "data": {
            "text/html": [
              "<div>\n",
              "<style scoped>\n",
              "    .dataframe tbody tr th:only-of-type {\n",
              "        vertical-align: middle;\n",
              "    }\n",
              "\n",
              "    .dataframe tbody tr th {\n",
              "        vertical-align: top;\n",
              "    }\n",
              "\n",
              "    .dataframe thead th {\n",
              "        text-align: right;\n",
              "    }\n",
              "</style>\n",
              "<table border=\"1\" class=\"dataframe\">\n",
              "  <thead>\n",
              "    <tr style=\"text-align: right;\">\n",
              "      <th></th>\n",
              "      <th>Rape</th>\n",
              "      <th>Kidnapping_Abduction</th>\n",
              "      <th>Dowry_Deaths</th>\n",
              "      <th>Domestic_Cruelty</th>\n",
              "      <th>Importation_of_Girls</th>\n",
              "    </tr>\n",
              "    <tr>\n",
              "      <th>STATE/UT</th>\n",
              "      <th></th>\n",
              "      <th></th>\n",
              "      <th></th>\n",
              "      <th></th>\n",
              "      <th></th>\n",
              "    </tr>\n",
              "  </thead>\n",
              "  <tbody>\n",
              "    <tr>\n",
              "      <th>A &amp; N ISLANDS</th>\n",
              "      <td>336</td>\n",
              "      <td>212</td>\n",
              "      <td>20</td>\n",
              "      <td>288</td>\n",
              "      <td>0</td>\n",
              "    </tr>\n",
              "    <tr>\n",
              "      <th>ANDHRA PRADESH</th>\n",
              "      <td>32150</td>\n",
              "      <td>34504</td>\n",
              "      <td>13844</td>\n",
              "      <td>280906</td>\n",
              "      <td>34</td>\n",
              "    </tr>\n",
              "    <tr>\n",
              "      <th>ARUNACHAL PRADESH</th>\n",
              "      <td>1316</td>\n",
              "      <td>1470</td>\n",
              "      <td>6</td>\n",
              "      <td>476</td>\n",
              "      <td>0</td>\n",
              "    </tr>\n",
              "    <tr>\n",
              "      <th>ASSAM</th>\n",
              "      <td>40190</td>\n",
              "      <td>62074</td>\n",
              "      <td>3268</td>\n",
              "      <td>115300</td>\n",
              "      <td>22</td>\n",
              "    </tr>\n",
              "    <tr>\n",
              "      <th>BIHAR</th>\n",
              "      <td>30758</td>\n",
              "      <td>57086</td>\n",
              "      <td>32206</td>\n",
              "      <td>69770</td>\n",
              "      <td>904</td>\n",
              "    </tr>\n",
              "    <tr>\n",
              "      <th>CHANDIGARH</th>\n",
              "      <td>770</td>\n",
              "      <td>1682</td>\n",
              "      <td>90</td>\n",
              "      <td>2080</td>\n",
              "      <td>0</td>\n",
              "    </tr>\n",
              "    <tr>\n",
              "      <th>CHHATTISGARH</th>\n",
              "      <td>29308</td>\n",
              "      <td>11808</td>\n",
              "      <td>2758</td>\n",
              "      <td>23436</td>\n",
              "      <td>12</td>\n",
              "    </tr>\n",
              "    <tr>\n",
              "      <th>D &amp; N HAVELI</th>\n",
              "      <td>132</td>\n",
              "      <td>224</td>\n",
              "      <td>2</td>\n",
              "      <td>90</td>\n",
              "      <td>0</td>\n",
              "    </tr>\n",
              "    <tr>\n",
              "      <th>DAMAN &amp; DIU</th>\n",
              "      <td>60</td>\n",
              "      <td>44</td>\n",
              "      <td>6</td>\n",
              "      <td>76</td>\n",
              "      <td>0</td>\n",
              "    </tr>\n",
              "    <tr>\n",
              "      <th>DELHI</th>\n",
              "      <td>20312</td>\n",
              "      <td>46586</td>\n",
              "      <td>3758</td>\n",
              "      <td>42834</td>\n",
              "      <td>2</td>\n",
              "    </tr>\n",
              "    <tr>\n",
              "      <th>GOA</th>\n",
              "      <td>1062</td>\n",
              "      <td>640</td>\n",
              "      <td>38</td>\n",
              "      <td>532</td>\n",
              "      <td>0</td>\n",
              "    </tr>\n",
              "    <tr>\n",
              "      <th>GUJARAT</th>\n",
              "      <td>11644</td>\n",
              "      <td>34670</td>\n",
              "      <td>1108</td>\n",
              "      <td>146468</td>\n",
              "      <td>0</td>\n",
              "    </tr>\n",
              "    <tr>\n",
              "      <th>HARYANA</th>\n",
              "      <td>17110</td>\n",
              "      <td>20016</td>\n",
              "      <td>7372</td>\n",
              "      <td>68414</td>\n",
              "      <td>4</td>\n",
              "    </tr>\n",
              "    <tr>\n",
              "      <th>HIMACHAL PRADESH</th>\n",
              "      <td>4674</td>\n",
              "      <td>4116</td>\n",
              "      <td>112</td>\n",
              "      <td>7796</td>\n",
              "      <td>0</td>\n",
              "    </tr>\n",
              "    <tr>\n",
              "      <th>JAMMU &amp; KASHMIR</th>\n",
              "      <td>7038</td>\n",
              "      <td>21164</td>\n",
              "      <td>294</td>\n",
              "      <td>5390</td>\n",
              "      <td>0</td>\n",
              "    </tr>\n",
              "    <tr>\n",
              "      <th>JHARKHAND</th>\n",
              "      <td>22826</td>\n",
              "      <td>14186</td>\n",
              "      <td>7896</td>\n",
              "      <td>23910</td>\n",
              "      <td>298</td>\n",
              "    </tr>\n",
              "    <tr>\n",
              "      <th>KARNATAKA</th>\n",
              "      <td>15056</td>\n",
              "      <td>16262</td>\n",
              "      <td>7016</td>\n",
              "      <td>72706</td>\n",
              "      <td>94</td>\n",
              "    </tr>\n",
              "    <tr>\n",
              "      <th>KERALA</th>\n",
              "      <td>20030</td>\n",
              "      <td>4452</td>\n",
              "      <td>700</td>\n",
              "      <td>111626</td>\n",
              "      <td>0</td>\n",
              "    </tr>\n",
              "    <tr>\n",
              "      <th>LAKSHADWEEP</th>\n",
              "      <td>20</td>\n",
              "      <td>2</td>\n",
              "      <td>0</td>\n",
              "      <td>14</td>\n",
              "      <td>0</td>\n",
              "    </tr>\n",
              "    <tr>\n",
              "      <th>MADHYA PRADESH</th>\n",
              "      <td>90996</td>\n",
              "      <td>35608</td>\n",
              "      <td>21090</td>\n",
              "      <td>102816</td>\n",
              "      <td>134</td>\n",
              "    </tr>\n",
              "    <tr>\n",
              "      <th>MAHARASHTRA</th>\n",
              "      <td>48974</td>\n",
              "      <td>30368</td>\n",
              "      <td>9696</td>\n",
              "      <td>193202</td>\n",
              "      <td>6</td>\n",
              "    </tr>\n",
              "    <tr>\n",
              "      <th>MANIPUR</th>\n",
              "      <td>1068</td>\n",
              "      <td>2606</td>\n",
              "      <td>6</td>\n",
              "      <td>578</td>\n",
              "      <td>0</td>\n",
              "    </tr>\n",
              "    <tr>\n",
              "      <th>MEGHALAYA</th>\n",
              "      <td>2642</td>\n",
              "      <td>670</td>\n",
              "      <td>36</td>\n",
              "      <td>460</td>\n",
              "      <td>8</td>\n",
              "    </tr>\n",
              "    <tr>\n",
              "      <th>MIZORAM</th>\n",
              "      <td>2070</td>\n",
              "      <td>30</td>\n",
              "      <td>8</td>\n",
              "      <td>134</td>\n",
              "      <td>6</td>\n",
              "    </tr>\n",
              "    <tr>\n",
              "      <th>NAGALAND</th>\n",
              "      <td>562</td>\n",
              "      <td>190</td>\n",
              "      <td>2</td>\n",
              "      <td>32</td>\n",
              "      <td>2</td>\n",
              "    </tr>\n",
              "    <tr>\n",
              "      <th>ODISHA</th>\n",
              "      <td>30480</td>\n",
              "      <td>25588</td>\n",
              "      <td>10782</td>\n",
              "      <td>49206</td>\n",
              "      <td>36</td>\n",
              "    </tr>\n",
              "    <tr>\n",
              "      <th>PUDUCHERRY</th>\n",
              "      <td>208</td>\n",
              "      <td>306</td>\n",
              "      <td>56</td>\n",
              "      <td>234</td>\n",
              "      <td>0</td>\n",
              "    </tr>\n",
              "    <tr>\n",
              "      <th>PUNJAB</th>\n",
              "      <td>14656</td>\n",
              "      <td>15096</td>\n",
              "      <td>3524</td>\n",
              "      <td>30840</td>\n",
              "      <td>4</td>\n",
              "    </tr>\n",
              "    <tr>\n",
              "      <th>RAJASTHAN</th>\n",
              "      <td>45684</td>\n",
              "      <td>66278</td>\n",
              "      <td>11854</td>\n",
              "      <td>262200</td>\n",
              "      <td>14</td>\n",
              "    </tr>\n",
              "    <tr>\n",
              "      <th>SIKKIM</th>\n",
              "      <td>570</td>\n",
              "      <td>180</td>\n",
              "      <td>4</td>\n",
              "      <td>108</td>\n",
              "      <td>0</td>\n",
              "    </tr>\n",
              "    <tr>\n",
              "      <th>TAMIL NADU</th>\n",
              "      <td>16660</td>\n",
              "      <td>30908</td>\n",
              "      <td>5060</td>\n",
              "      <td>45524</td>\n",
              "      <td>30</td>\n",
              "    </tr>\n",
              "    <tr>\n",
              "      <th>TELANGANA</th>\n",
              "      <td>1958</td>\n",
              "      <td>1422</td>\n",
              "      <td>578</td>\n",
              "      <td>12738</td>\n",
              "      <td>0</td>\n",
              "    </tr>\n",
              "    <tr>\n",
              "      <th>TRIPURA</th>\n",
              "      <td>5060</td>\n",
              "      <td>2202</td>\n",
              "      <td>752</td>\n",
              "      <td>16086</td>\n",
              "      <td>0</td>\n",
              "    </tr>\n",
              "    <tr>\n",
              "      <th>UTTAR PRADESH</th>\n",
              "      <td>51150</td>\n",
              "      <td>135906</td>\n",
              "      <td>57256</td>\n",
              "      <td>193738</td>\n",
              "      <td>6</td>\n",
              "    </tr>\n",
              "    <tr>\n",
              "      <th>UTTARAKHAND</th>\n",
              "      <td>3752</td>\n",
              "      <td>6484</td>\n",
              "      <td>1974</td>\n",
              "      <td>9756</td>\n",
              "      <td>2</td>\n",
              "    </tr>\n",
              "    <tr>\n",
              "      <th>WEST BENGAL</th>\n",
              "      <td>47876</td>\n",
              "      <td>61158</td>\n",
              "      <td>12308</td>\n",
              "      <td>344124</td>\n",
              "      <td>254</td>\n",
              "    </tr>\n",
              "  </tbody>\n",
              "</table>\n",
              "</div>"
            ],
            "text/plain": [
              "                    Rape  ...  Importation_of_Girls\n",
              "STATE/UT                  ...                      \n",
              "A & N ISLANDS        336  ...                     0\n",
              "ANDHRA PRADESH     32150  ...                    34\n",
              "ARUNACHAL PRADESH   1316  ...                     0\n",
              "ASSAM              40190  ...                    22\n",
              "BIHAR              30758  ...                   904\n",
              "CHANDIGARH           770  ...                     0\n",
              "CHHATTISGARH       29308  ...                    12\n",
              "D & N HAVELI         132  ...                     0\n",
              "DAMAN & DIU           60  ...                     0\n",
              "DELHI              20312  ...                     2\n",
              "GOA                 1062  ...                     0\n",
              "GUJARAT            11644  ...                     0\n",
              "HARYANA            17110  ...                     4\n",
              "HIMACHAL PRADESH    4674  ...                     0\n",
              "JAMMU & KASHMIR     7038  ...                     0\n",
              "JHARKHAND          22826  ...                   298\n",
              "KARNATAKA          15056  ...                    94\n",
              "KERALA             20030  ...                     0\n",
              "LAKSHADWEEP           20  ...                     0\n",
              "MADHYA PRADESH     90996  ...                   134\n",
              "MAHARASHTRA        48974  ...                     6\n",
              "MANIPUR             1068  ...                     0\n",
              "MEGHALAYA           2642  ...                     8\n",
              "MIZORAM             2070  ...                     6\n",
              "NAGALAND             562  ...                     2\n",
              "ODISHA             30480  ...                    36\n",
              "PUDUCHERRY           208  ...                     0\n",
              "PUNJAB             14656  ...                     4\n",
              "RAJASTHAN          45684  ...                    14\n",
              "SIKKIM               570  ...                     0\n",
              "TAMIL NADU         16660  ...                    30\n",
              "TELANGANA           1958  ...                     0\n",
              "TRIPURA             5060  ...                     0\n",
              "UTTAR PRADESH      51150  ...                     6\n",
              "UTTARAKHAND         3752  ...                     2\n",
              "WEST BENGAL        47876  ...                   254\n",
              "\n",
              "[36 rows x 5 columns]"
            ]
          },
          "metadata": {
            "tags": []
          },
          "execution_count": 92
        }
      ]
    },
    {
      "cell_type": "markdown",
      "metadata": {
        "id": "1eV63xZ9OEgZ"
      },
      "source": [
        "### Q6. Find out the top 5 states, where maximum numbers of cases has been reported in TOTAL in span of 2001-2014, each category wise?"
      ]
    },
    {
      "cell_type": "code",
      "metadata": {
        "colab": {
          "base_uri": "https://localhost:8080/",
          "height": 235
        },
        "id": "Upzl19xcODe_",
        "outputId": "dac4fefd-c611-4fde-9fcf-5daad201a900"
      },
      "source": [
        "counts_df.sort_values(by = 'Rape', ascending = False).head(5)\n"
      ],
      "execution_count": 93,
      "outputs": [
        {
          "output_type": "execute_result",
          "data": {
            "text/html": [
              "<div>\n",
              "<style scoped>\n",
              "    .dataframe tbody tr th:only-of-type {\n",
              "        vertical-align: middle;\n",
              "    }\n",
              "\n",
              "    .dataframe tbody tr th {\n",
              "        vertical-align: top;\n",
              "    }\n",
              "\n",
              "    .dataframe thead th {\n",
              "        text-align: right;\n",
              "    }\n",
              "</style>\n",
              "<table border=\"1\" class=\"dataframe\">\n",
              "  <thead>\n",
              "    <tr style=\"text-align: right;\">\n",
              "      <th></th>\n",
              "      <th>Rape</th>\n",
              "      <th>Kidnapping_Abduction</th>\n",
              "      <th>Dowry_Deaths</th>\n",
              "      <th>Domestic_Cruelty</th>\n",
              "      <th>Importation_of_Girls</th>\n",
              "    </tr>\n",
              "    <tr>\n",
              "      <th>STATE/UT</th>\n",
              "      <th></th>\n",
              "      <th></th>\n",
              "      <th></th>\n",
              "      <th></th>\n",
              "      <th></th>\n",
              "    </tr>\n",
              "  </thead>\n",
              "  <tbody>\n",
              "    <tr>\n",
              "      <th>MADHYA PRADESH</th>\n",
              "      <td>90996</td>\n",
              "      <td>35608</td>\n",
              "      <td>21090</td>\n",
              "      <td>102816</td>\n",
              "      <td>134</td>\n",
              "    </tr>\n",
              "    <tr>\n",
              "      <th>UTTAR PRADESH</th>\n",
              "      <td>51150</td>\n",
              "      <td>135906</td>\n",
              "      <td>57256</td>\n",
              "      <td>193738</td>\n",
              "      <td>6</td>\n",
              "    </tr>\n",
              "    <tr>\n",
              "      <th>MAHARASHTRA</th>\n",
              "      <td>48974</td>\n",
              "      <td>30368</td>\n",
              "      <td>9696</td>\n",
              "      <td>193202</td>\n",
              "      <td>6</td>\n",
              "    </tr>\n",
              "    <tr>\n",
              "      <th>WEST BENGAL</th>\n",
              "      <td>47876</td>\n",
              "      <td>61158</td>\n",
              "      <td>12308</td>\n",
              "      <td>344124</td>\n",
              "      <td>254</td>\n",
              "    </tr>\n",
              "    <tr>\n",
              "      <th>RAJASTHAN</th>\n",
              "      <td>45684</td>\n",
              "      <td>66278</td>\n",
              "      <td>11854</td>\n",
              "      <td>262200</td>\n",
              "      <td>14</td>\n",
              "    </tr>\n",
              "  </tbody>\n",
              "</table>\n",
              "</div>"
            ],
            "text/plain": [
              "                 Rape  ...  Importation_of_Girls\n",
              "STATE/UT               ...                      \n",
              "MADHYA PRADESH  90996  ...                   134\n",
              "UTTAR PRADESH   51150  ...                     6\n",
              "MAHARASHTRA     48974  ...                     6\n",
              "WEST BENGAL     47876  ...                   254\n",
              "RAJASTHAN       45684  ...                    14\n",
              "\n",
              "[5 rows x 5 columns]"
            ]
          },
          "metadata": {
            "tags": []
          },
          "execution_count": 93
        }
      ]
    },
    {
      "cell_type": "markdown",
      "metadata": {
        "id": "M117KnxfOZqX"
      },
      "source": [
        "Madhya Pradesh has reported the highest number of rape cases in TOTAL in span of 2001-2014, where UP, Maharastra, West Bengal and Rajasthan follows the list.\n",
        "\n",
        "For Kidnapping and abduction case -"
      ]
    },
    {
      "cell_type": "code",
      "metadata": {
        "colab": {
          "base_uri": "https://localhost:8080/",
          "height": 235
        },
        "id": "FBnno9U8OywK",
        "outputId": "cc99f9cb-9859-47ce-d3ba-f0779ec066c0"
      },
      "source": [
        "counts_df.sort_values(by = 'Kidnapping_Abduction', ascending = False).head(5)\n"
      ],
      "execution_count": 94,
      "outputs": [
        {
          "output_type": "execute_result",
          "data": {
            "text/html": [
              "<div>\n",
              "<style scoped>\n",
              "    .dataframe tbody tr th:only-of-type {\n",
              "        vertical-align: middle;\n",
              "    }\n",
              "\n",
              "    .dataframe tbody tr th {\n",
              "        vertical-align: top;\n",
              "    }\n",
              "\n",
              "    .dataframe thead th {\n",
              "        text-align: right;\n",
              "    }\n",
              "</style>\n",
              "<table border=\"1\" class=\"dataframe\">\n",
              "  <thead>\n",
              "    <tr style=\"text-align: right;\">\n",
              "      <th></th>\n",
              "      <th>Rape</th>\n",
              "      <th>Kidnapping_Abduction</th>\n",
              "      <th>Dowry_Deaths</th>\n",
              "      <th>Domestic_Cruelty</th>\n",
              "      <th>Importation_of_Girls</th>\n",
              "    </tr>\n",
              "    <tr>\n",
              "      <th>STATE/UT</th>\n",
              "      <th></th>\n",
              "      <th></th>\n",
              "      <th></th>\n",
              "      <th></th>\n",
              "      <th></th>\n",
              "    </tr>\n",
              "  </thead>\n",
              "  <tbody>\n",
              "    <tr>\n",
              "      <th>UTTAR PRADESH</th>\n",
              "      <td>51150</td>\n",
              "      <td>135906</td>\n",
              "      <td>57256</td>\n",
              "      <td>193738</td>\n",
              "      <td>6</td>\n",
              "    </tr>\n",
              "    <tr>\n",
              "      <th>RAJASTHAN</th>\n",
              "      <td>45684</td>\n",
              "      <td>66278</td>\n",
              "      <td>11854</td>\n",
              "      <td>262200</td>\n",
              "      <td>14</td>\n",
              "    </tr>\n",
              "    <tr>\n",
              "      <th>ASSAM</th>\n",
              "      <td>40190</td>\n",
              "      <td>62074</td>\n",
              "      <td>3268</td>\n",
              "      <td>115300</td>\n",
              "      <td>22</td>\n",
              "    </tr>\n",
              "    <tr>\n",
              "      <th>WEST BENGAL</th>\n",
              "      <td>47876</td>\n",
              "      <td>61158</td>\n",
              "      <td>12308</td>\n",
              "      <td>344124</td>\n",
              "      <td>254</td>\n",
              "    </tr>\n",
              "    <tr>\n",
              "      <th>BIHAR</th>\n",
              "      <td>30758</td>\n",
              "      <td>57086</td>\n",
              "      <td>32206</td>\n",
              "      <td>69770</td>\n",
              "      <td>904</td>\n",
              "    </tr>\n",
              "  </tbody>\n",
              "</table>\n",
              "</div>"
            ],
            "text/plain": [
              "                Rape  ...  Importation_of_Girls\n",
              "STATE/UT              ...                      \n",
              "UTTAR PRADESH  51150  ...                     6\n",
              "RAJASTHAN      45684  ...                    14\n",
              "ASSAM          40190  ...                    22\n",
              "WEST BENGAL    47876  ...                   254\n",
              "BIHAR          30758  ...                   904\n",
              "\n",
              "[5 rows x 5 columns]"
            ]
          },
          "metadata": {
            "tags": []
          },
          "execution_count": 94
        }
      ]
    },
    {
      "cell_type": "markdown",
      "metadata": {
        "id": "XUmUSmDwPBfN"
      },
      "source": [
        "Uttar Pradesh has reported the highest number of cses under \"Kidnapping and Abduction\" in TOTAL in span of 2001-2014, where Rajasthan, Assam, West Bengal and Bihar follows the list.\n",
        "\n",
        "\n",
        "For cases of deaths due to dowry -"
      ]
    },
    {
      "cell_type": "code",
      "metadata": {
        "colab": {
          "base_uri": "https://localhost:8080/",
          "height": 235
        },
        "id": "NRx5s5jMO6Ll",
        "outputId": "0db9f4dc-ba68-4857-c687-9731445b55ba"
      },
      "source": [
        "counts_df.sort_values(by = 'Dowry_Deaths', ascending = False).head(5)\n"
      ],
      "execution_count": 95,
      "outputs": [
        {
          "output_type": "execute_result",
          "data": {
            "text/html": [
              "<div>\n",
              "<style scoped>\n",
              "    .dataframe tbody tr th:only-of-type {\n",
              "        vertical-align: middle;\n",
              "    }\n",
              "\n",
              "    .dataframe tbody tr th {\n",
              "        vertical-align: top;\n",
              "    }\n",
              "\n",
              "    .dataframe thead th {\n",
              "        text-align: right;\n",
              "    }\n",
              "</style>\n",
              "<table border=\"1\" class=\"dataframe\">\n",
              "  <thead>\n",
              "    <tr style=\"text-align: right;\">\n",
              "      <th></th>\n",
              "      <th>Rape</th>\n",
              "      <th>Kidnapping_Abduction</th>\n",
              "      <th>Dowry_Deaths</th>\n",
              "      <th>Domestic_Cruelty</th>\n",
              "      <th>Importation_of_Girls</th>\n",
              "    </tr>\n",
              "    <tr>\n",
              "      <th>STATE/UT</th>\n",
              "      <th></th>\n",
              "      <th></th>\n",
              "      <th></th>\n",
              "      <th></th>\n",
              "      <th></th>\n",
              "    </tr>\n",
              "  </thead>\n",
              "  <tbody>\n",
              "    <tr>\n",
              "      <th>UTTAR PRADESH</th>\n",
              "      <td>51150</td>\n",
              "      <td>135906</td>\n",
              "      <td>57256</td>\n",
              "      <td>193738</td>\n",
              "      <td>6</td>\n",
              "    </tr>\n",
              "    <tr>\n",
              "      <th>BIHAR</th>\n",
              "      <td>30758</td>\n",
              "      <td>57086</td>\n",
              "      <td>32206</td>\n",
              "      <td>69770</td>\n",
              "      <td>904</td>\n",
              "    </tr>\n",
              "    <tr>\n",
              "      <th>MADHYA PRADESH</th>\n",
              "      <td>90996</td>\n",
              "      <td>35608</td>\n",
              "      <td>21090</td>\n",
              "      <td>102816</td>\n",
              "      <td>134</td>\n",
              "    </tr>\n",
              "    <tr>\n",
              "      <th>ANDHRA PRADESH</th>\n",
              "      <td>32150</td>\n",
              "      <td>34504</td>\n",
              "      <td>13844</td>\n",
              "      <td>280906</td>\n",
              "      <td>34</td>\n",
              "    </tr>\n",
              "    <tr>\n",
              "      <th>WEST BENGAL</th>\n",
              "      <td>47876</td>\n",
              "      <td>61158</td>\n",
              "      <td>12308</td>\n",
              "      <td>344124</td>\n",
              "      <td>254</td>\n",
              "    </tr>\n",
              "  </tbody>\n",
              "</table>\n",
              "</div>"
            ],
            "text/plain": [
              "                 Rape  ...  Importation_of_Girls\n",
              "STATE/UT               ...                      \n",
              "UTTAR PRADESH   51150  ...                     6\n",
              "BIHAR           30758  ...                   904\n",
              "MADHYA PRADESH  90996  ...                   134\n",
              "ANDHRA PRADESH  32150  ...                    34\n",
              "WEST BENGAL     47876  ...                   254\n",
              "\n",
              "[5 rows x 5 columns]"
            ]
          },
          "metadata": {
            "tags": []
          },
          "execution_count": 95
        }
      ]
    },
    {
      "cell_type": "markdown",
      "metadata": {
        "id": "8IwMsBxiPOz5"
      },
      "source": [
        "### Uttar Pradesh has reported the highest number of Deaths caused by Dowry cases in TOTAL in span of 2001-2014, where Bihar, Madhya Pradesh, Andhra Pradesh and West Bengal follows the list.\n",
        "\n",
        "For Domestic Violance case -"
      ]
    },
    {
      "cell_type": "code",
      "metadata": {
        "colab": {
          "base_uri": "https://localhost:8080/",
          "height": 235
        },
        "id": "w-JeYq_IPR4E",
        "outputId": "9072ec3f-0383-4d9e-eb70-4a2f03adce4c"
      },
      "source": [
        "counts_df.sort_values(by = 'Domestic_Cruelty', ascending = False).head(5)\n"
      ],
      "execution_count": 96,
      "outputs": [
        {
          "output_type": "execute_result",
          "data": {
            "text/html": [
              "<div>\n",
              "<style scoped>\n",
              "    .dataframe tbody tr th:only-of-type {\n",
              "        vertical-align: middle;\n",
              "    }\n",
              "\n",
              "    .dataframe tbody tr th {\n",
              "        vertical-align: top;\n",
              "    }\n",
              "\n",
              "    .dataframe thead th {\n",
              "        text-align: right;\n",
              "    }\n",
              "</style>\n",
              "<table border=\"1\" class=\"dataframe\">\n",
              "  <thead>\n",
              "    <tr style=\"text-align: right;\">\n",
              "      <th></th>\n",
              "      <th>Rape</th>\n",
              "      <th>Kidnapping_Abduction</th>\n",
              "      <th>Dowry_Deaths</th>\n",
              "      <th>Domestic_Cruelty</th>\n",
              "      <th>Importation_of_Girls</th>\n",
              "    </tr>\n",
              "    <tr>\n",
              "      <th>STATE/UT</th>\n",
              "      <th></th>\n",
              "      <th></th>\n",
              "      <th></th>\n",
              "      <th></th>\n",
              "      <th></th>\n",
              "    </tr>\n",
              "  </thead>\n",
              "  <tbody>\n",
              "    <tr>\n",
              "      <th>WEST BENGAL</th>\n",
              "      <td>47876</td>\n",
              "      <td>61158</td>\n",
              "      <td>12308</td>\n",
              "      <td>344124</td>\n",
              "      <td>254</td>\n",
              "    </tr>\n",
              "    <tr>\n",
              "      <th>ANDHRA PRADESH</th>\n",
              "      <td>32150</td>\n",
              "      <td>34504</td>\n",
              "      <td>13844</td>\n",
              "      <td>280906</td>\n",
              "      <td>34</td>\n",
              "    </tr>\n",
              "    <tr>\n",
              "      <th>RAJASTHAN</th>\n",
              "      <td>45684</td>\n",
              "      <td>66278</td>\n",
              "      <td>11854</td>\n",
              "      <td>262200</td>\n",
              "      <td>14</td>\n",
              "    </tr>\n",
              "    <tr>\n",
              "      <th>UTTAR PRADESH</th>\n",
              "      <td>51150</td>\n",
              "      <td>135906</td>\n",
              "      <td>57256</td>\n",
              "      <td>193738</td>\n",
              "      <td>6</td>\n",
              "    </tr>\n",
              "    <tr>\n",
              "      <th>MAHARASHTRA</th>\n",
              "      <td>48974</td>\n",
              "      <td>30368</td>\n",
              "      <td>9696</td>\n",
              "      <td>193202</td>\n",
              "      <td>6</td>\n",
              "    </tr>\n",
              "  </tbody>\n",
              "</table>\n",
              "</div>"
            ],
            "text/plain": [
              "                 Rape  ...  Importation_of_Girls\n",
              "STATE/UT               ...                      \n",
              "WEST BENGAL     47876  ...                   254\n",
              "ANDHRA PRADESH  32150  ...                    34\n",
              "RAJASTHAN       45684  ...                    14\n",
              "UTTAR PRADESH   51150  ...                     6\n",
              "MAHARASHTRA     48974  ...                     6\n",
              "\n",
              "[5 rows x 5 columns]"
            ]
          },
          "metadata": {
            "tags": []
          },
          "execution_count": 96
        }
      ]
    },
    {
      "cell_type": "markdown",
      "metadata": {
        "id": "M0jLaTMnPYxV"
      },
      "source": [
        "### West Bengal has reported the highest number of cases of Domestic Violence in TOTAL in span of 2001-2014, where Andhra Pradesh, Rajsthan, Uttar Pradesh and Maharashtra follows the list.\n",
        "\n",
        "\n",
        "For Importation of Girls case -"
      ]
    },
    {
      "cell_type": "code",
      "metadata": {
        "colab": {
          "base_uri": "https://localhost:8080/",
          "height": 235
        },
        "id": "3Ypkr11DPUxC",
        "outputId": "fa7c71e2-d367-41a7-c20f-6b40cca1bf26"
      },
      "source": [
        "counts_df.sort_values(by = 'Importation_of_Girls', ascending = False).head(5)\n"
      ],
      "execution_count": 97,
      "outputs": [
        {
          "output_type": "execute_result",
          "data": {
            "text/html": [
              "<div>\n",
              "<style scoped>\n",
              "    .dataframe tbody tr th:only-of-type {\n",
              "        vertical-align: middle;\n",
              "    }\n",
              "\n",
              "    .dataframe tbody tr th {\n",
              "        vertical-align: top;\n",
              "    }\n",
              "\n",
              "    .dataframe thead th {\n",
              "        text-align: right;\n",
              "    }\n",
              "</style>\n",
              "<table border=\"1\" class=\"dataframe\">\n",
              "  <thead>\n",
              "    <tr style=\"text-align: right;\">\n",
              "      <th></th>\n",
              "      <th>Rape</th>\n",
              "      <th>Kidnapping_Abduction</th>\n",
              "      <th>Dowry_Deaths</th>\n",
              "      <th>Domestic_Cruelty</th>\n",
              "      <th>Importation_of_Girls</th>\n",
              "    </tr>\n",
              "    <tr>\n",
              "      <th>STATE/UT</th>\n",
              "      <th></th>\n",
              "      <th></th>\n",
              "      <th></th>\n",
              "      <th></th>\n",
              "      <th></th>\n",
              "    </tr>\n",
              "  </thead>\n",
              "  <tbody>\n",
              "    <tr>\n",
              "      <th>BIHAR</th>\n",
              "      <td>30758</td>\n",
              "      <td>57086</td>\n",
              "      <td>32206</td>\n",
              "      <td>69770</td>\n",
              "      <td>904</td>\n",
              "    </tr>\n",
              "    <tr>\n",
              "      <th>JHARKHAND</th>\n",
              "      <td>22826</td>\n",
              "      <td>14186</td>\n",
              "      <td>7896</td>\n",
              "      <td>23910</td>\n",
              "      <td>298</td>\n",
              "    </tr>\n",
              "    <tr>\n",
              "      <th>WEST BENGAL</th>\n",
              "      <td>47876</td>\n",
              "      <td>61158</td>\n",
              "      <td>12308</td>\n",
              "      <td>344124</td>\n",
              "      <td>254</td>\n",
              "    </tr>\n",
              "    <tr>\n",
              "      <th>MADHYA PRADESH</th>\n",
              "      <td>90996</td>\n",
              "      <td>35608</td>\n",
              "      <td>21090</td>\n",
              "      <td>102816</td>\n",
              "      <td>134</td>\n",
              "    </tr>\n",
              "    <tr>\n",
              "      <th>KARNATAKA</th>\n",
              "      <td>15056</td>\n",
              "      <td>16262</td>\n",
              "      <td>7016</td>\n",
              "      <td>72706</td>\n",
              "      <td>94</td>\n",
              "    </tr>\n",
              "  </tbody>\n",
              "</table>\n",
              "</div>"
            ],
            "text/plain": [
              "                 Rape  ...  Importation_of_Girls\n",
              "STATE/UT               ...                      \n",
              "BIHAR           30758  ...                   904\n",
              "JHARKHAND       22826  ...                   298\n",
              "WEST BENGAL     47876  ...                   254\n",
              "MADHYA PRADESH  90996  ...                   134\n",
              "KARNATAKA       15056  ...                    94\n",
              "\n",
              "[5 rows x 5 columns]"
            ]
          },
          "metadata": {
            "tags": []
          },
          "execution_count": 97
        }
      ]
    },
    {
      "cell_type": "markdown",
      "metadata": {
        "id": "BWvN2H45PfeA"
      },
      "source": [
        "## Bihar has reported the highest number of Importation of girl's cases in TOTAL in span of 2001-2014, where Jharkhand, West Bengal, Madhya Pradesh and Karnataka follows the list."
      ]
    },
    {
      "cell_type": "markdown",
      "metadata": {
        "id": "UGkOaTXDPr-W"
      },
      "source": [
        "### Q7: Which state has featured in both the lists of \"Maximum number of rape cases\" and \"Maximum number of Deaths due to Dowry cases\" ?"
      ]
    },
    {
      "cell_type": "code",
      "metadata": {
        "colab": {
          "base_uri": "https://localhost:8080/",
          "height": 117
        },
        "id": "vwUO5BeVPeGs",
        "outputId": "0f190b47-74c9-41fb-eb8a-6b40e9ac97dd"
      },
      "source": [
        "max_dowry_death_cases = max_dowry_death_cases.merge(max_rape_cases)\n",
        "max_dowry_death_cases"
      ],
      "execution_count": 98,
      "outputs": [
        {
          "output_type": "execute_result",
          "data": {
            "text/html": [
              "<div>\n",
              "<style scoped>\n",
              "    .dataframe tbody tr th:only-of-type {\n",
              "        vertical-align: middle;\n",
              "    }\n",
              "\n",
              "    .dataframe tbody tr th {\n",
              "        vertical-align: top;\n",
              "    }\n",
              "\n",
              "    .dataframe thead th {\n",
              "        text-align: right;\n",
              "    }\n",
              "</style>\n",
              "<table border=\"1\" class=\"dataframe\">\n",
              "  <thead>\n",
              "    <tr style=\"text-align: right;\">\n",
              "      <th></th>\n",
              "      <th>STATE/UT</th>\n",
              "      <th>DISTRICT</th>\n",
              "      <th>Year</th>\n",
              "      <th>Rape</th>\n",
              "      <th>Kidnapping_Abduction</th>\n",
              "      <th>Dowry_Deaths</th>\n",
              "      <th>Hurting_of_womens_modesty</th>\n",
              "      <th>Insult_to_womens_modesty</th>\n",
              "      <th>Domestic_Cruelty</th>\n",
              "      <th>Importation_of_Girls</th>\n",
              "    </tr>\n",
              "  </thead>\n",
              "  <tbody>\n",
              "    <tr>\n",
              "      <th>0</th>\n",
              "      <td>UTTAR PRADESH</td>\n",
              "      <td>TOTAL DISTRICT(S)</td>\n",
              "      <td>2014</td>\n",
              "      <td>3467</td>\n",
              "      <td>10626</td>\n",
              "      <td>2469</td>\n",
              "      <td>8605</td>\n",
              "      <td>29</td>\n",
              "      <td>10471</td>\n",
              "      <td>0</td>\n",
              "    </tr>\n",
              "  </tbody>\n",
              "</table>\n",
              "</div>"
            ],
            "text/plain": [
              "        STATE/UT           DISTRICT  ...  Domestic_Cruelty  Importation_of_Girls\n",
              "0  UTTAR PRADESH  TOTAL DISTRICT(S)  ...             10471                     0\n",
              "\n",
              "[1 rows x 10 columns]"
            ]
          },
          "metadata": {
            "tags": []
          },
          "execution_count": 98
        }
      ]
    },
    {
      "cell_type": "markdown",
      "metadata": {
        "id": "bJtnJrgVP9j4"
      },
      "source": [
        "### We conclude, it is Uttar Pradesh, who has reported maximum cases in both the given categories."
      ]
    },
    {
      "cell_type": "markdown",
      "metadata": {
        "id": "4kvFS-oUQFCF"
      },
      "source": [
        "# Inferences and Conclusion\n"
      ]
    },
    {
      "cell_type": "markdown",
      "metadata": {
        "id": "xkAGUAy-Qcdc"
      },
      "source": [
        "### We also did a deep analysis through charts and by raising important questions. Let us go through some of the important analysis, we have done through thid project -\n",
        "\n",
        "1)More than 5 million females has been a victim of some or other type of Violance, based on their gender, \n",
        "      starting from rape to importing them for buisness. \n",
        "\n",
        "2) We concluded from the series of bar graphs that 2014 was the year, when crimes were reported the highest \n",
        "      under each category.\n",
        "\n",
        "3) We tried finding out the top 10 highest cases reported ever, along with year in which has been reported \n",
        "      and in which state.Where, Madhya Pradesh having highest number of cases of rape in 2014, Uttar Pradesh having \n",
        "      highest cases in Dowry death in 2014, West Bengal having highest cases in Domestic Violance in 2014 and Bihar \n",
        "      having the highest cases in importaion of girls in 2011.\n",
        "\n",
        "4)We summarised the TOTAL number of cases happening, in 2001-2014, by each state.\n",
        "\n",
        "5)We also found out the top 5 states where maximum number of TOTAL cases has been reported from 2001-2014, \n",
        "      state   wise.\n",
        "\n",
        "6)We also merged the data in two different cases, first one being \"Maximum number of rape cases\" and \n",
        "      \"Maximum number of Importation cases\", where we found out it is Madhya Pradesh and in second one being \n",
        "      \"Maximum number of rape cases\" and \"Maximum number of Deaths due to Dowry cases\", which we concluded to \n",
        "      be Uttar Pradesh."
      ]
    },
    {
      "cell_type": "code",
      "metadata": {
        "id": "RUoiKo4NQulB"
      },
      "source": [
        ""
      ],
      "execution_count": 98,
      "outputs": []
    }
  ]
}