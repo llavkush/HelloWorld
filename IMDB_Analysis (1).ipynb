{
  "nbformat": 4,
  "nbformat_minor": 0,
  "metadata": {
    "colab": {
      "name": "IMDB Analysis.ipynb",
      "provenance": [],
      "collapsed_sections": []
    },
    "kernelspec": {
      "name": "python3",
      "display_name": "Python 3"
    },
    "language_info": {
      "name": "python"
    }
  },
  "cells": [
    {
      "cell_type": "markdown",
      "metadata": {
        "id": "DKaqqif5RnSF"
      },
      "source": [
        "#  IMDBMovie Data Scraping Using OMBD API and Exloratory Data Analysis\n",
        "\n",
        "\n",
        "\n"
      ]
    },
    {
      "cell_type": "code",
      "metadata": {
        "id": "pN372jj4Bnt7"
      },
      "source": [
        "#Importing Required Libraries\n",
        "import numpy as np\n",
        "import pandas as pd\n",
        "import matplotlib.pyplot as plt\n",
        "import re\n",
        "import requests"
      ],
      "execution_count": null,
      "outputs": []
    },
    {
      "cell_type": "code",
      "metadata": {
        "id": "NOEKbvh4B34s"
      },
      "source": [
        "# Api key obtain from signing up at https://www.omdbapi.com/\n",
        "apiKey = '6f8efbfc'"
      ],
      "execution_count": null,
      "outputs": []
    },
    {
      "cell_type": "code",
      "metadata": {
        "id": "54UAvqDvqZRa"
      },
      "source": [
        "movies_dataset = []  #Crating Empty Dataset to Store Movie info from OMDBApi\n"
      ],
      "execution_count": null,
      "outputs": []
    },
    {
      "cell_type": "code",
      "metadata": {
        "id": "z_67jKp9F57q"
      },
      "source": [
        "#Function to Take Movie Name ant output the ImDB Data\n",
        "def get_movie_info(MovieTitle):\n",
        "    movie = MovieTitle.replace(\" \", \"%20\")\n",
        "    url = 'http://www.omdbapi.com/?apiKey='+apiKey+'&t='+movie\n",
        "    response = requests.get(url).json()\n",
        "    if \"Error\" in response:\n",
        "      return None\n",
        "    else :\n",
        "      Title = response['Title']\n",
        "      IMDB_Id = response['imdbID']\n",
        "      IMDB_Id = re.findall('[0-9]+', IMDB_Id)\n",
        "      Date_of_release = response['Released']\n",
        "      Genre = response['Genre']\n",
        "      Cast = response['Actors']\n",
        "      Plot_Summary = response['Plot']\n",
        "      IMDB_Ratings = response['imdbRating']\n",
        "      IMDB_Votes = response['imdbVotes']\n",
        "      Released_Year = response['Year']\n",
        "      my_list = [Title, IMDB_Id, Date_of_release, Genre, Cast, Plot_Summary, IMDB_Ratings, IMDB_Votes,Released_Year]\n",
        "      movies_dataset.append(my_list)\n",
        "      #print(my_list)"
      ],
      "execution_count": null,
      "outputs": []
    },
    {
      "cell_type": "code",
      "metadata": {
        "colab": {
          "base_uri": "https://localhost:8080/",
          "height": 419
        },
        "id": "z4rTYf_mmEpK",
        "outputId": "702ed6a6-4a65-457b-f612-5fcbb8ac6adc"
      },
      "source": [
        "#Loading the Bollywood Movies Dataset\n",
        "movie_name = pd.read_excel('/content/Bollywood Movies Dataset.xlsx')\n",
        "movie_name"
      ],
      "execution_count": null,
      "outputs": [
        {
          "output_type": "execute_result",
          "data": {
            "text/html": [
              "<div>\n",
              "<style scoped>\n",
              "    .dataframe tbody tr th:only-of-type {\n",
              "        vertical-align: middle;\n",
              "    }\n",
              "\n",
              "    .dataframe tbody tr th {\n",
              "        vertical-align: top;\n",
              "    }\n",
              "\n",
              "    .dataframe thead th {\n",
              "        text-align: right;\n",
              "    }\n",
              "</style>\n",
              "<table border=\"1\" class=\"dataframe\">\n",
              "  <thead>\n",
              "    <tr style=\"text-align: right;\">\n",
              "      <th></th>\n",
              "      <th>Movie Title</th>\n",
              "    </tr>\n",
              "  </thead>\n",
              "  <tbody>\n",
              "    <tr>\n",
              "      <th>0</th>\n",
              "      <td>3 Idiots</td>\n",
              "    </tr>\n",
              "    <tr>\n",
              "      <th>1</th>\n",
              "      <td>Taare Zameen Par</td>\n",
              "    </tr>\n",
              "    <tr>\n",
              "      <th>2</th>\n",
              "      <td>PK (film)</td>\n",
              "    </tr>\n",
              "    <tr>\n",
              "      <th>3</th>\n",
              "      <td>Dangal (film)</td>\n",
              "    </tr>\n",
              "    <tr>\n",
              "      <th>4</th>\n",
              "      <td>Rang De Basanti</td>\n",
              "    </tr>\n",
              "    <tr>\n",
              "      <th>...</th>\n",
              "      <td>...</td>\n",
              "    </tr>\n",
              "    <tr>\n",
              "      <th>3995</th>\n",
              "      <td>Mehmaan (film)</td>\n",
              "    </tr>\n",
              "    <tr>\n",
              "      <th>3996</th>\n",
              "      <td>Sorry Daddy</td>\n",
              "    </tr>\n",
              "    <tr>\n",
              "      <th>3997</th>\n",
              "      <td>Raadha Aur Seeta</td>\n",
              "    </tr>\n",
              "    <tr>\n",
              "      <th>3998</th>\n",
              "      <td>Dafaa 302</td>\n",
              "    </tr>\n",
              "    <tr>\n",
              "      <th>3999</th>\n",
              "      <td>Calapor (film)</td>\n",
              "    </tr>\n",
              "  </tbody>\n",
              "</table>\n",
              "<p>4000 rows × 1 columns</p>\n",
              "</div>"
            ],
            "text/plain": [
              "           Movie Title\n",
              "0             3 Idiots\n",
              "1     Taare Zameen Par\n",
              "2            PK (film)\n",
              "3        Dangal (film)\n",
              "4      Rang De Basanti\n",
              "...                ...\n",
              "3995    Mehmaan (film)\n",
              "3996       Sorry Daddy\n",
              "3997  Raadha Aur Seeta\n",
              "3998         Dafaa 302\n",
              "3999    Calapor (film)\n",
              "\n",
              "[4000 rows x 1 columns]"
            ]
          },
          "metadata": {
            "tags": []
          },
          "execution_count": 196
        }
      ]
    },
    {
      "cell_type": "code",
      "metadata": {
        "colab": {
          "base_uri": "https://localhost:8080/"
        },
        "id": "Ruy3a2Y5mcaN",
        "outputId": "9bb28db0-0407-49ae-a6b3-d07343ff851a"
      },
      "source": [
        "#Removing the content within the parenthesis from Movie title \n",
        "movie_name = movie_name['Movie Title'].str.replace(r\"\\(.*\\)\",\"\")\n",
        "movie_name"
      ],
      "execution_count": null,
      "outputs": [
        {
          "output_type": "execute_result",
          "data": {
            "text/plain": [
              "0               3 Idiots\n",
              "1       Taare Zameen Par\n",
              "2                    PK \n",
              "3                Dangal \n",
              "4        Rang De Basanti\n",
              "              ...       \n",
              "3995            Mehmaan \n",
              "3996         Sorry Daddy\n",
              "3997    Raadha Aur Seeta\n",
              "3998           Dafaa 302\n",
              "3999            Calapor \n",
              "Name: Movie Title, Length: 4000, dtype: object"
            ]
          },
          "metadata": {
            "tags": []
          },
          "execution_count": 197
        }
      ]
    },
    {
      "cell_type": "markdown",
      "metadata": {
        "id": "FtfOXLq2xcNM"
      },
      "source": [
        "### As OMDB free api services allows to excess 1000 request per user, I have split the dateset each with 1000 values to excess each dataframe with different api keys"
      ]
    },
    {
      "cell_type": "code",
      "metadata": {
        "id": "ZI6NClobPOj1"
      },
      "source": [
        "\n",
        "df1 = movie_name[0:1000]\n",
        "df2 = movie_name[1001:2000]\n",
        "df3 = movie_name[2001:3000]\n",
        "df4 = movie_name[3001:4000]"
      ],
      "execution_count": null,
      "outputs": []
    },
    {
      "cell_type": "code",
      "metadata": {
        "colab": {
          "base_uri": "https://localhost:8080/"
        },
        "id": "ZR9QeGPnnJxw",
        "outputId": "c747b761-321e-4300-860f-eae09e8280d5"
      },
      "source": [
        "print(df1.shape)\n",
        "print(df2.shape)\n",
        "print(df3.shape)\n",
        "print(df4.shape)"
      ],
      "execution_count": null,
      "outputs": [
        {
          "output_type": "stream",
          "text": [
            "(1000,)\n",
            "(999,)\n",
            "(999,)\n",
            "(999,)\n"
          ],
          "name": "stdout"
        }
      ]
    },
    {
      "cell_type": "markdown",
      "metadata": {
        "id": "gtnD99HqyEOg"
      },
      "source": [
        "### Appling our function to Dataframe"
      ]
    },
    {
      "cell_type": "code",
      "metadata": {
        "id": "xPR40UgtQ_kO"
      },
      "source": [
        "\n",
        "df1.apply(get_movie_info)\n"
      ],
      "execution_count": null,
      "outputs": []
    },
    {
      "cell_type": "code",
      "metadata": {
        "id": "zqNXzMBIp_th"
      },
      "source": [
        "df2.apply(get_movie_info)\n"
      ],
      "execution_count": null,
      "outputs": []
    },
    {
      "cell_type": "code",
      "metadata": {
        "id": "pkA0d2hWr3d4"
      },
      "source": [
        "df3.apply(get_movie_info)\n"
      ],
      "execution_count": null,
      "outputs": []
    },
    {
      "cell_type": "code",
      "metadata": {
        "id": "ap14HvL_uEre"
      },
      "source": [
        "df4.apply(get_movie_info)\n"
      ],
      "execution_count": null,
      "outputs": []
    },
    {
      "cell_type": "code",
      "metadata": {
        "colab": {
          "base_uri": "https://localhost:8080/"
        },
        "id": "qVvsNGjVeRqG",
        "outputId": "787ca4d2-4598-4620-f0af-75ea9dc700ca"
      },
      "source": [
        "len(movies_dataset)"
      ],
      "execution_count": null,
      "outputs": [
        {
          "output_type": "execute_result",
          "data": {
            "text/plain": [
              "3814"
            ]
          },
          "metadata": {
            "tags": []
          },
          "execution_count": 233
        }
      ]
    },
    {
      "cell_type": "markdown",
      "metadata": {
        "id": "79GgrFuDyMYB"
      },
      "source": [
        "### Creating Pandas Dataframe from list which had our Movie information from IMdb"
      ]
    },
    {
      "cell_type": "code",
      "metadata": {
        "colab": {
          "base_uri": "https://localhost:8080/",
          "height": 476
        },
        "id": "WD9ZAtg-Lw6L",
        "outputId": "17771929-e24b-45ad-b080-d6c74a52dd12"
      },
      "source": [
        "columns_name = ['Title', 'IMDB_ID',\"Date_of_Release\", 'Genre','Cast','Plot summary','IMDB Rating','IMDB Votes','Released_Year']\n",
        "my_df  = pd.DataFrame(movies_dataset, columns=columns_name) # creating empty dataframe\n",
        "my_df.tail()"
      ],
      "execution_count": null,
      "outputs": [
        {
          "output_type": "execute_result",
          "data": {
            "text/html": [
              "<div>\n",
              "<style scoped>\n",
              "    .dataframe tbody tr th:only-of-type {\n",
              "        vertical-align: middle;\n",
              "    }\n",
              "\n",
              "    .dataframe tbody tr th {\n",
              "        vertical-align: top;\n",
              "    }\n",
              "\n",
              "    .dataframe thead th {\n",
              "        text-align: right;\n",
              "    }\n",
              "</style>\n",
              "<table border=\"1\" class=\"dataframe\">\n",
              "  <thead>\n",
              "    <tr style=\"text-align: right;\">\n",
              "      <th></th>\n",
              "      <th>Title</th>\n",
              "      <th>IMDB_ID</th>\n",
              "      <th>Date_of_Release</th>\n",
              "      <th>Genre</th>\n",
              "      <th>Cast</th>\n",
              "      <th>Plot summary</th>\n",
              "      <th>IMDB Rating</th>\n",
              "      <th>IMDB Votes</th>\n",
              "      <th>Released_Year</th>\n",
              "    </tr>\n",
              "  </thead>\n",
              "  <tbody>\n",
              "    <tr>\n",
              "      <th>3809</th>\n",
              "      <td>Mehmaan</td>\n",
              "      <td>[8215918]</td>\n",
              "      <td>14 Feb 2018</td>\n",
              "      <td>Short, Drama</td>\n",
              "      <td>Saheb Bhattacharjee, Koushik Sen, Raima Sen</td>\n",
              "      <td>Somshubhro and Aalo are a happily married coup...</td>\n",
              "      <td>7.1</td>\n",
              "      <td>15</td>\n",
              "      <td>2018</td>\n",
              "    </tr>\n",
              "    <tr>\n",
              "      <th>3810</th>\n",
              "      <td>Sorry Daddy</td>\n",
              "      <td>[4994210]</td>\n",
              "      <td>11 Sep 2015</td>\n",
              "      <td>Action</td>\n",
              "      <td>Shamim Khan, Anupam Shukla, Mukesh Tiwari, Tin...</td>\n",
              "      <td>Sorry daddy is a Children story centring aroun...</td>\n",
              "      <td>4.7</td>\n",
              "      <td>6</td>\n",
              "      <td>2015</td>\n",
              "    </tr>\n",
              "    <tr>\n",
              "      <th>3811</th>\n",
              "      <td>Raadha Aur Seeta</td>\n",
              "      <td>[0378633]</td>\n",
              "      <td>10 Aug 1979</td>\n",
              "      <td>Drama, Family</td>\n",
              "      <td>Rajendra Nath, Madan Puri, Leela Mishra, Savit...</td>\n",
              "      <td>After having completed his masters with honors...</td>\n",
              "      <td>5.4</td>\n",
              "      <td>7</td>\n",
              "      <td>1979</td>\n",
              "    </tr>\n",
              "    <tr>\n",
              "      <th>3812</th>\n",
              "      <td>Dafaa 302: Indian Penal Code Section 302 (Sect...</td>\n",
              "      <td>[0359129]</td>\n",
              "      <td>N/A</td>\n",
              "      <td>N/A</td>\n",
              "      <td>Randhir Kapoor, Rekha, Ajit, Ashok Kumar</td>\n",
              "      <td>Mohan Lal lives in a small rural town in India...</td>\n",
              "      <td>N/A</td>\n",
              "      <td>N/A</td>\n",
              "      <td>1975</td>\n",
              "    </tr>\n",
              "    <tr>\n",
              "      <th>3813</th>\n",
              "      <td>Calapor</td>\n",
              "      <td>[3311236]</td>\n",
              "      <td>02 Aug 2013</td>\n",
              "      <td>Drama</td>\n",
              "      <td>Hemant Gopal, Rituparna Sengupta, Akash Sharma</td>\n",
              "      <td>The film is a taut thriller, set in the backdr...</td>\n",
              "      <td>5.2</td>\n",
              "      <td>6</td>\n",
              "      <td>2013</td>\n",
              "    </tr>\n",
              "  </tbody>\n",
              "</table>\n",
              "</div>"
            ],
            "text/plain": [
              "                                                  Title  ... Released_Year\n",
              "3809                                            Mehmaan  ...          2018\n",
              "3810                                        Sorry Daddy  ...          2015\n",
              "3811                                   Raadha Aur Seeta  ...          1979\n",
              "3812  Dafaa 302: Indian Penal Code Section 302 (Sect...  ...          1975\n",
              "3813                                            Calapor  ...          2013\n",
              "\n",
              "[5 rows x 9 columns]"
            ]
          },
          "metadata": {
            "tags": []
          },
          "execution_count": 234
        }
      ]
    },
    {
      "cell_type": "markdown",
      "metadata": {
        "id": "KPY3ehc5yYwW"
      },
      "source": [
        "### Saving our Dataframe To CSV"
      ]
    },
    {
      "cell_type": "code",
      "metadata": {
        "id": "bUTcSoDXptiK"
      },
      "source": [
        "my_df.to_csv('movies_info.csv')"
      ],
      "execution_count": null,
      "outputs": []
    },
    {
      "cell_type": "code",
      "metadata": {
        "colab": {
          "base_uri": "https://localhost:8080/",
          "height": 510
        },
        "id": "OJVvuIDhwHzH",
        "outputId": "2cf70b6b-a76e-4647-ac64-5d1202d287b4"
      },
      "source": [
        "movieinfo = pd.read_csv('/content/movies_info.csv')\n",
        "movieinfo.head()"
      ],
      "execution_count": null,
      "outputs": [
        {
          "output_type": "execute_result",
          "data": {
            "text/html": [
              "<div>\n",
              "<style scoped>\n",
              "    .dataframe tbody tr th:only-of-type {\n",
              "        vertical-align: middle;\n",
              "    }\n",
              "\n",
              "    .dataframe tbody tr th {\n",
              "        vertical-align: top;\n",
              "    }\n",
              "\n",
              "    .dataframe thead th {\n",
              "        text-align: right;\n",
              "    }\n",
              "</style>\n",
              "<table border=\"1\" class=\"dataframe\">\n",
              "  <thead>\n",
              "    <tr style=\"text-align: right;\">\n",
              "      <th></th>\n",
              "      <th>Unnamed: 0</th>\n",
              "      <th>Title</th>\n",
              "      <th>IMDB_ID</th>\n",
              "      <th>Date_of_Release</th>\n",
              "      <th>Genre</th>\n",
              "      <th>Cast</th>\n",
              "      <th>Plot summary</th>\n",
              "      <th>IMDB Rating</th>\n",
              "      <th>IMDB Votes</th>\n",
              "      <th>Released_Year</th>\n",
              "    </tr>\n",
              "  </thead>\n",
              "  <tbody>\n",
              "    <tr>\n",
              "      <th>0</th>\n",
              "      <td>0</td>\n",
              "      <td>3 Idiots</td>\n",
              "      <td>['1187043']</td>\n",
              "      <td>25 Dec 2009</td>\n",
              "      <td>Comedy, Drama</td>\n",
              "      <td>Aamir Khan, Madhavan, Mona Singh</td>\n",
              "      <td>Two friends are searching for their long lost ...</td>\n",
              "      <td>8.4</td>\n",
              "      <td>360,710</td>\n",
              "      <td>2009</td>\n",
              "    </tr>\n",
              "    <tr>\n",
              "      <th>1</th>\n",
              "      <td>1</td>\n",
              "      <td>Taare Zameen Par</td>\n",
              "      <td>['0986264']</td>\n",
              "      <td>21 Dec 2007</td>\n",
              "      <td>Drama, Family</td>\n",
              "      <td>Darsheel Safary, Aamir Khan, Tisca Chopra</td>\n",
              "      <td>An eight-year-old boy is thought to be a lazy ...</td>\n",
              "      <td>8.4</td>\n",
              "      <td>178,164</td>\n",
              "      <td>2007</td>\n",
              "    </tr>\n",
              "    <tr>\n",
              "      <th>2</th>\n",
              "      <td>2</td>\n",
              "      <td>PK</td>\n",
              "      <td>['2338151']</td>\n",
              "      <td>19 Dec 2014</td>\n",
              "      <td>Comedy, Drama, Musical</td>\n",
              "      <td>Aamir Khan, Anushka Sharma, Sanjay Dutt</td>\n",
              "      <td>An alien on Earth loses the only device he can...</td>\n",
              "      <td>8.1</td>\n",
              "      <td>170,150</td>\n",
              "      <td>2014</td>\n",
              "    </tr>\n",
              "    <tr>\n",
              "      <th>3</th>\n",
              "      <td>3</td>\n",
              "      <td>Dangal</td>\n",
              "      <td>['5074352']</td>\n",
              "      <td>21 Dec 2016</td>\n",
              "      <td>Action, Biography, Drama</td>\n",
              "      <td>Aamir Khan, Sakshi Tanwar, Fatima Sana Shaikh</td>\n",
              "      <td>Former wrestler Mahavir Singh Phogat and his t...</td>\n",
              "      <td>8.4</td>\n",
              "      <td>166,872</td>\n",
              "      <td>2016</td>\n",
              "    </tr>\n",
              "    <tr>\n",
              "      <th>4</th>\n",
              "      <td>4</td>\n",
              "      <td>Rang De Basanti</td>\n",
              "      <td>['0405508']</td>\n",
              "      <td>26 Jan 2006</td>\n",
              "      <td>Comedy, Crime, Drama</td>\n",
              "      <td>Aamir Khan, Soha Ali Khan, Siddharth</td>\n",
              "      <td>The story of six young Indians who assist an E...</td>\n",
              "      <td>8.1</td>\n",
              "      <td>115,406</td>\n",
              "      <td>2006</td>\n",
              "    </tr>\n",
              "  </tbody>\n",
              "</table>\n",
              "</div>"
            ],
            "text/plain": [
              "   Unnamed: 0             Title  ... IMDB Votes Released_Year\n",
              "0           0          3 Idiots  ...    360,710          2009\n",
              "1           1  Taare Zameen Par  ...    178,164          2007\n",
              "2           2                PK  ...    170,150          2014\n",
              "3           3            Dangal  ...    166,872          2016\n",
              "4           4   Rang De Basanti  ...    115,406          2006\n",
              "\n",
              "[5 rows x 10 columns]"
            ]
          },
          "metadata": {
            "tags": []
          },
          "execution_count": 261
        }
      ]
    },
    {
      "cell_type": "code",
      "metadata": {
        "colab": {
          "base_uri": "https://localhost:8080/"
        },
        "id": "UqqoybLJysdK",
        "outputId": "93b288a6-a218-4d6b-847a-83aaa9e0ae5f"
      },
      "source": [
        "movieinfo.shape"
      ],
      "execution_count": null,
      "outputs": [
        {
          "output_type": "execute_result",
          "data": {
            "text/plain": [
              "(3814, 10)"
            ]
          },
          "metadata": {
            "tags": []
          },
          "execution_count": 262
        }
      ]
    },
    {
      "cell_type": "code",
      "metadata": {
        "colab": {
          "base_uri": "https://localhost:8080/"
        },
        "id": "DIPE1WjV2lgn",
        "outputId": "401cfc06-d6bf-4db5-f197-70124d2c8735"
      },
      "source": [
        "movieinfo.info()"
      ],
      "execution_count": null,
      "outputs": [
        {
          "output_type": "stream",
          "text": [
            "<class 'pandas.core.frame.DataFrame'>\n",
            "RangeIndex: 3814 entries, 0 to 3813\n",
            "Data columns (total 10 columns):\n",
            " #   Column           Non-Null Count  Dtype  \n",
            "---  ------           --------------  -----  \n",
            " 0   Unnamed: 0       3814 non-null   int64  \n",
            " 1   Title            3814 non-null   object \n",
            " 2   IMDB_ID          3814 non-null   object \n",
            " 3   Date_of_Release  3062 non-null   object \n",
            " 4   Genre            3755 non-null   object \n",
            " 5   Cast             3801 non-null   object \n",
            " 6   Plot summary     3711 non-null   object \n",
            " 7   IMDB Rating      3743 non-null   float64\n",
            " 8   IMDB Votes       3751 non-null   object \n",
            " 9   Released_Year    3814 non-null   object \n",
            "dtypes: float64(1), int64(1), object(8)\n",
            "memory usage: 298.1+ KB\n"
          ],
          "name": "stdout"
        }
      ]
    },
    {
      "cell_type": "markdown",
      "metadata": {
        "id": "y1B2CBmHzCTi"
      },
      "source": [
        "### From above Observation, We obtained 3814 out of 4000 Movies Names, We lost some information due to Movie Name Mistype"
      ]
    },
    {
      "cell_type": "markdown",
      "metadata": {
        "id": "wR1eTLYnx-O1"
      },
      "source": [
        "## Cleaning The Dataset"
      ]
    },
    {
      "cell_type": "code",
      "metadata": {
        "colab": {
          "base_uri": "https://localhost:8080/"
        },
        "id": "2x5zqhGj3J4d",
        "outputId": "f6f96dc1-9e72-4ac9-8f40-3f951bd5b3a4"
      },
      "source": [
        "movieinfo['Released_Year'].unique()"
      ],
      "execution_count": null,
      "outputs": [
        {
          "output_type": "execute_result",
          "data": {
            "text/plain": [
              "array(['2009', '2007', '2014', '2016', '2006', '2001', '2010', '2004',\n",
              "       '2012', '2003', '2015', '2011', '1995', '2013', '2017', '2008',\n",
              "       '2018', '2000', '1975', '1996', '1994', '1998', '2002', '2005',\n",
              "       '1993', '1971', '1999', '2019', '1992', '1997', '1987', '1966',\n",
              "       '1988', '1983', '1989', '2011–2012', '1957', '2013–2021', '1965',\n",
              "       '1960', '1948', '1977', '1991', '1968', '1990', '1982', '1970',\n",
              "       '1994–1996', '1973', '1976', '1972', '1951', '1964', '1984',\n",
              "       '1981', '1978', '1955', '1980', '1961', '2020', '1979',\n",
              "       '2006–2010', '1932', '2018–2020', '1959', '2015–', '2011–2019',\n",
              "       '1999–2022', '2014–2015', '2011–2013', '1986', '1967', '1953',\n",
              "       '2021', '1969', '1962', '1985', '1958', '2016–', '1974', '2014–',\n",
              "       '2000–', '1963', '1954', '1952', '1998–2000', '1929', '1998–2018',\n",
              "       '2004–2005', '1949', '1941', '2003–2006', '2020–', '1956',\n",
              "       '1994–1995', '2021–', '1995–2006', '2013–2014', '1995–',\n",
              "       '1997–1998', '2019–', '1988–', '2010–2011', '2012–', '1943',\n",
              "       '2002–', '1999–2004', '1999–2000', '2012–2013', '1950',\n",
              "       '1988–1990', '1947', '2021–2030', '2018–', '1931', '1924', '1946',\n",
              "       '2006–', '2017–', '1936', '2013–', '1980–', '2013–2015',\n",
              "       '1984–1985'], dtype=object)"
            ]
          },
          "metadata": {},
          "execution_count": 4
        }
      ]
    },
    {
      "cell_type": "markdown",
      "metadata": {
        "id": "QLjmaKVb4Am1"
      },
      "source": [
        "### We see some inconsistent value in Year of Released, Dropping the "
      ]
    },
    {
      "cell_type": "code",
      "metadata": {
        "id": "CCa_QNz27lBL"
      },
      "source": [
        "movieinfo = pd.read_csv('/content/movies_info.csv')\n"
      ],
      "execution_count": null,
      "outputs": []
    },
    {
      "cell_type": "code",
      "metadata": {
        "colab": {
          "base_uri": "https://localhost:8080/"
        },
        "id": "IVIusCrFvqPr",
        "outputId": "63071711-df58-43f4-944c-04b4120eacc3"
      },
      "source": [
        "# Getting Index of Rows with inconsistent Released Year\n",
        "index = movieinfo[movieinfo['Released_Year'].map(len) > 4].index\n",
        "index"
      ],
      "execution_count": null,
      "outputs": [
        {
          "output_type": "execute_result",
          "data": {
            "text/plain": [
              "Int64Index([ 249,  306,  470,  566,  678,  733,  746,  756,  759,  774,  783,\n",
              "             800,  983, 1143, 1164, 1172, 1265, 1284, 1295, 1421, 1432, 1683,\n",
              "            1782, 1921, 1975, 2117, 2154, 2161, 2191, 2242, 2278, 2297, 2335,\n",
              "            2339, 2352, 2379, 2401, 2407, 2477, 2573, 2591, 2638, 2653, 2699,\n",
              "            2709, 2755, 2875, 2884, 3167, 3235, 3265, 3283, 3516, 3532, 3556,\n",
              "            3626, 3632, 3668, 3686, 3697, 3729],\n",
              "           dtype='int64')"
            ]
          },
          "metadata": {},
          "execution_count": 72
        }
      ]
    },
    {
      "cell_type": "code",
      "metadata": {
        "colab": {
          "base_uri": "https://localhost:8080/"
        },
        "id": "-vF_h_TXwoik",
        "outputId": "b9d198e6-ce02-47b4-a4fa-671c8d93c549"
      },
      "source": [
        "movieinfo.shape"
      ],
      "execution_count": null,
      "outputs": [
        {
          "output_type": "execute_result",
          "data": {
            "text/plain": [
              "(3814, 10)"
            ]
          },
          "metadata": {},
          "execution_count": 73
        }
      ]
    },
    {
      "cell_type": "code",
      "metadata": {
        "id": "NUULp_4TzZai"
      },
      "source": [
        "#Deleting rows with Inconsiatent Released Year From Dataftame\n",
        "movieinfo.drop(index, inplace = True)"
      ],
      "execution_count": null,
      "outputs": []
    },
    {
      "cell_type": "code",
      "metadata": {
        "id": "ASWX6bsE70d1",
        "colab": {
          "base_uri": "https://localhost:8080/"
        },
        "outputId": "b16f398b-1541-4ac2-e024-173c23c56870"
      },
      "source": [
        "movieinfo.shape"
      ],
      "execution_count": null,
      "outputs": [
        {
          "output_type": "execute_result",
          "data": {
            "text/plain": [
              "(3753, 10)"
            ]
          },
          "metadata": {},
          "execution_count": 75
        }
      ]
    },
    {
      "cell_type": "code",
      "metadata": {
        "colab": {
          "base_uri": "https://localhost:8080/"
        },
        "id": "peDpFsieyJiP",
        "outputId": "d3eda1f8-3129-4f53-9e2b-176a31bc463e"
      },
      "source": [
        "movieinfo['Released_Year'].unique()"
      ],
      "execution_count": null,
      "outputs": [
        {
          "output_type": "execute_result",
          "data": {
            "text/plain": [
              "array(['2009', '2007', '2014', '2016', '2006', '2001', '2010', '2004',\n",
              "       '2012', '2003', '2015', '2011', '1995', '2013', '2017', '2008',\n",
              "       '2018', '2000', '1975', '1996', '1994', '1998', '2002', '2005',\n",
              "       '1993', '1971', '1999', '2019', '1992', '1997', '1987', '1966',\n",
              "       '1988', '1983', '1989', '1957', '1965', '1960', '1948', '1977',\n",
              "       '1991', '1968', '1990', '1982', '1970', '1973', '1976', '1972',\n",
              "       '1951', '1964', '1984', '1981', '1978', '1955', '1980', '1961',\n",
              "       '2020', '1979', '1932', '1959', '1986', '1967', '1953', '2021',\n",
              "       '1969', '1962', '1985', '1958', '1974', '1963', '1954', '1952',\n",
              "       '1929', '1949', '1941', '1956', '1943', '1950', '1947', '1931',\n",
              "       '1924', '1946', '1936'], dtype=object)"
            ]
          },
          "metadata": {},
          "execution_count": 76
        }
      ]
    },
    {
      "cell_type": "code",
      "metadata": {
        "colab": {
          "base_uri": "https://localhost:8080/"
        },
        "id": "fnLZzqUvynEz",
        "outputId": "201ea097-3a63-4783-95f9-86e576bd2f3a"
      },
      "source": [
        "movieinfo.info()"
      ],
      "execution_count": null,
      "outputs": [
        {
          "output_type": "stream",
          "text": [
            "<class 'pandas.core.frame.DataFrame'>\n",
            "Int64Index: 3753 entries, 0 to 3813\n",
            "Data columns (total 10 columns):\n",
            " #   Column           Non-Null Count  Dtype  \n",
            "---  ------           --------------  -----  \n",
            " 0   Unnamed: 0       3753 non-null   int64  \n",
            " 1   Title            3753 non-null   object \n",
            " 2   IMDB_ID          3753 non-null   object \n",
            " 3   Date_of_Release  3009 non-null   object \n",
            " 4   Genre            3695 non-null   object \n",
            " 5   Cast             3741 non-null   object \n",
            " 6   Plot summary     3663 non-null   object \n",
            " 7   IMDB Rating      3697 non-null   float64\n",
            " 8   IMDB Votes       3701 non-null   object \n",
            " 9   Released_Year    3753 non-null   object \n",
            "dtypes: float64(1), int64(1), object(8)\n",
            "memory usage: 322.5+ KB\n"
          ],
          "name": "stdout"
        }
      ]
    },
    {
      "cell_type": "code",
      "metadata": {
        "id": "tKNknWX50Tdg"
      },
      "source": [
        "#To Further process we need to convert object Datatype to Numeric\n",
        "movieinfo['Released_Year'] = movieinfo['Released_Year'].apply(pd.to_numeric)\n",
        "movieinfo['IMDB Rating'] = movieinfo['IMDB Rating'].apply(pd.to_numeric)\n",
        "#movieinfo['IMDB Votes'] = movieinfo['IMDB Votes'].apply(pd.to_numeric)"
      ],
      "execution_count": null,
      "outputs": []
    },
    {
      "cell_type": "code",
      "metadata": {
        "id": "c7BipxEY2At2"
      },
      "source": [
        "movieinfo[\"IMDB Votes\"] = movieinfo[\"IMDB Votes\"].str.replace(\",\",\"\").astype(float) # Removing Commas from IMDB votes columns\n",
        "movieinfo['IMDB Votes'] = movieinfo['IMDB Votes'].apply(pd.to_numeric)\n"
      ],
      "execution_count": null,
      "outputs": []
    },
    {
      "cell_type": "code",
      "metadata": {
        "colab": {
          "base_uri": "https://localhost:8080/"
        },
        "id": "m3B4Gu7h0ARt",
        "outputId": "debe0966-248a-46a9-d8f4-c5cda852b67a"
      },
      "source": [
        "movieinfo.info()"
      ],
      "execution_count": null,
      "outputs": [
        {
          "output_type": "stream",
          "text": [
            "<class 'pandas.core.frame.DataFrame'>\n",
            "Int64Index: 3753 entries, 0 to 3813\n",
            "Data columns (total 10 columns):\n",
            " #   Column           Non-Null Count  Dtype  \n",
            "---  ------           --------------  -----  \n",
            " 0   Unnamed: 0       3753 non-null   int64  \n",
            " 1   Title            3753 non-null   object \n",
            " 2   IMDB_ID          3753 non-null   object \n",
            " 3   Date_of_Release  3009 non-null   object \n",
            " 4   Genre            3695 non-null   object \n",
            " 5   Cast             3741 non-null   object \n",
            " 6   Plot summary     3663 non-null   object \n",
            " 7   IMDB Rating      3697 non-null   float64\n",
            " 8   IMDB Votes       3701 non-null   float64\n",
            " 9   Released_Year    3753 non-null   int64  \n",
            "dtypes: float64(2), int64(2), object(6)\n",
            "memory usage: 322.5+ KB\n"
          ],
          "name": "stdout"
        }
      ]
    },
    {
      "cell_type": "code",
      "metadata": {
        "id": "xy9lr01_y4P3"
      },
      "source": [
        "movieinfo['Age_of_content(inYears)'] = 2021 - movieinfo['Released_Year']"
      ],
      "execution_count": null,
      "outputs": []
    },
    {
      "cell_type": "code",
      "metadata": {
        "colab": {
          "base_uri": "https://localhost:8080/",
          "height": 666
        },
        "id": "5jOrHbgzz9D7",
        "outputId": "59268480-4414-4f4c-a053-e44e2431cbad"
      },
      "source": [
        "movieinfo.tail()"
      ],
      "execution_count": null,
      "outputs": [
        {
          "output_type": "execute_result",
          "data": {
            "text/html": [
              "<div>\n",
              "<style scoped>\n",
              "    .dataframe tbody tr th:only-of-type {\n",
              "        vertical-align: middle;\n",
              "    }\n",
              "\n",
              "    .dataframe tbody tr th {\n",
              "        vertical-align: top;\n",
              "    }\n",
              "\n",
              "    .dataframe thead th {\n",
              "        text-align: right;\n",
              "    }\n",
              "</style>\n",
              "<table border=\"1\" class=\"dataframe\">\n",
              "  <thead>\n",
              "    <tr style=\"text-align: right;\">\n",
              "      <th></th>\n",
              "      <th>Unnamed: 0</th>\n",
              "      <th>Title</th>\n",
              "      <th>IMDB_ID</th>\n",
              "      <th>Date_of_Release</th>\n",
              "      <th>Genre</th>\n",
              "      <th>Cast</th>\n",
              "      <th>Plot summary</th>\n",
              "      <th>IMDB Rating</th>\n",
              "      <th>IMDB Votes</th>\n",
              "      <th>Released_Year</th>\n",
              "      <th>Age_of_content(inYears)</th>\n",
              "    </tr>\n",
              "  </thead>\n",
              "  <tbody>\n",
              "    <tr>\n",
              "      <th>3809</th>\n",
              "      <td>3809</td>\n",
              "      <td>Mehmaan</td>\n",
              "      <td>['8215918']</td>\n",
              "      <td>14 Feb 2018</td>\n",
              "      <td>Short, Drama</td>\n",
              "      <td>Saheb Bhattacharjee, Koushik Sen, Raima Sen</td>\n",
              "      <td>Somshubhro and Aalo are a happily married coup...</td>\n",
              "      <td>7.1</td>\n",
              "      <td>15.0</td>\n",
              "      <td>2018</td>\n",
              "      <td>3</td>\n",
              "    </tr>\n",
              "    <tr>\n",
              "      <th>3810</th>\n",
              "      <td>3810</td>\n",
              "      <td>Sorry Daddy</td>\n",
              "      <td>['4994210']</td>\n",
              "      <td>11 Sep 2015</td>\n",
              "      <td>Action</td>\n",
              "      <td>Shamim Khan, Anupam Shukla, Mukesh Tiwari, Tin...</td>\n",
              "      <td>Sorry daddy is a Children story centring aroun...</td>\n",
              "      <td>4.7</td>\n",
              "      <td>6.0</td>\n",
              "      <td>2015</td>\n",
              "      <td>6</td>\n",
              "    </tr>\n",
              "    <tr>\n",
              "      <th>3811</th>\n",
              "      <td>3811</td>\n",
              "      <td>Raadha Aur Seeta</td>\n",
              "      <td>['0378633']</td>\n",
              "      <td>10 Aug 1979</td>\n",
              "      <td>Drama, Family</td>\n",
              "      <td>Rajendra Nath, Madan Puri, Leela Mishra, Savit...</td>\n",
              "      <td>After having completed his masters with honors...</td>\n",
              "      <td>5.4</td>\n",
              "      <td>7.0</td>\n",
              "      <td>1979</td>\n",
              "      <td>42</td>\n",
              "    </tr>\n",
              "    <tr>\n",
              "      <th>3812</th>\n",
              "      <td>3812</td>\n",
              "      <td>Dafaa 302: Indian Penal Code Section 302 (Sect...</td>\n",
              "      <td>['0359129']</td>\n",
              "      <td>NaN</td>\n",
              "      <td>NaN</td>\n",
              "      <td>Randhir Kapoor, Rekha, Ajit, Ashok Kumar</td>\n",
              "      <td>Mohan Lal lives in a small rural town in India...</td>\n",
              "      <td>NaN</td>\n",
              "      <td>NaN</td>\n",
              "      <td>1975</td>\n",
              "      <td>46</td>\n",
              "    </tr>\n",
              "    <tr>\n",
              "      <th>3813</th>\n",
              "      <td>3813</td>\n",
              "      <td>Calapor</td>\n",
              "      <td>['3311236']</td>\n",
              "      <td>02 Aug 2013</td>\n",
              "      <td>Drama</td>\n",
              "      <td>Hemant Gopal, Rituparna Sengupta, Akash Sharma</td>\n",
              "      <td>The film is a taut thriller, set in the backdr...</td>\n",
              "      <td>5.2</td>\n",
              "      <td>6.0</td>\n",
              "      <td>2013</td>\n",
              "      <td>8</td>\n",
              "    </tr>\n",
              "  </tbody>\n",
              "</table>\n",
              "</div>"
            ],
            "text/plain": [
              "      Unnamed: 0  ... Age_of_content(inYears)\n",
              "3809        3809  ...                       3\n",
              "3810        3810  ...                       6\n",
              "3811        3811  ...                      42\n",
              "3812        3812  ...                      46\n",
              "3813        3813  ...                       8\n",
              "\n",
              "[5 rows x 11 columns]"
            ]
          },
          "metadata": {},
          "execution_count": 82
        }
      ]
    },
    {
      "cell_type": "markdown",
      "metadata": {
        "id": "CjiLuU0-4g21"
      },
      "source": [
        "## Calulating Popularity Score of Movie by using IMDB Formula\n",
        "\n",
        "From IMDB:\n",
        "http://www.imdb.com/chart/top\n",
        "\n",
        "The formula for calculating the Top Rated 250 Titles gives a true Bayesian estimate: weighted rating (WR) = (v ÷ (v+m)) × R + (m ÷ (v+m)) × C where:\n",
        "\n",
        "* R = average for the movie (mean) = (Rating)\n",
        "* v = number of votes for the movie = (votes)\n",
        "* m = minimum votes required to be listed in the Top 250 (currently 3000)\n",
        "* C = the mean vote across the whole report (currently 6.9)\n",
        "\n",
        "\n",
        "\n",
        "[Source](https://www.quora.com/How-does-IMDB-compute-popularity)"
      ]
    },
    {
      "cell_type": "code",
      "metadata": {
        "id": "1VJcrs8o5__9"
      },
      "source": [
        "movieinfo['Movie Popularity'] = (movieinfo['IMDB Votes']/(movieinfo['IMDB Votes']+ 3000)) * movieinfo['IMDB Rating'] + (3000 /(movieinfo['IMDB Votes']+ 3000)) * 6.9"
      ],
      "execution_count": null,
      "outputs": []
    },
    {
      "cell_type": "code",
      "metadata": {
        "id": "jBcSgVaZ8YHE"
      },
      "source": [
        "movieinfo.head(2)"
      ],
      "execution_count": null,
      "outputs": []
    },
    {
      "cell_type": "code",
      "metadata": {
        "id": "jnzDkqg99PDk"
      },
      "source": [
        "# Due to similarity in names, we got info of joker(Joaquin Phoenix) instaed of Joker(Akshay Kumar)  and Star wars instaed of Hindi Movie Stars, Deleting such instances instance from df\n",
        "index1 = [425, 2276, 1723]\n",
        "movieinfo.drop(index1, inplace = True)"
      ],
      "execution_count": null,
      "outputs": []
    },
    {
      "cell_type": "code",
      "metadata": {
        "colab": {
          "base_uri": "https://localhost:8080/",
          "height": 1000
        },
        "id": "9mPItW4a5uVZ",
        "outputId": "2b4e5b14-f247-48e4-8326-ba90cbca7dca"
      },
      "source": [
        "movieinfo.sort_values(by='Movie Popularity', ascending=False).head(10)"
      ],
      "execution_count": null,
      "outputs": [
        {
          "output_type": "execute_result",
          "data": {
            "text/html": [
              "<div>\n",
              "<style scoped>\n",
              "    .dataframe tbody tr th:only-of-type {\n",
              "        vertical-align: middle;\n",
              "    }\n",
              "\n",
              "    .dataframe tbody tr th {\n",
              "        vertical-align: top;\n",
              "    }\n",
              "\n",
              "    .dataframe thead th {\n",
              "        text-align: right;\n",
              "    }\n",
              "</style>\n",
              "<table border=\"1\" class=\"dataframe\">\n",
              "  <thead>\n",
              "    <tr style=\"text-align: right;\">\n",
              "      <th></th>\n",
              "      <th>Unnamed: 0</th>\n",
              "      <th>Title</th>\n",
              "      <th>IMDB_ID</th>\n",
              "      <th>Date_of_Release</th>\n",
              "      <th>Genre</th>\n",
              "      <th>Cast</th>\n",
              "      <th>Plot summary</th>\n",
              "      <th>IMDB Rating</th>\n",
              "      <th>IMDB Votes</th>\n",
              "      <th>Released_Year</th>\n",
              "      <th>Age_of_content(inYears)</th>\n",
              "      <th>Movie Popularity</th>\n",
              "    </tr>\n",
              "  </thead>\n",
              "  <tbody>\n",
              "    <tr>\n",
              "      <th>2776</th>\n",
              "      <td>2776</td>\n",
              "      <td>Star Wars</td>\n",
              "      <td>['0076759']</td>\n",
              "      <td>25 May 1977</td>\n",
              "      <td>Action, Adventure, Fantasy</td>\n",
              "      <td>Mark Hamill, Harrison Ford, Carrie Fisher</td>\n",
              "      <td>Luke Skywalker joins forces with a Jedi Knight...</td>\n",
              "      <td>8.6</td>\n",
              "      <td>1259440.0</td>\n",
              "      <td>1977</td>\n",
              "      <td>44</td>\n",
              "      <td>8.595960</td>\n",
              "    </tr>\n",
              "    <tr>\n",
              "      <th>0</th>\n",
              "      <td>0</td>\n",
              "      <td>3 Idiots</td>\n",
              "      <td>['1187043']</td>\n",
              "      <td>25 Dec 2009</td>\n",
              "      <td>Comedy, Drama</td>\n",
              "      <td>Aamir Khan, Madhavan, Mona Singh</td>\n",
              "      <td>Two friends are searching for their long lost ...</td>\n",
              "      <td>8.4</td>\n",
              "      <td>360710.0</td>\n",
              "      <td>2009</td>\n",
              "      <td>12</td>\n",
              "      <td>8.387628</td>\n",
              "    </tr>\n",
              "    <tr>\n",
              "      <th>1</th>\n",
              "      <td>1</td>\n",
              "      <td>Taare Zameen Par</td>\n",
              "      <td>['0986264']</td>\n",
              "      <td>21 Dec 2007</td>\n",
              "      <td>Drama, Family</td>\n",
              "      <td>Darsheel Safary, Aamir Khan, Tisca Chopra</td>\n",
              "      <td>An eight-year-old boy is thought to be a lazy ...</td>\n",
              "      <td>8.4</td>\n",
              "      <td>178164.0</td>\n",
              "      <td>2007</td>\n",
              "      <td>14</td>\n",
              "      <td>8.375161</td>\n",
              "    </tr>\n",
              "    <tr>\n",
              "      <th>3</th>\n",
              "      <td>3</td>\n",
              "      <td>Dangal</td>\n",
              "      <td>['5074352']</td>\n",
              "      <td>21 Dec 2016</td>\n",
              "      <td>Action, Biography, Drama</td>\n",
              "      <td>Aamir Khan, Sakshi Tanwar, Fatima Sana Shaikh</td>\n",
              "      <td>Former wrestler Mahavir Singh Phogat and his t...</td>\n",
              "      <td>8.4</td>\n",
              "      <td>166872.0</td>\n",
              "      <td>2016</td>\n",
              "      <td>5</td>\n",
              "      <td>8.373509</td>\n",
              "    </tr>\n",
              "    <tr>\n",
              "      <th>133</th>\n",
              "      <td>133</td>\n",
              "      <td>Black Friday</td>\n",
              "      <td>['0400234']</td>\n",
              "      <td>09 Feb 2007</td>\n",
              "      <td>Action, Crime, Drama</td>\n",
              "      <td>Kay Kay Menon, Pawan Malhotra, Aditya Srivastav</td>\n",
              "      <td>A film about the investigations following the ...</td>\n",
              "      <td>8.5</td>\n",
              "      <td>19843.0</td>\n",
              "      <td>2004</td>\n",
              "      <td>17</td>\n",
              "      <td>8.289870</td>\n",
              "    </tr>\n",
              "    <tr>\n",
              "      <th>136</th>\n",
              "      <td>136</td>\n",
              "      <td>Tumbbad</td>\n",
              "      <td>['8239946']</td>\n",
              "      <td>12 Oct 2018</td>\n",
              "      <td>Drama, Fantasy, Horror</td>\n",
              "      <td>Sohum Shah, Jyoti Malshe, Anita Date</td>\n",
              "      <td>A mythological story about a goddess who creat...</td>\n",
              "      <td>8.3</td>\n",
              "      <td>35055.0</td>\n",
              "      <td>2018</td>\n",
              "      <td>3</td>\n",
              "      <td>8.189633</td>\n",
              "    </tr>\n",
              "    <tr>\n",
              "      <th>86</th>\n",
              "      <td>86</td>\n",
              "      <td>Anand</td>\n",
              "      <td>['0066763']</td>\n",
              "      <td>12 Mar 1971</td>\n",
              "      <td>Drama, Musical</td>\n",
              "      <td>Rajesh Khanna, Amitabh Bachchan, Sumita Sanyal</td>\n",
              "      <td>The story of a terminally ill man who wishes t...</td>\n",
              "      <td>8.3</td>\n",
              "      <td>32361.0</td>\n",
              "      <td>1971</td>\n",
              "      <td>50</td>\n",
              "      <td>8.181225</td>\n",
              "    </tr>\n",
              "    <tr>\n",
              "      <th>8</th>\n",
              "      <td>8</td>\n",
              "      <td>Gangs of Wasseypur</td>\n",
              "      <td>['1954470']</td>\n",
              "      <td>22 Jun 2012</td>\n",
              "      <td>Action, Crime, Drama</td>\n",
              "      <td>Manoj Bajpayee, Richa Chadha, Nawazuddin Siddiqui</td>\n",
              "      <td>NaN</td>\n",
              "      <td>8.2</td>\n",
              "      <td>88161.0</td>\n",
              "      <td>2012</td>\n",
              "      <td>9</td>\n",
              "      <td>8.157219</td>\n",
              "    </tr>\n",
              "    <tr>\n",
              "      <th>7</th>\n",
              "      <td>7</td>\n",
              "      <td>Swades: We, the People</td>\n",
              "      <td>['0367110']</td>\n",
              "      <td>17 Dec 2004</td>\n",
              "      <td>Drama</td>\n",
              "      <td>Shah Rukh Khan, Gayatri Joshi, Kishori Ballal</td>\n",
              "      <td>A successful Indian scientist returns to an In...</td>\n",
              "      <td>8.2</td>\n",
              "      <td>86240.0</td>\n",
              "      <td>2004</td>\n",
              "      <td>17</td>\n",
              "      <td>8.156298</td>\n",
              "    </tr>\n",
              "    <tr>\n",
              "      <th>24</th>\n",
              "      <td>24</td>\n",
              "      <td>Andhadhun</td>\n",
              "      <td>['8108198']</td>\n",
              "      <td>05 Oct 2018</td>\n",
              "      <td>Crime, Drama, Music</td>\n",
              "      <td>Ayushmann Khurrana, Tabu, Radhika Apte</td>\n",
              "      <td>A series of mysterious events change the life ...</td>\n",
              "      <td>8.2</td>\n",
              "      <td>80201.0</td>\n",
              "      <td>2018</td>\n",
              "      <td>3</td>\n",
              "      <td>8.153126</td>\n",
              "    </tr>\n",
              "  </tbody>\n",
              "</table>\n",
              "</div>"
            ],
            "text/plain": [
              "      Unnamed: 0  ... Movie Popularity\n",
              "2776        2776  ...         8.595960\n",
              "0              0  ...         8.387628\n",
              "1              1  ...         8.375161\n",
              "3              3  ...         8.373509\n",
              "133          133  ...         8.289870\n",
              "136          136  ...         8.189633\n",
              "86            86  ...         8.181225\n",
              "8              8  ...         8.157219\n",
              "7              7  ...         8.156298\n",
              "24            24  ...         8.153126\n",
              "\n",
              "[10 rows x 12 columns]"
            ]
          },
          "metadata": {},
          "execution_count": 89
        }
      ]
    },
    {
      "cell_type": "markdown",
      "metadata": {
        "id": "WnnJgvPRASoq"
      },
      "source": [
        "### Above Dataframe Gives Top 10 Movie based on popularity Score"
      ]
    },
    {
      "cell_type": "markdown",
      "metadata": {
        "id": "b9pQUxO5FOk_"
      },
      "source": [
        "## Exploratory Data Analysis"
      ]
    },
    {
      "cell_type": "markdown",
      "metadata": {
        "id": "Mqa__SuLD6n6"
      },
      "source": [
        "## Cast Popularity based on the Number of Movies they have appeared."
      ]
    },
    {
      "cell_type": "code",
      "metadata": {
        "id": "3wk7N7lWC_0h"
      },
      "source": [
        "# Replacing the NAn value with unknown\n",
        "movieinfo['Cast'] = movieinfo['Cast'].fillna(\"Unknown\")\n"
      ],
      "execution_count": null,
      "outputs": []
    },
    {
      "cell_type": "code",
      "metadata": {
        "id": "YVEzmx9I_p_3"
      },
      "source": [
        "actors_list = []\n",
        "for movie_actors in movieinfo['Cast']:\n",
        "  actors_list.append([e.strip() for e in movie_actors.split(',')])"
      ],
      "execution_count": null,
      "outputs": []
    },
    {
      "cell_type": "code",
      "metadata": {
        "id": "DuxLHQrqCAq1"
      },
      "source": [
        "actor_dict = {}\n",
        "for actor in actors_list:\n",
        "    for a in actor:\n",
        "        if a in actor_dict:\n",
        "            actor_dict[a] +=1\n",
        "        else:\n",
        "            actor_dict[a] = 1\n",
        "actor_dict\n"
      ],
      "execution_count": null,
      "outputs": []
    },
    {
      "cell_type": "code",
      "metadata": {
        "id": "9JMlIIY1DmPH"
      },
      "source": [
        "actor_data = sorted(actor_dict.items(), key=lambda x: x[1], reverse=True)\n",
        "actors_data = actor_data[:10]"
      ],
      "execution_count": null,
      "outputs": []
    },
    {
      "cell_type": "code",
      "metadata": {
        "colab": {
          "base_uri": "https://localhost:8080/",
          "height": 736
        },
        "id": "d8q_t8lSGTs5",
        "outputId": "5db70720-7a8c-458a-d216-cb211fcadbcd"
      },
      "source": [
        "actor =list(zip(*actors_data))[0]\n",
        "score = list(zip(*actors_data))[1]\n",
        "x_pos = np.arange(len(actor)) \n",
        "\n",
        "plt.figure(figsize=(20,12))\n",
        "plt.title(\"Top 10 most acted actors\")\n",
        "plt.bar(x_pos, score,align='center')\n",
        "plt.xticks(x_pos, actor) \n",
        "plt.ylabel('Number Of Films')\n",
        "plt.show()"
      ],
      "execution_count": null,
      "outputs": [
        {
          "output_type": "display_data",
          "data": {
            "image/png": "[encoded data removed]",
            "text/plain": [
              "<Figure size 1440x864 with 1 Axes>"
            ]
          },
          "metadata": {
            "needs_background": "light"
          }
        }
      ]
    },
    {
      "cell_type": "markdown",
      "metadata": {
        "id": "f-HROnVePP3U"
      },
      "source": [
        "### Above BarCharts show Top 10 Actors"
      ]
    },
    {
      "cell_type": "markdown",
      "metadata": {
        "id": "wD4DAgZfPqZ1"
      },
      "source": [
        "## Genre Diistribution \n"
      ]
    },
    {
      "cell_type": "code",
      "metadata": {
        "id": "vsd5HkuoEjKs"
      },
      "source": [
        "#Genre Diistribution \n",
        "\n",
        "movieinfo['Genre'] = movieinfo['Genre'].fillna(\"Unknown\") # Replacing the NAn value with unknown\n",
        "\n",
        "genre_list = []\n",
        "for movie_genre in movieinfo['Genre']:\n",
        "  genre_list.append([e.strip() for e in movie_genre.split(',')])\n",
        "genre_list"
      ],
      "execution_count": null,
      "outputs": []
    },
    {
      "cell_type": "code",
      "metadata": {
        "id": "HQQtVnJuGnPS"
      },
      "source": [
        "genre_dict = {}\n",
        "for genre in genre_list:\n",
        "    for a in genre:\n",
        "        if a in genre_dict:\n",
        "            genre_dict[a] +=1\n",
        "        else:\n",
        "            genre_dict[a] = 1\n",
        " \n",
        "genre_dict= sorted(genre_dict.items(), key=lambda x: x[1], reverse=True)\n",
        "genre_dict"
      ],
      "execution_count": null,
      "outputs": []
    },
    {
      "cell_type": "code",
      "metadata": {
        "colab": {
          "base_uri": "https://localhost:8080/",
          "height": 750
        },
        "id": "wc-WPzfBJk7j",
        "outputId": "1716417b-9ee5-4ff6-fb8c-5a7885965f26"
      },
      "source": [
        "genre =list(zip(*genre_dict))[0]\n",
        "score = list(zip(*genre_dict))[1]\n",
        "x_pos = np.arange(len(genre)) \n",
        "\n",
        "plt.figure(figsize=(20,12))\n",
        "plt.title(\"Genre distribution of Titles\")\n",
        "plt.barh(x_pos, score,align='center')\n",
        "plt.yticks(x_pos, genre) \n",
        "plt.xlabel('Number Of Movies')\n",
        "plt.show()"
      ],
      "execution_count": null,
      "outputs": [
        {
          "output_type": "display_data",
          "data": {
            "image/png": "[encoded data removed]",
            "text/plain": [
              "<Figure size 1440x864 with 1 Axes>"
            ]
          },
          "metadata": {
            "needs_background": "light"
          }
        }
      ]
    },
    {
      "cell_type": "markdown",
      "metadata": {
        "id": "rCzQafe4Hc-0"
      },
      "source": [
        "### From Above distribution it seems maximum of the movie are of Genre Drama"
      ]
    },
    {
      "cell_type": "code",
      "metadata": {
        "id": "qrQVoqpFHarB"
      },
      "source": [
        ""
      ],
      "execution_count": null,
      "outputs": []
    },
    {
      "cell_type": "code",
      "metadata": {
        "id": "pGXS2ycMHEnT"
      },
      "source": [
        ""
      ],
      "execution_count": null,
      "outputs": []
    }
  ]
}