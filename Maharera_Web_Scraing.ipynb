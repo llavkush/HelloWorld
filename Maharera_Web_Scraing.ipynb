{
  "nbformat": 4,
  "nbformat_minor": 0,
  "metadata": {
    "colab": {
      "name": "Maharera Web Scraing.ipynb",
      "provenance": [],
      "collapsed_sections": []
    },
    "kernelspec": {
      "name": "python3",
      "display_name": "Python 3"
    },
    "language_info": {
      "name": "python"
    }
  },
  "cells": [
    {
      "cell_type": "markdown",
      "metadata": {
        "id": "GctdKiD6fOXf"
      },
      "source": [
        "# Web Scraing MahaRera website to Extact information of Registered Agents In Mumbai City Using Selenium Web Driver and Beautiful Soup For Parsing HTML in python\n"
      ]
    },
    {
      "cell_type": "code",
      "metadata": {
        "colab": {
          "base_uri": "https://localhost:8080/"
        },
        "id": "55dzCZlPFXdk",
        "outputId": "f1a9bf58-082a-4387-9b45-be405f3a9442"
      },
      "source": [
        "!pip install selenium\n",
        "!apt-get update \n",
        "!apt install chromium-chromedriver"
      ],
      "execution_count": 165,
      "outputs": [
        {
          "output_type": "stream",
          "text": [
            "Requirement already satisfied: selenium in /usr/local/lib/python3.7/dist-packages (3.141.0)\n",
            "Requirement already satisfied: urllib3 in /usr/local/lib/python3.7/dist-packages (from selenium) (1.24.3)\n",
            "Get:1 http://security.ubuntu.com/ubuntu bionic-security InRelease [88.7 kB]\n",
            "Hit:2 https://cloud.r-project.org/bin/linux/ubuntu bionic-cran40/ InRelease\n",
            "Ign:3 https://developer.download.nvidia.com/compute/cuda/repos/ubuntu1804/x86_64  InRelease\n",
            "Ign:4 https://developer.download.nvidia.com/compute/machine-learning/repos/ubuntu1804/x86_64  InRelease\n",
            "Hit:5 https://developer.download.nvidia.com/compute/cuda/repos/ubuntu1804/x86_64  Release\n",
            "Hit:6 http://ppa.launchpad.net/c2d4u.team/c2d4u4.0+/ubuntu bionic InRelease\n",
            "Hit:7 http://archive.ubuntu.com/ubuntu bionic InRelease\n",
            "Hit:8 https://developer.download.nvidia.com/compute/machine-learning/repos/ubuntu1804/x86_64  Release\n",
            "Get:9 http://archive.ubuntu.com/ubuntu bionic-updates InRelease [88.7 kB]\n",
            "Hit:10 http://ppa.launchpad.net/cran/libgit2/ubuntu bionic InRelease\n",
            "Hit:11 http://ppa.launchpad.net/deadsnakes/ppa/ubuntu bionic InRelease\n",
            "Get:12 http://archive.ubuntu.com/ubuntu bionic-backports InRelease [74.6 kB]\n",
            "Hit:14 http://ppa.launchpad.net/graphics-drivers/ppa/ubuntu bionic InRelease\n",
            "Fetched 252 kB in 2s (102 kB/s)\n",
            "Reading package lists... Done\n",
            "Reading package lists... Done\n",
            "Building dependency tree       \n",
            "Reading state information... Done\n",
            "chromium-chromedriver is already the newest version (91.0.4472.101-0ubuntu0.18.04.1).\n",
            "0 upgraded, 0 newly installed, 0 to remove and 58 not upgraded.\n"
          ],
          "name": "stdout"
        }
      ]
    },
    {
      "cell_type": "code",
      "metadata": {
        "colab": {
          "base_uri": "https://localhost:8080/"
        },
        "id": "6OZjxObJGYpX",
        "outputId": "0f8806c2-6d44-439e-9f2b-3f405cfe9385"
      },
      "source": [
        "!pip install BeautifulSoup4\n",
        "! pip install requests"
      ],
      "execution_count": 166,
      "outputs": [
        {
          "output_type": "stream",
          "text": [
            "Requirement already satisfied: BeautifulSoup4 in /usr/local/lib/python3.7/dist-packages (4.6.3)\n",
            "Requirement already satisfied: requests in /usr/local/lib/python3.7/dist-packages (2.23.0)\n",
            "Requirement already satisfied: idna<3,>=2.5 in /usr/local/lib/python3.7/dist-packages (from requests) (2.10)\n",
            "Requirement already satisfied: chardet<4,>=3.0.2 in /usr/local/lib/python3.7/dist-packages (from requests) (3.0.4)\n",
            "Requirement already satisfied: urllib3!=1.25.0,!=1.25.1,<1.26,>=1.21.1 in /usr/local/lib/python3.7/dist-packages (from requests) (1.24.3)\n",
            "Requirement already satisfied: certifi>=2017.4.17 in /usr/local/lib/python3.7/dist-packages (from requests) (2021.5.30)\n"
          ],
          "name": "stdout"
        }
      ]
    },
    {
      "cell_type": "code",
      "metadata": {
        "id": "Q_W83H57FE-I"
      },
      "source": [
        "# Importing Required Library\n",
        "import selenium\n",
        "from selenium import webdriver\n",
        "from selenium.webdriver.support.select import Select\n",
        "options = webdriver.ChromeOptions()\n",
        "options.add_argument('--headless')\n",
        "options.add_argument('--no-sandbox')\n",
        "options.add_argument('--disable-dev-shm-usage')\n",
        "wd = webdriver.Chrome('chromedriver',options=options)\n",
        "driver =webdriver.Chrome('chromedriver',options=options)\n",
        "driver.implicitly_wait(20)\n",
        "\n",
        "\n",
        "import pandas as pd\n",
        "import numpy as np\n",
        "from bs4 import BeautifulSoup\n",
        "from PIL import Image\n",
        "\n"
      ],
      "execution_count": 167,
      "outputs": []
    },
    {
      "cell_type": "code",
      "metadata": {
        "id": "7PxrnMIxM3Lp"
      },
      "source": [
        "driver.maximize_window() # For maximizing window\n",
        "driver.implicitly_wait(20)"
      ],
      "execution_count": 168,
      "outputs": []
    },
    {
      "cell_type": "markdown",
      "metadata": {
        "id": "hT0goO-0VJYH"
      },
      "source": [
        "## Funtion to Extract Required Rows and Columns from Table present in Pandas dataframe "
      ]
    },
    {
      "cell_type": "code",
      "metadata": {
        "id": "24yqfxTo9Pmp"
      },
      "source": [
        "def tableDataText(table):       \n",
        "    rows = []\n",
        "    trs = table.find_all('tr')\n",
        "    headerow = [td.get_text(strip=True) for td in trs[0].find_all('th')] # header row\n",
        "    if headerow: # if there is a header row include first\n",
        "        rows.append(headerow)\n",
        "        trs = trs[1:]\n",
        "    for tr in trs: # for every table row\n",
        "        link = []\n",
        "        rows.append([td.get_text(strip=True) for td in tr.find_all('td')]) \n",
        "        link = [link['href'] for link in soup.find_all('a', href=True)] #creating list of href value\n",
        "        del link[-1]\n",
        "        df = pd.DataFrame(rows)  # creating anda dataframe from list \n",
        "        df.columns = df.iloc[0] # Creating New Column Name\n",
        "        df.drop(df.index[0], inplace=True)\n",
        "        df.drop(['View Details','View Application',\t'View Certificate'],axis=1, inplace = True)\n",
        "        df['View Link'] = pd.Series(link)\n",
        "    return df"
      ],
      "execution_count": 169,
      "outputs": []
    },
    {
      "cell_type": "markdown",
      "metadata": {
        "id": "kBJrSHT_VwLJ"
      },
      "source": [
        "## Python program to navigate webpages on https://maharerait.mahaonline.gov.in/ and gather information of Registered Agent in Mumbai City."
      ]
    },
    {
      "cell_type": "code",
      "metadata": {
        "id": "fUHp0AXD9P4P",
        "colab": {
          "base_uri": "https://localhost:8080/"
        },
        "outputId": "a30de087-dcfa-49ce-e8b9-e62155243936"
      },
      "source": [
        "from selenium.webdriver.support.ui import WebDriverWait\n",
        "import time\n",
        "driver.get(\"https://maharerait.mahaonline.gov.in/Login/Login\");\n",
        "driver.find_element_by_link_text('Search Project Details').click()\n",
        "driver.find_element_by_id('Agent').click()\n",
        "driver.find_element_by_id(\"btnAdvance\").click()\n",
        "dropdown1 = Select(driver.find_element_by_id('State'))\n",
        "dropdown1.select_by_value(\"27\")\n",
        "time.sleep(1)\n",
        "dropdown2 = Select(driver.find_element_by_id('District'))\n",
        "time.sleep(2)\n",
        "dropdown2.select_by_visible_text('Mumbai City')\n",
        "driver.find_element_by_id(\"btnSearch\").click()\n",
        "print(driver.title)\n",
        "#driver.execute_script(\"window.scrollTo(0,document.body.scrollHeight)\")\n",
        "time.sleep(2)\n",
        "my_df  = pd.DataFrame() # creating empty dataframe\n",
        "x =0\n",
        "while x < 50: # Gathering Info from First 50 pages out of total 180 pages\n",
        "  #x =0\n",
        "  soup=BeautifulSoup(driver.page_source, 'html.parser')\n",
        "  htmltable = soup.find('table', { 'class' : 'table table-striped grid-table' })\n",
        "  list_table = tableDataText(htmltable)\n",
        "  #df = df.append(data_link)\n",
        "  my_df = my_df.append(list_table)\n",
        "  time.sleep(3)\n",
        "  x+=1\n",
        "  driver.find_element_by_id(\"btnNext\").click()\n",
        "\n",
        "\n",
        "driver.execute_script(\"window.scrollTo(0,document.body.scrollHeight)\")\n",
        "driver.save_screenshot(\"image.png\")\n",
        "image = Image.open(\"image.png\")\n",
        "image.show()\n",
        " # Close the browser instance\n"
      ],
      "execution_count": 171,
      "outputs": [
        {
          "output_type": "stream",
          "text": [
            "Login Page : Maharashtra Real Estate Regulatory Authority\n"
          ],
          "name": "stdout"
        }
      ]
    },
    {
      "cell_type": "code",
      "metadata": {
        "id": "hHEv3UykWcbN"
      },
      "source": [
        "driver.quit()"
      ],
      "execution_count": null,
      "outputs": []
    },
    {
      "cell_type": "code",
      "metadata": {
        "colab": {
          "base_uri": "https://localhost:8080/",
          "height": 348
        },
        "id": "G27gjXOsSasj",
        "outputId": "e7d9846a-1356-4759-a2f0-e6c3f63cdbed"
      },
      "source": [
        "my_df.tail(10)"
      ],
      "execution_count": 172,
      "outputs": [
        {
          "output_type": "execute_result",
          "data": {
            "text/html": [
              "<div>\n",
              "<style scoped>\n",
              "    .dataframe tbody tr th:only-of-type {\n",
              "        vertical-align: middle;\n",
              "    }\n",
              "\n",
              "    .dataframe tbody tr th {\n",
              "        vertical-align: top;\n",
              "    }\n",
              "\n",
              "    .dataframe thead th {\n",
              "        text-align: right;\n",
              "    }\n",
              "</style>\n",
              "<table border=\"1\" class=\"dataframe\">\n",
              "  <thead>\n",
              "    <tr style=\"text-align: right;\">\n",
              "      <th></th>\n",
              "      <th>Sr No.</th>\n",
              "      <th>Agent Name</th>\n",
              "      <th>Certificate No.</th>\n",
              "      <th>View Link</th>\n",
              "    </tr>\n",
              "  </thead>\n",
              "  <tbody>\n",
              "    <tr>\n",
              "      <th>41</th>\n",
              "      <td>2491</td>\n",
              "      <td>SAURABH  KULKARNI</td>\n",
              "      <td>A51900027350</td>\n",
              "      <td>/PrintPreview/PrintPreview?q=c1%2fjG8%2fMomd4Q...</td>\n",
              "    </tr>\n",
              "    <tr>\n",
              "      <th>42</th>\n",
              "      <td>2492</td>\n",
              "      <td>Jatin Pravinchandra Shah</td>\n",
              "      <td>A51900005505</td>\n",
              "      <td>/PrintPreview/PrintPreview?q=gRYTUqqYynwIu5vH1...</td>\n",
              "    </tr>\n",
              "    <tr>\n",
              "      <th>43</th>\n",
              "      <td>2493</td>\n",
              "      <td>YELLOW KEY</td>\n",
              "      <td>A51900003400</td>\n",
              "      <td>/PrintPreview/PrintPreview?q=qhFeM8WraAUKFKMGB...</td>\n",
              "    </tr>\n",
              "    <tr>\n",
              "      <th>44</th>\n",
              "      <td>2494</td>\n",
              "      <td>BHONESH KEWAL BHOJWANI</td>\n",
              "      <td>A51900027246</td>\n",
              "      <td>/PrintPreview/PrintPreview?q=%2f3QEwhT8DN5U5dR...</td>\n",
              "    </tr>\n",
              "    <tr>\n",
              "      <th>45</th>\n",
              "      <td>2495</td>\n",
              "      <td>AJIT JANARDAN RANE</td>\n",
              "      <td>A51900027348</td>\n",
              "      <td>/PrintPreview/PrintPreview?q=dRhh4%2f%2foMy2m9...</td>\n",
              "    </tr>\n",
              "    <tr>\n",
              "      <th>46</th>\n",
              "      <td>2496</td>\n",
              "      <td>NILESH HIRACHAND JHAVERI</td>\n",
              "      <td>A51900027383</td>\n",
              "      <td>/PrintPreview/PrintPreview?q=gOrH8ML0ita7yEqls...</td>\n",
              "    </tr>\n",
              "    <tr>\n",
              "      <th>47</th>\n",
              "      <td>2497</td>\n",
              "      <td>Manish Jagdish Chheda</td>\n",
              "      <td>A51900002826</td>\n",
              "      <td>/PrintPreview/PrintPreview?q=HUUe2rJccEI%2bdCn...</td>\n",
              "    </tr>\n",
              "    <tr>\n",
              "      <th>48</th>\n",
              "      <td>2498</td>\n",
              "      <td>Poonam Prakash Sharma</td>\n",
              "      <td>A51900027536</td>\n",
              "      <td>/PrintPreview/PrintPreview?q=9roksKxUqegZNqyQv...</td>\n",
              "    </tr>\n",
              "    <tr>\n",
              "      <th>49</th>\n",
              "      <td>2499</td>\n",
              "      <td>Vijaykumar Rajendra Singh</td>\n",
              "      <td>A51900027347</td>\n",
              "      <td>/PrintPreview/PrintPreview?q=in3avXC0SCX8C8wYz...</td>\n",
              "    </tr>\n",
              "    <tr>\n",
              "      <th>50</th>\n",
              "      <td>2500</td>\n",
              "      <td>SHLOKH SANJAY SANGTANI</td>\n",
              "      <td>A51900027456</td>\n",
              "      <td>NaN</td>\n",
              "    </tr>\n",
              "  </tbody>\n",
              "</table>\n",
              "</div>"
            ],
            "text/plain": [
              "0  Sr No.                 Agent Name Certificate No.  \\\n",
              "41   2491          SAURABH  KULKARNI    A51900027350   \n",
              "42   2492   Jatin Pravinchandra Shah    A51900005505   \n",
              "43   2493                 YELLOW KEY    A51900003400   \n",
              "44   2494     BHONESH KEWAL BHOJWANI    A51900027246   \n",
              "45   2495         AJIT JANARDAN RANE    A51900027348   \n",
              "46   2496   NILESH HIRACHAND JHAVERI    A51900027383   \n",
              "47   2497      Manish Jagdish Chheda    A51900002826   \n",
              "48   2498      Poonam Prakash Sharma    A51900027536   \n",
              "49   2499  Vijaykumar Rajendra Singh    A51900027347   \n",
              "50   2500     SHLOKH SANJAY SANGTANI    A51900027456   \n",
              "\n",
              "0                                           View Link  \n",
              "41  /PrintPreview/PrintPreview?q=c1%2fjG8%2fMomd4Q...  \n",
              "42  /PrintPreview/PrintPreview?q=gRYTUqqYynwIu5vH1...  \n",
              "43  /PrintPreview/PrintPreview?q=qhFeM8WraAUKFKMGB...  \n",
              "44  /PrintPreview/PrintPreview?q=%2f3QEwhT8DN5U5dR...  \n",
              "45  /PrintPreview/PrintPreview?q=dRhh4%2f%2foMy2m9...  \n",
              "46  /PrintPreview/PrintPreview?q=gOrH8ML0ita7yEqls...  \n",
              "47  /PrintPreview/PrintPreview?q=HUUe2rJccEI%2bdCn...  \n",
              "48  /PrintPreview/PrintPreview?q=9roksKxUqegZNqyQv...  \n",
              "49  /PrintPreview/PrintPreview?q=in3avXC0SCX8C8wYz...  \n",
              "50                                                NaN  "
            ]
          },
          "metadata": {
            "tags": []
          },
          "execution_count": 172
        }
      ]
    },
    {
      "cell_type": "code",
      "metadata": {
        "id": "2TFbgf-WXvU0"
      },
      "source": [
        "my_df.dropna(subset = [\"View Link\"], inplace=True) #Droing rows with NaN value"
      ],
      "execution_count": 173,
      "outputs": []
    },
    {
      "cell_type": "code",
      "metadata": {
        "id": "ACW_uIxfaUTp"
      },
      "source": [
        "my_df['View Link'] = my_df['View Link'].apply(lambda x: 'https://maharerait.mahaonline.gov.in{0}'.format(x))"
      ],
      "execution_count": 174,
      "outputs": []
    },
    {
      "cell_type": "code",
      "metadata": {
        "id": "rZ98DbH6YWP2"
      },
      "source": [
        "pd.set_option('display.max_columns', None)\n",
        "pd.set_option('display.max_rows', None)\n",
        "print(my_df.head(3))"
      ],
      "execution_count": null,
      "outputs": []
    },
    {
      "cell_type": "code",
      "metadata": {
        "id": "TMaOyWz2be6T"
      },
      "source": [
        "#Saving Dataframe into csv format\n",
        "my_df.to_csv('Agentsinfo.csv', header=True, index=False)\n"
      ],
      "execution_count": 183,
      "outputs": []
    },
    {
      "cell_type": "code",
      "metadata": {
        "id": "5KJTi3Pnh3iy"
      },
      "source": [
        "Agentinfo = pd.read_csv('/content/Agentsinfo.csv')"
      ],
      "execution_count": 184,
      "outputs": []
    },
    {
      "cell_type": "code",
      "metadata": {
        "colab": {
          "base_uri": "https://localhost:8080/",
          "height": 348
        },
        "id": "A5fb_7CniB9C",
        "outputId": "9e00f226-5fad-4561-f69b-f26781f20b47"
      },
      "source": [
        "Agentinfo.head(10)"
      ],
      "execution_count": 185,
      "outputs": [
        {
          "output_type": "execute_result",
          "data": {
            "text/html": [
              "<div>\n",
              "<style scoped>\n",
              "    .dataframe tbody tr th:only-of-type {\n",
              "        vertical-align: middle;\n",
              "    }\n",
              "\n",
              "    .dataframe tbody tr th {\n",
              "        vertical-align: top;\n",
              "    }\n",
              "\n",
              "    .dataframe thead th {\n",
              "        text-align: right;\n",
              "    }\n",
              "</style>\n",
              "<table border=\"1\" class=\"dataframe\">\n",
              "  <thead>\n",
              "    <tr style=\"text-align: right;\">\n",
              "      <th></th>\n",
              "      <th>Sr No.</th>\n",
              "      <th>Agent Name</th>\n",
              "      <th>Certificate No.</th>\n",
              "      <th>View Link</th>\n",
              "    </tr>\n",
              "  </thead>\n",
              "  <tbody>\n",
              "    <tr>\n",
              "      <th>0</th>\n",
              "      <td>1</td>\n",
              "      <td>anisha aziz kabani</td>\n",
              "      <td>A51900013862</td>\n",
              "      <td>https://maharerait.mahaonline.gov.in/PrintPrev...</td>\n",
              "    </tr>\n",
              "    <tr>\n",
              "      <th>1</th>\n",
              "      <td>2</td>\n",
              "      <td>SATISSH  AGRAWAL</td>\n",
              "      <td>A51900013631</td>\n",
              "      <td>https://maharerait.mahaonline.gov.in/PrintPrev...</td>\n",
              "    </tr>\n",
              "    <tr>\n",
              "      <th>2</th>\n",
              "      <td>3</td>\n",
              "      <td>Aditya Sitaram Kumar</td>\n",
              "      <td>A51900013938</td>\n",
              "      <td>https://maharerait.mahaonline.gov.in/PrintPrev...</td>\n",
              "    </tr>\n",
              "    <tr>\n",
              "      <th>3</th>\n",
              "      <td>4</td>\n",
              "      <td>Manoj Madhusudan Ranadive</td>\n",
              "      <td>A51900013652</td>\n",
              "      <td>https://maharerait.mahaonline.gov.in/PrintPrev...</td>\n",
              "    </tr>\n",
              "    <tr>\n",
              "      <th>4</th>\n",
              "      <td>5</td>\n",
              "      <td>NARAYAN  KARWA</td>\n",
              "      <td>A51900021101</td>\n",
              "      <td>https://maharerait.mahaonline.gov.in/PrintPrev...</td>\n",
              "    </tr>\n",
              "    <tr>\n",
              "      <th>5</th>\n",
              "      <td>6</td>\n",
              "      <td>ANILKUMAR NANDLAL MORARKA</td>\n",
              "      <td>A51900014131</td>\n",
              "      <td>https://maharerait.mahaonline.gov.in/PrintPrev...</td>\n",
              "    </tr>\n",
              "    <tr>\n",
              "      <th>6</th>\n",
              "      <td>7</td>\n",
              "      <td>JAYANT JAGANNATH SIRSAT</td>\n",
              "      <td>A51900013617</td>\n",
              "      <td>https://maharerait.mahaonline.gov.in/PrintPrev...</td>\n",
              "    </tr>\n",
              "    <tr>\n",
              "      <th>7</th>\n",
              "      <td>8</td>\n",
              "      <td>RANJIT JAYANTILAL CHOUHAN</td>\n",
              "      <td>A51900013735</td>\n",
              "      <td>https://maharerait.mahaonline.gov.in/PrintPrev...</td>\n",
              "    </tr>\n",
              "    <tr>\n",
              "      <th>8</th>\n",
              "      <td>9</td>\n",
              "      <td>SANTOSH GANPAT GAONKAR</td>\n",
              "      <td>A51900013892</td>\n",
              "      <td>https://maharerait.mahaonline.gov.in/PrintPrev...</td>\n",
              "    </tr>\n",
              "    <tr>\n",
              "      <th>9</th>\n",
              "      <td>10</td>\n",
              "      <td>Best India Properties Pvt Ltd</td>\n",
              "      <td>A51900013921</td>\n",
              "      <td>https://maharerait.mahaonline.gov.in/PrintPrev...</td>\n",
              "    </tr>\n",
              "  </tbody>\n",
              "</table>\n",
              "</div>"
            ],
            "text/plain": [
              "   Sr No.                     Agent Name Certificate No.  \\\n",
              "0       1             anisha aziz kabani    A51900013862   \n",
              "1       2               SATISSH  AGRAWAL    A51900013631   \n",
              "2       3           Aditya Sitaram Kumar    A51900013938   \n",
              "3       4      Manoj Madhusudan Ranadive    A51900013652   \n",
              "4       5                 NARAYAN  KARWA    A51900021101   \n",
              "5       6      ANILKUMAR NANDLAL MORARKA    A51900014131   \n",
              "6       7        JAYANT JAGANNATH SIRSAT    A51900013617   \n",
              "7       8      RANJIT JAYANTILAL CHOUHAN    A51900013735   \n",
              "8       9         SANTOSH GANPAT GAONKAR    A51900013892   \n",
              "9      10  Best India Properties Pvt Ltd    A51900013921   \n",
              "\n",
              "                                           View Link  \n",
              "0  https://maharerait.mahaonline.gov.in/PrintPrev...  \n",
              "1  https://maharerait.mahaonline.gov.in/PrintPrev...  \n",
              "2  https://maharerait.mahaonline.gov.in/PrintPrev...  \n",
              "3  https://maharerait.mahaonline.gov.in/PrintPrev...  \n",
              "4  https://maharerait.mahaonline.gov.in/PrintPrev...  \n",
              "5  https://maharerait.mahaonline.gov.in/PrintPrev...  \n",
              "6  https://maharerait.mahaonline.gov.in/PrintPrev...  \n",
              "7  https://maharerait.mahaonline.gov.in/PrintPrev...  \n",
              "8  https://maharerait.mahaonline.gov.in/PrintPrev...  \n",
              "9  https://maharerait.mahaonline.gov.in/PrintPrev...  "
            ]
          },
          "metadata": {
            "tags": []
          },
          "execution_count": 185
        }
      ]
    }
  ]
}