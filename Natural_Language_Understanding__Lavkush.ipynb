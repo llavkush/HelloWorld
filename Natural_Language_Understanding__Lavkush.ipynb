{
  "cells": [
    {
      "cell_type": "markdown",
      "metadata": {
        "id": "view-in-github",
        "colab_type": "text"
      },
      "source": [
        "<a href=\"https://colab.research.google.com/github/llavkush/HelloWorld/blob/master/Natural_Language_Understanding__Lavkush.ipynb\" target=\"_parent\"><img src=\"https://colab.research.google.com/assets/colab-badge.svg\" alt=\"Open In Colab\"/></a>"
      ]
    },
    {
      "cell_type": "markdown",
      "metadata": {
        "id": "-ulAhumrvRij"
      },
      "source": [
        "Problem Statement:\n",
        "XYZ is a call audit company that audits the promotional call of their employees. They perform the call\n",
        "audits manually where a person listens all the recorded call and decide whether all the promotional\n",
        "offers are detailed correctly to the customer or not. But this process is time consuming and involved\n",
        "lots of manual intervention. So the company decide to use Natural Language Understanding and\n",
        "develops a product where they deal with processing audio calls, convert the speech into text,\n",
        "identifying intent and entities from a text and generate the summary for the audio calls. "
      ]
    },
    {
      "cell_type": "code",
      "execution_count": null,
      "metadata": {
        "colab": {
          "base_uri": "https://localhost:8080/"
        },
        "id": "m_zhoYeQxz-S",
        "outputId": "9013a763-6a87-435d-fe73-4c06abdba27f"
      },
      "outputs": [
        {
          "output_type": "stream",
          "name": "stdout",
          "text": [
            "Looking in indexes: https://pypi.org/simple, https://us-python.pkg.dev/colab-wheels/public/simple/\n",
            "Requirement already satisfied: sklearn_crfsuite in /usr/local/lib/python3.7/dist-packages (0.3.6)\n",
            "Requirement already satisfied: tqdm>=2.0 in /usr/local/lib/python3.7/dist-packages (from sklearn_crfsuite) (4.64.0)\n",
            "Requirement already satisfied: python-crfsuite>=0.8.3 in /usr/local/lib/python3.7/dist-packages (from sklearn_crfsuite) (0.9.8)\n",
            "Requirement already satisfied: tabulate in /usr/local/lib/python3.7/dist-packages (from sklearn_crfsuite) (0.8.9)\n",
            "Requirement already satisfied: six in /usr/local/lib/python3.7/dist-packages (from sklearn_crfsuite) (1.15.0)\n"
          ]
        }
      ],
      "source": [
        "!pip install sklearn_crfsuite --quiet"
      ]
    },
    {
      "cell_type": "code",
      "execution_count": null,
      "metadata": {
        "id": "CHdOQ_fPvZev"
      },
      "outputs": [],
      "source": [
        "!pip install rasa_nlu spacy --quiet"
      ]
    },
    {
      "cell_type": "code",
      "execution_count": null,
      "metadata": {
        "id": "MHW7RU_8vjmq"
      },
      "outputs": [],
      "source": [
        "from rasa_nlu.training_data import load_data\n",
        "from rasa_nlu.config import RasaNLUModelConfig\n",
        "from rasa_nlu.model import Trainer\n",
        "from rasa_nlu import config"
      ]
    },
    {
      "cell_type": "code",
      "execution_count": null,
      "metadata": {
        "id": "XAz75zHrvwcb"
      },
      "outputs": [],
      "source": [
        "#Reading Data Sets\n",
        "train_data = load_data('/content/rasa-dataset.json') #Reading Data Set for training intent Classifier"
      ]
    },
    {
      "cell_type": "code",
      "execution_count": null,
      "metadata": {
        "id": "ChrwWvOnwmqz"
      },
      "outputs": [],
      "source": [
        "# language: \"en\"\n",
        "# pipeline: \"spacy_sklearn\""
      ]
    },
    {
      "cell_type": "code",
      "execution_count": null,
      "metadata": {
        "id": "G80Mw-fqv3oV"
      },
      "outputs": [],
      "source": [
        "trainer = Trainer(config.load(\"/content/config_spacy.yaml\")) #Reading config file"
      ]
    },
    {
      "cell_type": "markdown",
      "source": [
        "##Content of config_spacy.yaml"
      ],
      "metadata": {
        "id": "xwZL4ukTUtxv"
      }
    },
    {
      "cell_type": "markdown",
      "source": [
        "language: \"en\"\n",
        "\n",
        "pipeline:\n",
        "- name: \"nlp_spacy\"\n",
        "- name: \"tokenizer_spacy\"\n",
        "- name: \"intent_entity_featurizer_regex\"\n",
        "- name: \"intent_featurizer_spacy\"\n",
        "- name: \"ner_crf\"\n",
        "- name: \"ner_synonyms\"\n",
        "- name: \"intent_classifier_sklearn\""
      ],
      "metadata": {
        "id": "IuGe_aSaUqxw"
      }
    },
    {
      "cell_type": "markdown",
      "metadata": {
        "id": "s1O7RznqyAU_"
      },
      "source": [
        "###Model training"
      ]
    },
    {
      "cell_type": "code",
      "execution_count": null,
      "metadata": {
        "colab": {
          "base_uri": "https://localhost:8080/"
        },
        "id": "RdDpqe0XyBZD",
        "outputId": "9bc4ec29-5911-46c2-9f3d-f1e710e2556d"
      },
      "outputs": [
        {
          "output_type": "stream",
          "name": "stdout",
          "text": [
            "Fitting 2 folds for each of 6 candidates, totalling 12 fits\n"
          ]
        },
        {
          "output_type": "stream",
          "name": "stderr",
          "text": [
            "[Parallel(n_jobs=1)]: Using backend SequentialBackend with 1 concurrent workers.\n",
            "/usr/local/lib/python3.7/dist-packages/sklearn/metrics/classification.py:1143: UndefinedMetricWarning: F-score is ill-defined and being set to 0.0 in labels with no predicted samples.\n",
            "  'precision', 'predicted', average, warn_for)\n",
            "/usr/local/lib/python3.7/dist-packages/sklearn/metrics/classification.py:1143: UndefinedMetricWarning: F-score is ill-defined and being set to 0.0 in labels with no predicted samples.\n",
            "  'precision', 'predicted', average, warn_for)\n",
            "/usr/local/lib/python3.7/dist-packages/sklearn/metrics/classification.py:1143: UndefinedMetricWarning: F-score is ill-defined and being set to 0.0 in labels with no predicted samples.\n",
            "  'precision', 'predicted', average, warn_for)\n",
            "/usr/local/lib/python3.7/dist-packages/sklearn/metrics/classification.py:1143: UndefinedMetricWarning: F-score is ill-defined and being set to 0.0 in labels with no predicted samples.\n",
            "  'precision', 'predicted', average, warn_for)\n",
            "/usr/local/lib/python3.7/dist-packages/sklearn/metrics/classification.py:1143: UndefinedMetricWarning: F-score is ill-defined and being set to 0.0 in labels with no predicted samples.\n",
            "  'precision', 'predicted', average, warn_for)\n",
            "/usr/local/lib/python3.7/dist-packages/sklearn/metrics/classification.py:1143: UndefinedMetricWarning: F-score is ill-defined and being set to 0.0 in labels with no predicted samples.\n",
            "  'precision', 'predicted', average, warn_for)\n",
            "/usr/local/lib/python3.7/dist-packages/sklearn/metrics/classification.py:1143: UndefinedMetricWarning: F-score is ill-defined and being set to 0.0 in labels with no predicted samples.\n",
            "  'precision', 'predicted', average, warn_for)\n",
            "/usr/local/lib/python3.7/dist-packages/sklearn/metrics/classification.py:1143: UndefinedMetricWarning: F-score is ill-defined and being set to 0.0 in labels with no predicted samples.\n",
            "  'precision', 'predicted', average, warn_for)\n",
            "/usr/local/lib/python3.7/dist-packages/sklearn/metrics/classification.py:1143: UndefinedMetricWarning: F-score is ill-defined and being set to 0.0 in labels with no predicted samples.\n",
            "  'precision', 'predicted', average, warn_for)\n",
            "/usr/local/lib/python3.7/dist-packages/sklearn/metrics/classification.py:1143: UndefinedMetricWarning: F-score is ill-defined and being set to 0.0 in labels with no predicted samples.\n",
            "  'precision', 'predicted', average, warn_for)\n",
            "/usr/local/lib/python3.7/dist-packages/sklearn/metrics/classification.py:1143: UndefinedMetricWarning: F-score is ill-defined and being set to 0.0 in labels with no predicted samples.\n",
            "  'precision', 'predicted', average, warn_for)\n",
            "/usr/local/lib/python3.7/dist-packages/sklearn/metrics/classification.py:1143: UndefinedMetricWarning: F-score is ill-defined and being set to 0.0 in labels with no predicted samples.\n",
            "  'precision', 'predicted', average, warn_for)\n",
            "[Parallel(n_jobs=1)]: Done  12 out of  12 | elapsed:    0.0s finished\n"
          ]
        },
        {
          "output_type": "execute_result",
          "data": {
            "text/plain": [
              "<rasa_nlu.model.Interpreter at 0x7f8be2427b10>"
            ]
          },
          "metadata": {},
          "execution_count": 106
        }
      ],
      "source": [
        "trainer.train(train_data)"
      ]
    },
    {
      "cell_type": "code",
      "execution_count": null,
      "metadata": {
        "id": "PdDvlEcByDcY"
      },
      "outputs": [],
      "source": [
        "#Saving Model\n",
        "model_directory = trainer.persist('/content/')"
      ]
    },
    {
      "cell_type": "code",
      "execution_count": null,
      "metadata": {
        "id": "1yKrffczyNXn"
      },
      "outputs": [],
      "source": [
        "#Entity extraction with SpaCy\n",
        "import spacy\n",
        "nlp = spacy.load('en')"
      ]
    },
    {
      "cell_type": "code",
      "execution_count": null,
      "metadata": {
        "id": "3JozUwSmyn4X"
      },
      "outputs": [],
      "source": [
        "#Loading a Samle text \n",
        "text = \"My name is and I am calling from.\"\n",
        "docx = nlp('My name is Jeff This is a call regarding your Google Cloud Platform account')\n",
        "docx = nlp(text)\n",
        "for word in docx.ents:\n",
        "  print(word)\n",
        "    #print(\"value\",word.text,\"entity\",word.label_,\"start\",word.start_char,\"end\",word.end_char)"
      ]
    },
    {
      "cell_type": "code",
      "execution_count": null,
      "metadata": {
        "id": "8SdbqjrfzBnO"
      },
      "outputs": [],
      "source": [
        "#Making predictions with the model\n",
        "from rasa_nlu.model import Metadata, Interpreter\n",
        "\n",
        "# where `model_directory points to the folder the model is persisted in\n",
        "interpreter = Interpreter.load(model_directory)"
      ]
    },
    {
      "cell_type": "code",
      "execution_count": null,
      "metadata": {
        "colab": {
          "base_uri": "https://localhost:8080/",
          "height": 36
        },
        "id": "qTNji9glzj_i",
        "outputId": "6040a42d-8ed6-463a-ba40-21854327485c"
      },
      "outputs": [
        {
          "output_type": "execute_result",
          "data": {
            "text/plain": [
              "'Purpose'"
            ],
            "application/vnd.google.colaboratory.intrinsic+json": {
              "type": "string"
            }
          },
          "metadata": {},
          "execution_count": 130
        }
      ],
      "source": [
        "# Prediction of Intent\n",
        "dict_ = interpreter.parse('This is a call regarding your Google Cloud Platform account')\n",
        "dict_['intent']['name']"
      ]
    },
    {
      "cell_type": "code",
      "source": [
        "#Helppr Funtion to Identify Intent And Entity\n",
        "\n",
        "def cleanNullTerms(d):\n",
        "   clean = {}\n",
        "   for k, v in d.items():\n",
        "      if isinstance(v, dict):\n",
        "         nested = cleanNullTerms(v)\n",
        "         if len(nested.keys()) > 0:\n",
        "            clean[k] = nested\n",
        "      elif v is not None:\n",
        "         clean[k] = v\n",
        "   return clean\n",
        "\n",
        "\n",
        "def entity_recog(text):\n",
        "  docx = nlp(text)\n",
        "  dict_ = {}\n",
        "  for word in docx.ents:\n",
        "      dict_[word.label_] = word.text\n",
        "  dict_ = {'name': dict_.get('PERSON', None),'org': dict_.get('ORG', None)}\n",
        "  dict_ = cleanNullTerms(dict_)\n",
        "  d = []\n",
        "  for k, v in dict_.items():\n",
        "    if len(dict_) > 1:\n",
        "      if k == 'name':\n",
        "        d.append({\"entity_name\" : \"caller_name\", \"entity_value\" : v})\n",
        "      elif k == 'org':\n",
        "        d.append({\"entity_name\" : \"company\", \"entity_value\" : v})\n",
        "    else:\n",
        "      if k == 'name':\n",
        "        d.append({\"entity_name\" : \"caller_name\", \"entity_value\" : v})\n",
        "      else:\n",
        "        if k == 'org':\n",
        "          d.append({\"entity_name\" : \"product\", \"entity_value\" : v})\n",
        "  \n",
        "  return d\n",
        "\n",
        "def intent_recog(text):\n",
        "  interpreter = Interpreter.load(model_directory)\n",
        "  dict_ = interpreter.parse(text)\n",
        "  dict_ = dict_['intent']['name']\n",
        "  return dict_\n",
        "\n",
        "def output(text):\n",
        "  result = text.split('.')\n",
        "  result = [r for r in result if len(r) > 0]\n",
        "  output = []\n",
        "  for i in result:\n",
        "    output.append([i,intent_recog(i),entity_recog(i)])\n",
        "  final = {\"task_1_output\" : text , \"task_2_output\" : [{\"sentence\": x, \"intent\":intent_recog(x),\"entities\":entity_recog(x)} for x in result]}\n",
        "  return final\n"
      ],
      "metadata": {
        "id": "tYjhaykkk3Mj"
      },
      "execution_count": null,
      "outputs": []
    },
    {
      "cell_type": "code",
      "source": [
        "text = \"My name Lavkush and Ravi is I am calling from Amazon\"\n",
        "intent_recog(text)"
      ],
      "metadata": {
        "colab": {
          "base_uri": "https://localhost:8080/",
          "height": 36
        },
        "id": "5CvNB0uglML5",
        "outputId": "bc134558-c26b-434d-9102-c38f0312770e"
      },
      "execution_count": null,
      "outputs": [
        {
          "output_type": "execute_result",
          "data": {
            "text/plain": [
              "'Intro'"
            ],
            "application/vnd.google.colaboratory.intrinsic+json": {
              "type": "string"
            }
          },
          "metadata": {},
          "execution_count": 368
        }
      ]
    },
    {
      "cell_type": "code",
      "source": [
        "#Text Transcibed using VEED.io\n",
        "text_1= \"\"\"Hello.Hi, Nancy.This is Mike from AT&T incorporation. Yes.How can I help you? Nancy?You have been using our prepaid connection for a couple of years now, right?Yeah, that's right.How would you like a postpaid connection thatallows you to make free unlimited voice callsto three AT&T numbers?I would love that.But what's the catch?There's no catch.There will be a monthly rental which you willhave to pay like any other postpaid connection.Fantastic. Sign me up.\"\"\""
      ],
      "metadata": {
        "id": "7NGQi-Zydv0A"
      },
      "execution_count": null,
      "outputs": []
    },
    {
      "cell_type": "code",
      "source": [
        "output(text_1)"
      ],
      "metadata": {
        "colab": {
          "base_uri": "https://localhost:8080/"
        },
        "id": "V-wBcwgH2hE6",
        "outputId": "6f8b0853-18c5-4c17-86bb-61ea42e604eb"
      },
      "execution_count": null,
      "outputs": [
        {
          "output_type": "execute_result",
          "data": {
            "text/plain": [
              "{'task_1_output': \"Hello.Hi, Nancy.This is Mike from AT&T incorporation. Yes.How can I help you? Nancy?You have been using our prepaid connection for a couple of years now, right?Yeah, that's right.How would you like a postpaid connection thatallows you to make free unlimited voice callsto three AT&T numbers?I would love that.But what's the catch?There's no catch.There will be a monthly rental which you willhave to pay like any other postpaid connection.Fantastic. Sign me up.\",\n",
              " 'task_2_output': [{'entities': [], 'intent': 'affirm', 'sentence': 'Hello'},\n",
              "  {'entities': [{'entity_name': 'caller_name', 'entity_value': 'Nancy'}],\n",
              "   'intent': 'affirm',\n",
              "   'sentence': 'Hi, Nancy'},\n",
              "  {'entities': [{'entity_name': 'caller_name', 'entity_value': 'Mike'},\n",
              "    {'entity_name': 'company', 'entity_value': 'AT&T'}],\n",
              "   'intent': 'Intro',\n",
              "   'sentence': 'This is Mike from AT&T incorporation'},\n",
              "  {'entities': [], 'intent': 'affirm', 'sentence': ' Yes'},\n",
              "  {'entities': [],\n",
              "   'intent': 'affirm',\n",
              "   'sentence': \"How can I help you? Nancy?You have been using our prepaid connection for a couple of years now, right?Yeah, that's right\"},\n",
              "  {'entities': [{'entity_name': 'product', 'entity_value': 'AT&T'}],\n",
              "   'intent': 'Purpose',\n",
              "   'sentence': 'How would you like a postpaid connection thatallows you to make free unlimited voice callsto three AT&T numbers?I would love that'},\n",
              "  {'entities': [{'entity_name': 'product', 'entity_value': 'catch?There'}],\n",
              "   'intent': 'affirm',\n",
              "   'sentence': \"But what's the catch?There's no catch\"},\n",
              "  {'entities': [],\n",
              "   'intent': 'affirm',\n",
              "   'sentence': 'There will be a monthly rental which you willhave to pay like any other postpaid connection'},\n",
              "  {'entities': [], 'intent': 'goodbye', 'sentence': 'Fantastic'},\n",
              "  {'entities': [], 'intent': 'Purpose', 'sentence': ' Sign me up'}]}"
            ]
          },
          "metadata": {},
          "execution_count": 370
        }
      ]
    },
    {
      "cell_type": "code",
      "source": [
        "import json\n",
        "# convert into JSON:\n",
        "y = json.dumps(output(text_1), indent=4)\n",
        "\n",
        "# the result is a JSON string:\n",
        "print(y)"
      ],
      "metadata": {
        "colab": {
          "base_uri": "https://localhost:8080/"
        },
        "id": "QszBfWEx2jWi",
        "outputId": "fff0797f-29b7-4075-d1f0-f9997970908f"
      },
      "execution_count": null,
      "outputs": [
        {
          "output_type": "stream",
          "name": "stdout",
          "text": [
            "{\n",
            "    \"task_1_output\": \"Hello.Hi, Nancy.This is Mike from AT&T incorporation. Yes.How can I help you? Nancy?You have been using our prepaid connection for a couple of years now, right?Yeah, that's right.How would you like a postpaid connection thatallows you to make free unlimited voice callsto three AT&T numbers?I would love that.But what's the catch?There's no catch.There will be a monthly rental which you willhave to pay like any other postpaid connection.Fantastic. Sign me up.\",\n",
            "    \"task_2_output\": [\n",
            "        {\n",
            "            \"sentence\": \"Hello\",\n",
            "            \"intent\": \"affirm\",\n",
            "            \"entities\": []\n",
            "        },\n",
            "        {\n",
            "            \"sentence\": \"Hi, Nancy\",\n",
            "            \"intent\": \"affirm\",\n",
            "            \"entities\": [\n",
            "                {\n",
            "                    \"entity_name\": \"caller_name\",\n",
            "                    \"entity_value\": \"Nancy\"\n",
            "                }\n",
            "            ]\n",
            "        },\n",
            "        {\n",
            "            \"sentence\": \"This is Mike from AT&T incorporation\",\n",
            "            \"intent\": \"Intro\",\n",
            "            \"entities\": [\n",
            "                {\n",
            "                    \"entity_name\": \"caller_name\",\n",
            "                    \"entity_value\": \"Mike\"\n",
            "                },\n",
            "                {\n",
            "                    \"entity_name\": \"company\",\n",
            "                    \"entity_value\": \"AT&T\"\n",
            "                }\n",
            "            ]\n",
            "        },\n",
            "        {\n",
            "            \"sentence\": \" Yes\",\n",
            "            \"intent\": \"affirm\",\n",
            "            \"entities\": []\n",
            "        },\n",
            "        {\n",
            "            \"sentence\": \"How can I help you? Nancy?You have been using our prepaid connection for a couple of years now, right?Yeah, that's right\",\n",
            "            \"intent\": \"affirm\",\n",
            "            \"entities\": []\n",
            "        },\n",
            "        {\n",
            "            \"sentence\": \"How would you like a postpaid connection thatallows you to make free unlimited voice callsto three AT&T numbers?I would love that\",\n",
            "            \"intent\": \"Purpose\",\n",
            "            \"entities\": [\n",
            "                {\n",
            "                    \"entity_name\": \"product\",\n",
            "                    \"entity_value\": \"AT&T\"\n",
            "                }\n",
            "            ]\n",
            "        },\n",
            "        {\n",
            "            \"sentence\": \"But what's the catch?There's no catch\",\n",
            "            \"intent\": \"affirm\",\n",
            "            \"entities\": [\n",
            "                {\n",
            "                    \"entity_name\": \"product\",\n",
            "                    \"entity_value\": \"catch?There\"\n",
            "                }\n",
            "            ]\n",
            "        },\n",
            "        {\n",
            "            \"sentence\": \"There will be a monthly rental which you willhave to pay like any other postpaid connection\",\n",
            "            \"intent\": \"affirm\",\n",
            "            \"entities\": []\n",
            "        },\n",
            "        {\n",
            "            \"sentence\": \"Fantastic\",\n",
            "            \"intent\": \"goodbye\",\n",
            "            \"entities\": []\n",
            "        },\n",
            "        {\n",
            "            \"sentence\": \" Sign me up\",\n",
            "            \"intent\": \"Purpose\",\n",
            "            \"entities\": []\n",
            "        }\n",
            "    ]\n",
            "}\n"
          ]
        }
      ]
    },
    {
      "cell_type": "code",
      "source": [
        ""
      ],
      "metadata": {
        "id": "GufPjNLWTyAK"
      },
      "execution_count": null,
      "outputs": []
    }
  ],
  "metadata": {
    "colab": {
      "name": "Natural Language Understanding _Lavkush.ipynb",
      "provenance": [],
      "collapsed_sections": [],
      "authorship_tag": "ABX9TyOXOgkDnEa6o3jhya+Uqzn5",
      "include_colab_link": true
    },
    "kernelspec": {
      "display_name": "Python 3",
      "name": "python3"
    },
    "language_info": {
      "name": "python"
    }
  },
  "nbformat": 4,
  "nbformat_minor": 0
}