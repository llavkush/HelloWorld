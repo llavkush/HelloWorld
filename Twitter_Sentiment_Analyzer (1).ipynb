{
  "nbformat": 4,
  "nbformat_minor": 0,
  "metadata": {
    "colab": {
      "name": "Twitter Sentiment Analyzer.ipynb",
      "provenance": [],
      "collapsed_sections": []
    },
    "kernelspec": {
      "name": "python3",
      "display_name": "Python 3"
    },
    "language_info": {
      "name": "python"
    }
  },
  "cells": [
    {
      "cell_type": "markdown",
      "metadata": {
        "id": "rwoi2JqIWYYA"
      },
      "source": [
        "#Twitter Sentimennt Analysis - Binary Classification with Machine Learning\n",
        "In this Machine Learning Project, we’ll build binary classification that puts tweets texts into one of two categories — negative or positive sentiment. We’re going to have a brief look at the Bayes theorem and relax its requirements using the Naive assumption."
      ]
    },
    {
      "cell_type": "code",
      "metadata": {
        "id": "QwDwi_j6tMft"
      },
      "source": [
        "#Importing  Required Library\n",
        "import numpy as np\n",
        "import pandas as pd\n",
        "import re\n",
        "from sklearn.model_selection import train_test_split\n",
        "from sklearn.naive_bayes import GaussianNB,MultinomialNB,BernoulliNB,ComplementNB, CategoricalNB\n",
        "from nltk.corpus import stopwords\n",
        "from nltk.tokenize import word_tokenize\n",
        "from sklearn.feature_extraction.text import CountVectorizer\n",
        "from sklearn.metrics import accuracy_score\n",
        "import pickle"
      ],
      "execution_count": 229,
      "outputs": []
    },
    {
      "cell_type": "code",
      "metadata": {
        "colab": {
          "base_uri": "https://localhost:8080/",
          "height": 204
        },
        "id": "oVYpIbIJwSnj",
        "outputId": "d7866ed0-7c26-417d-d253-b59482c43341"
      },
      "source": [
        "dataset = pd.read_csv('/content/dataset.csv', usecols=[0,1,2],encoding=\"ISO-8859-1\")\n",
        "dataset.head()"
      ],
      "execution_count": 230,
      "outputs": [
        {
          "output_type": "execute_result",
          "data": {
            "text/html": [
              "<div>\n",
              "<style scoped>\n",
              "    .dataframe tbody tr th:only-of-type {\n",
              "        vertical-align: middle;\n",
              "    }\n",
              "\n",
              "    .dataframe tbody tr th {\n",
              "        vertical-align: top;\n",
              "    }\n",
              "\n",
              "    .dataframe thead th {\n",
              "        text-align: right;\n",
              "    }\n",
              "</style>\n",
              "<table border=\"1\" class=\"dataframe\">\n",
              "  <thead>\n",
              "    <tr style=\"text-align: right;\">\n",
              "      <th></th>\n",
              "      <th>ItemID</th>\n",
              "      <th>Sentiment</th>\n",
              "      <th>SentimentText</th>\n",
              "    </tr>\n",
              "  </thead>\n",
              "  <tbody>\n",
              "    <tr>\n",
              "      <th>0</th>\n",
              "      <td>1</td>\n",
              "      <td>0</td>\n",
              "      <td>is so sad for my APL frie...</td>\n",
              "    </tr>\n",
              "    <tr>\n",
              "      <th>1</th>\n",
              "      <td>2</td>\n",
              "      <td>0</td>\n",
              "      <td>I missed the New Moon trail...</td>\n",
              "    </tr>\n",
              "    <tr>\n",
              "      <th>2</th>\n",
              "      <td>3</td>\n",
              "      <td>1</td>\n",
              "      <td>omg its already 7:30 :O</td>\n",
              "    </tr>\n",
              "    <tr>\n",
              "      <th>3</th>\n",
              "      <td>4</td>\n",
              "      <td>0</td>\n",
              "      <td>.. Omgaga. Im sooo  im gunna CRy. I'...</td>\n",
              "    </tr>\n",
              "    <tr>\n",
              "      <th>4</th>\n",
              "      <td>5</td>\n",
              "      <td>0</td>\n",
              "      <td>i think mi bf is cheating on me!!!   ...</td>\n",
              "    </tr>\n",
              "  </tbody>\n",
              "</table>\n",
              "</div>"
            ],
            "text/plain": [
              "  ItemID Sentiment                                      SentimentText\n",
              "0      1         0                       is so sad for my APL frie...\n",
              "1      2         0                     I missed the New Moon trail...\n",
              "2      3         1                            omg its already 7:30 :O\n",
              "3      4         0            .. Omgaga. Im sooo  im gunna CRy. I'...\n",
              "4      5         0           i think mi bf is cheating on me!!!   ..."
            ]
          },
          "metadata": {
            "tags": []
          },
          "execution_count": 230
        }
      ]
    },
    {
      "cell_type": "code",
      "metadata": {
        "colab": {
          "base_uri": "https://localhost:8080/"
        },
        "id": "nPHtvXOIy5Dr",
        "outputId": "3899f38f-e4f0-48cc-9f8d-616d1177c8f6"
      },
      "source": [
        "dataset.shape"
      ],
      "execution_count": 231,
      "outputs": [
        {
          "output_type": "execute_result",
          "data": {
            "text/plain": [
              "(99982, 3)"
            ]
          },
          "metadata": {
            "tags": []
          },
          "execution_count": 231
        }
      ]
    },
    {
      "cell_type": "code",
      "metadata": {
        "colab": {
          "base_uri": "https://localhost:8080/"
        },
        "id": "UCsvWScZ3wIx",
        "outputId": "25628060-65f2-469c-9370-96293761feb2"
      },
      "source": [
        "dataset.info()"
      ],
      "execution_count": 232,
      "outputs": [
        {
          "output_type": "stream",
          "text": [
            "<class 'pandas.core.frame.DataFrame'>\n",
            "RangeIndex: 99982 entries, 0 to 99981\n",
            "Data columns (total 3 columns):\n",
            " #   Column         Non-Null Count  Dtype \n",
            "---  ------         --------------  ----- \n",
            " 0   ItemID         99982 non-null  object\n",
            " 1   Sentiment      99982 non-null  object\n",
            " 2   SentimentText  99982 non-null  object\n",
            "dtypes: object(3)\n",
            "memory usage: 2.3+ MB\n"
          ],
          "name": "stdout"
        }
      ]
    },
    {
      "cell_type": "markdown",
      "metadata": {
        "id": "hhI4cHAQ368M"
      },
      "source": [
        "No Missing Values in any Columns"
      ]
    },
    {
      "cell_type": "code",
      "metadata": {
        "colab": {
          "base_uri": "https://localhost:8080/"
        },
        "id": "XfgZTS93315e",
        "outputId": "e753efc4-7ec9-4b3b-9f02-549fd2bfcaa9"
      },
      "source": [
        "dataset.Sentiment.value_counts"
      ],
      "execution_count": 233,
      "outputs": [
        {
          "output_type": "execute_result",
          "data": {
            "text/plain": [
              "<bound method IndexOpsMixin.value_counts of 0        0\n",
              "1        0\n",
              "2        1\n",
              "3        0\n",
              "4        0\n",
              "        ..\n",
              "99977    0\n",
              "99978    1\n",
              "99979    0\n",
              "99980    1\n",
              "99981    1\n",
              "Name: Sentiment, Length: 99982, dtype: object>"
            ]
          },
          "metadata": {
            "tags": []
          },
          "execution_count": 233
        }
      ]
    },
    {
      "cell_type": "code",
      "metadata": {
        "colab": {
          "base_uri": "https://localhost:8080/"
        },
        "id": "0l_Ps4-DG5XJ",
        "outputId": "c89c8f73-3075-4dd8-a131-d26754bd8304"
      },
      "source": [
        "dataset.Sentiment.unique()"
      ],
      "execution_count": 234,
      "outputs": [
        {
          "output_type": "execute_result",
          "data": {
            "text/plain": [
              "array(['0', '1', \" we're jizztastic\"], dtype=object)"
            ]
          },
          "metadata": {
            "tags": []
          },
          "execution_count": 234
        }
      ]
    },
    {
      "cell_type": "markdown",
      "metadata": {
        "id": "XgXEUPIWRNX1"
      },
      "source": [
        "Droping the rows with value \" we're jizztastic\" from the dataframes removing the inconsistency"
      ]
    },
    {
      "cell_type": "code",
      "metadata": {
        "id": "tylQYmz5Q8RZ"
      },
      "source": [
        "dataset = dataset[dataset[\"Sentiment\"].str.contains(\" we're jizztastic\")==False]"
      ],
      "execution_count": 253,
      "outputs": []
    },
    {
      "cell_type": "code",
      "metadata": {
        "colab": {
          "base_uri": "https://localhost:8080/"
        },
        "id": "vrGQQUshRGNP",
        "outputId": "ab34af93-952d-480f-dd21-2c54c364eaed"
      },
      "source": [
        "dataset.Sentiment.unique()"
      ],
      "execution_count": 255,
      "outputs": [
        {
          "output_type": "execute_result",
          "data": {
            "text/plain": [
              "array(['0', '1'], dtype=object)"
            ]
          },
          "metadata": {
            "tags": []
          },
          "execution_count": 255
        }
      ]
    },
    {
      "cell_type": "code",
      "metadata": {
        "colab": {
          "base_uri": "https://localhost:8080/",
          "height": 204
        },
        "id": "-bkJGlHAI-oC",
        "outputId": "ba234f96-7009-47cb-bc5e-ccbd84d6b51e"
      },
      "source": [
        "dataset.head()"
      ],
      "execution_count": 256,
      "outputs": [
        {
          "output_type": "execute_result",
          "data": {
            "text/html": [
              "<div>\n",
              "<style scoped>\n",
              "    .dataframe tbody tr th:only-of-type {\n",
              "        vertical-align: middle;\n",
              "    }\n",
              "\n",
              "    .dataframe tbody tr th {\n",
              "        vertical-align: top;\n",
              "    }\n",
              "\n",
              "    .dataframe thead th {\n",
              "        text-align: right;\n",
              "    }\n",
              "</style>\n",
              "<table border=\"1\" class=\"dataframe\">\n",
              "  <thead>\n",
              "    <tr style=\"text-align: right;\">\n",
              "      <th></th>\n",
              "      <th>ItemID</th>\n",
              "      <th>Sentiment</th>\n",
              "      <th>SentimentText</th>\n",
              "    </tr>\n",
              "  </thead>\n",
              "  <tbody>\n",
              "    <tr>\n",
              "      <th>0</th>\n",
              "      <td>1</td>\n",
              "      <td>0</td>\n",
              "      <td>is so sad for my APL frie...</td>\n",
              "    </tr>\n",
              "    <tr>\n",
              "      <th>1</th>\n",
              "      <td>2</td>\n",
              "      <td>0</td>\n",
              "      <td>I missed the New Moon trail...</td>\n",
              "    </tr>\n",
              "    <tr>\n",
              "      <th>2</th>\n",
              "      <td>3</td>\n",
              "      <td>1</td>\n",
              "      <td>omg its already 7:30 :O</td>\n",
              "    </tr>\n",
              "    <tr>\n",
              "      <th>3</th>\n",
              "      <td>4</td>\n",
              "      <td>0</td>\n",
              "      <td>.. Omgaga. Im sooo  im gunna CRy. I'...</td>\n",
              "    </tr>\n",
              "    <tr>\n",
              "      <th>4</th>\n",
              "      <td>5</td>\n",
              "      <td>0</td>\n",
              "      <td>i think mi bf is cheating on me!!!   ...</td>\n",
              "    </tr>\n",
              "  </tbody>\n",
              "</table>\n",
              "</div>"
            ],
            "text/plain": [
              "  ItemID Sentiment                                      SentimentText\n",
              "0      1         0                       is so sad for my APL frie...\n",
              "1      2         0                     I missed the New Moon trail...\n",
              "2      3         1                            omg its already 7:30 :O\n",
              "3      4         0            .. Omgaga. Im sooo  im gunna CRy. I'...\n",
              "4      5         0           i think mi bf is cheating on me!!!   ..."
            ]
          },
          "metadata": {
            "tags": []
          },
          "execution_count": 256
        }
      ]
    },
    {
      "cell_type": "markdown",
      "metadata": {
        "id": "DM3fpIJ57A-m"
      },
      "source": [
        "##Cleaning the Dataset"
      ]
    },
    {
      "cell_type": "code",
      "metadata": {
        "id": "ZQWudkK23w8G"
      },
      "source": [
        "#Removing HTML tags\n",
        "def clean(text):\n",
        "    cleaned = re.compile(r'<.*?>')\n",
        "    return re.sub(cleaned,'',text)"
      ],
      "execution_count": 257,
      "outputs": []
    },
    {
      "cell_type": "code",
      "metadata": {
        "colab": {
          "base_uri": "https://localhost:8080/",
          "height": 174
        },
        "id": "-_Z9nydM3w-O",
        "outputId": "3b9caa32-88c1-4f45-d81e-a7bb37e868bb"
      },
      "source": [
        "dataset.SentimentText = dataset.SentimentText.apply(clean)\n",
        "dataset.SentimentText[3]"
      ],
      "execution_count": 258,
      "outputs": [
        {
          "output_type": "stream",
          "text": [
            "/usr/local/lib/python3.7/dist-packages/pandas/core/generic.py:5170: SettingWithCopyWarning: \n",
            "A value is trying to be set on a copy of a slice from a DataFrame.\n",
            "Try using .loc[row_indexer,col_indexer] = value instead\n",
            "\n",
            "See the caveats in the documentation: https://pandas.pydata.org/pandas-docs/stable/user_guide/indexing.html#returning-a-view-versus-a-copy\n",
            "  self[name] = value\n"
          ],
          "name": "stderr"
        },
        {
          "output_type": "execute_result",
          "data": {
            "application/vnd.google.colaboratory.intrinsic+json": {
              "type": "string"
            },
            "text/plain": [
              "\"          .. Omgaga. Im sooo  im gunna CRy. I've been at this dentist since 11.. I was suposed 2 just get a crown put on (30mins)...\""
            ]
          },
          "metadata": {
            "tags": []
          },
          "execution_count": 258
        }
      ]
    },
    {
      "cell_type": "code",
      "metadata": {
        "id": "wUDWr20t3xAu"
      },
      "source": [
        "#Cleaing Special Characters\n",
        "def is_special(text):\n",
        "    rem = ''\n",
        "    for i in text:\n",
        "        if i.isalnum():\n",
        "            rem = rem + i\n",
        "        else:\n",
        "            rem = rem + ' '\n",
        "    return rem"
      ],
      "execution_count": 259,
      "outputs": []
    },
    {
      "cell_type": "code",
      "metadata": {
        "colab": {
          "base_uri": "https://localhost:8080/",
          "height": 174
        },
        "id": "JXc_CrG43xD6",
        "outputId": "b4ad7629-2113-42cd-8efa-525ddada4563"
      },
      "source": [
        "dataset.SentimentText = dataset.SentimentText.apply(is_special)\n",
        "dataset.SentimentText[3]"
      ],
      "execution_count": 260,
      "outputs": [
        {
          "output_type": "stream",
          "text": [
            "/usr/local/lib/python3.7/dist-packages/pandas/core/generic.py:5170: SettingWithCopyWarning: \n",
            "A value is trying to be set on a copy of a slice from a DataFrame.\n",
            "Try using .loc[row_indexer,col_indexer] = value instead\n",
            "\n",
            "See the caveats in the documentation: https://pandas.pydata.org/pandas-docs/stable/user_guide/indexing.html#returning-a-view-versus-a-copy\n",
            "  self[name] = value\n"
          ],
          "name": "stderr"
        },
        {
          "output_type": "execute_result",
          "data": {
            "application/vnd.google.colaboratory.intrinsic+json": {
              "type": "string"
            },
            "text/plain": [
              "'             Omgaga  Im sooo  im gunna CRy  I ve been at this dentist since 11   I was suposed 2 just get a crown put on  30mins    '"
            ]
          },
          "metadata": {
            "tags": []
          },
          "execution_count": 260
        }
      ]
    },
    {
      "cell_type": "markdown",
      "metadata": {
        "id": "226dAH-N8N0R"
      },
      "source": [
        "As Python is Case Sensitive, Converting all characters to lower case"
      ]
    },
    {
      "cell_type": "code",
      "metadata": {
        "id": "St3qmGLP3xHa"
      },
      "source": [
        "def to_lower(text):\n",
        "    return text.lower()"
      ],
      "execution_count": 261,
      "outputs": []
    },
    {
      "cell_type": "code",
      "metadata": {
        "colab": {
          "base_uri": "https://localhost:8080/",
          "height": 52
        },
        "id": "VCcG4mz03xJ4",
        "outputId": "4166fe86-665c-45b6-bf0e-ac257439059f"
      },
      "source": [
        "dataset.SentimentText = dataset.SentimentText.apply(to_lower)\n",
        "dataset.SentimentText[3]"
      ],
      "execution_count": 118,
      "outputs": [
        {
          "output_type": "execute_result",
          "data": {
            "application/vnd.google.colaboratory.intrinsic+json": {
              "type": "string"
            },
            "text/plain": [
              "'             omgaga  im sooo  im gunna cry  i ve been at this dentist since 11   i was suposed 2 just get a crown put on  30mins    '"
            ]
          },
          "metadata": {
            "tags": []
          },
          "execution_count": 118
        }
      ]
    },
    {
      "cell_type": "code",
      "metadata": {
        "colab": {
          "base_uri": "https://localhost:8080/"
        },
        "id": "KeTA_Bim8osQ",
        "outputId": "08827e69-8f02-499c-fa32-bd3f15ab98e8"
      },
      "source": [
        "#Removing Stop words with the help of NLTK and also Tokenizing the Sentence\n",
        "\n",
        "import nltk\n",
        "nltk.download('stopwords')\n",
        "nltk.download('punkt')\n",
        "def remove_stopwords(text):\n",
        "    stop_words = set(stopwords.words('english'))\n",
        "    words = word_tokenize(text)\n",
        "    return [w for w in words if w not in stop_words]"
      ],
      "execution_count": 262,
      "outputs": [
        {
          "output_type": "stream",
          "text": [
            "[nltk_data] Downloading package stopwords to /root/nltk_data...\n",
            "[nltk_data]   Package stopwords is already up-to-date!\n",
            "[nltk_data] Downloading package punkt to /root/nltk_data...\n",
            "[nltk_data]   Package punkt is already up-to-date!\n"
          ],
          "name": "stdout"
        }
      ]
    },
    {
      "cell_type": "code",
      "metadata": {
        "colab": {
          "base_uri": "https://localhost:8080/"
        },
        "id": "KB1bJ0D13xPs",
        "outputId": "deca8bd6-a50e-4b34-ea6c-3f5763f5c387"
      },
      "source": [
        "dataset.SentimentText = dataset.SentimentText.apply(remove_stopwords)\n",
        "dataset.SentimentText[3]"
      ],
      "execution_count": 263,
      "outputs": [
        {
          "output_type": "stream",
          "text": [
            "/usr/local/lib/python3.7/dist-packages/pandas/core/generic.py:5170: SettingWithCopyWarning: \n",
            "A value is trying to be set on a copy of a slice from a DataFrame.\n",
            "Try using .loc[row_indexer,col_indexer] = value instead\n",
            "\n",
            "See the caveats in the documentation: https://pandas.pydata.org/pandas-docs/stable/user_guide/indexing.html#returning-a-view-versus-a-copy\n",
            "  self[name] = value\n"
          ],
          "name": "stderr"
        },
        {
          "output_type": "execute_result",
          "data": {
            "text/plain": [
              "['Omgaga',\n",
              " 'Im',\n",
              " 'sooo',\n",
              " 'im',\n",
              " 'gunna',\n",
              " 'CRy',\n",
              " 'I',\n",
              " 'dentist',\n",
              " 'since',\n",
              " '11',\n",
              " 'I',\n",
              " 'suposed',\n",
              " '2',\n",
              " 'get',\n",
              " 'crown',\n",
              " 'put',\n",
              " '30mins']"
            ]
          },
          "metadata": {
            "tags": []
          },
          "execution_count": 263
        }
      ]
    },
    {
      "cell_type": "code",
      "metadata": {
        "id": "xA1ImNiT9nCH"
      },
      "source": [
        "#Stemming the Word\n",
        "def stem_word(text):\n",
        "    ss = nltk.stem.SnowballStemmer('english')\n",
        "    return \" \".join([ss.stem(w) for w in text])\n"
      ],
      "execution_count": 264,
      "outputs": []
    },
    {
      "cell_type": "code",
      "metadata": {
        "colab": {
          "base_uri": "https://localhost:8080/",
          "height": 157
        },
        "id": "YMMT6h4l9yeM",
        "outputId": "593f9b7c-7952-483f-a269-f9cac1a04953"
      },
      "source": [
        "dataset.SentimentText = dataset.SentimentText.apply(stem_word)\n",
        "dataset.SentimentText[3]"
      ],
      "execution_count": 265,
      "outputs": [
        {
          "output_type": "stream",
          "text": [
            "/usr/local/lib/python3.7/dist-packages/pandas/core/generic.py:5170: SettingWithCopyWarning: \n",
            "A value is trying to be set on a copy of a slice from a DataFrame.\n",
            "Try using .loc[row_indexer,col_indexer] = value instead\n",
            "\n",
            "See the caveats in the documentation: https://pandas.pydata.org/pandas-docs/stable/user_guide/indexing.html#returning-a-view-versus-a-copy\n",
            "  self[name] = value\n"
          ],
          "name": "stderr"
        },
        {
          "output_type": "execute_result",
          "data": {
            "application/vnd.google.colaboratory.intrinsic+json": {
              "type": "string"
            },
            "text/plain": [
              "'omgaga im sooo im gunna cri i dentist sinc 11 i supos 2 get crown put 30min'"
            ]
          },
          "metadata": {
            "tags": []
          },
          "execution_count": 265
        }
      ]
    },
    {
      "cell_type": "code",
      "metadata": {
        "colab": {
          "base_uri": "https://localhost:8080/",
          "height": 204
        },
        "id": "4l1ahBUd_nY8",
        "outputId": "04c3c4ad-5abd-4e6d-c5dc-3028cd62671a"
      },
      "source": [
        "dataset.head()"
      ],
      "execution_count": 266,
      "outputs": [
        {
          "output_type": "execute_result",
          "data": {
            "text/html": [
              "<div>\n",
              "<style scoped>\n",
              "    .dataframe tbody tr th:only-of-type {\n",
              "        vertical-align: middle;\n",
              "    }\n",
              "\n",
              "    .dataframe tbody tr th {\n",
              "        vertical-align: top;\n",
              "    }\n",
              "\n",
              "    .dataframe thead th {\n",
              "        text-align: right;\n",
              "    }\n",
              "</style>\n",
              "<table border=\"1\" class=\"dataframe\">\n",
              "  <thead>\n",
              "    <tr style=\"text-align: right;\">\n",
              "      <th></th>\n",
              "      <th>ItemID</th>\n",
              "      <th>Sentiment</th>\n",
              "      <th>SentimentText</th>\n",
              "    </tr>\n",
              "  </thead>\n",
              "  <tbody>\n",
              "    <tr>\n",
              "      <th>0</th>\n",
              "      <td>1</td>\n",
              "      <td>0</td>\n",
              "      <td>sad apl friend</td>\n",
              "    </tr>\n",
              "    <tr>\n",
              "      <th>1</th>\n",
              "      <td>2</td>\n",
              "      <td>0</td>\n",
              "      <td>i miss new moon trailer</td>\n",
              "    </tr>\n",
              "    <tr>\n",
              "      <th>2</th>\n",
              "      <td>3</td>\n",
              "      <td>1</td>\n",
              "      <td>omg alreadi 7 30 o</td>\n",
              "    </tr>\n",
              "    <tr>\n",
              "      <th>3</th>\n",
              "      <td>4</td>\n",
              "      <td>0</td>\n",
              "      <td>omgaga im sooo im gunna cri i dentist sinc 11 ...</td>\n",
              "    </tr>\n",
              "    <tr>\n",
              "      <th>4</th>\n",
              "      <td>5</td>\n",
              "      <td>0</td>\n",
              "      <td>think mi bf cheat t t</td>\n",
              "    </tr>\n",
              "  </tbody>\n",
              "</table>\n",
              "</div>"
            ],
            "text/plain": [
              "  ItemID Sentiment                                      SentimentText\n",
              "0      1         0                                     sad apl friend\n",
              "1      2         0                            i miss new moon trailer\n",
              "2      3         1                                 omg alreadi 7 30 o\n",
              "3      4         0  omgaga im sooo im gunna cri i dentist sinc 11 ...\n",
              "4      5         0                              think mi bf cheat t t"
            ]
          },
          "metadata": {
            "tags": []
          },
          "execution_count": 266
        }
      ]
    },
    {
      "cell_type": "markdown",
      "metadata": {
        "id": "gkT89MF_-SF6"
      },
      "source": [
        "## Creating the Model\n"
      ]
    },
    {
      "cell_type": "code",
      "metadata": {
        "colab": {
          "base_uri": "https://localhost:8080/"
        },
        "id": "ilHqW7uq-WUN",
        "outputId": "4903985d-2c99-4044-9eb5-a5fc4bad8084"
      },
      "source": [
        "X = np.array(dataset.iloc[:,0].values)\n",
        "y = np.array(dataset.Sentiment.values)\n",
        "cv = CountVectorizer(max_features=1000)\n",
        "X = cv.fit_transform(dataset.SentimentText).toarray()\n",
        "print(\"X.shape = \",X.shape)\n",
        "print(\"y.shape = \",y.shape)"
      ],
      "execution_count": 267,
      "outputs": [
        {
          "output_type": "stream",
          "text": [
            "X.shape =  (99981, 1000)\n",
            "y.shape =  (99981,)\n"
          ],
          "name": "stdout"
        }
      ]
    },
    {
      "cell_type": "code",
      "metadata": {
        "colab": {
          "base_uri": "https://localhost:8080/"
        },
        "id": "f8JRwhSSCGj-",
        "outputId": "f69c8ba0-a2c7-4adb-8889-8f860ad349f3"
      },
      "source": [
        "print(X)\n",
        "print(y)\n"
      ],
      "execution_count": 268,
      "outputs": [
        {
          "output_type": "stream",
          "text": [
            "[[0 0 0 ... 0 0 0]\n",
            " [0 0 0 ... 0 0 0]\n",
            " [0 0 0 ... 0 0 0]\n",
            " ...\n",
            " [0 0 0 ... 0 0 0]\n",
            " [0 0 0 ... 0 0 0]\n",
            " [0 0 0 ... 0 0 0]]\n",
            "['0' '0' '1' ... '0' '1' '1']\n"
          ],
          "name": "stdout"
        }
      ]
    },
    {
      "cell_type": "markdown",
      "metadata": {
        "id": "y2TSiDLtCdij"
      },
      "source": [
        "### Creating Test Train Slit"
      ]
    },
    {
      "cell_type": "code",
      "metadata": {
        "colab": {
          "base_uri": "https://localhost:8080/"
        },
        "id": "We2ijx_PCKva",
        "outputId": "4bf20412-ef29-4024-c314-41f7d2c29ce1"
      },
      "source": [
        "trainx,testx,trainy,testy = train_test_split(X,y,test_size=0.2,random_state=9)\n",
        "print(\"Train shapes : X = {}, y = {}\".format(trainx.shape,trainy.shape))\n",
        "print(\"Test shapes : X = {}, y = {}\".format(testx.shape,testy.shape))"
      ],
      "execution_count": 269,
      "outputs": [
        {
          "output_type": "stream",
          "text": [
            "Train shapes : X = (79984, 1000), y = (79984,)\n",
            "Test shapes : X = (19997, 1000), y = (19997,)\n"
          ],
          "name": "stdout"
        }
      ]
    },
    {
      "cell_type": "code",
      "metadata": {
        "colab": {
          "base_uri": "https://localhost:8080/"
        },
        "id": "NiyeSRxOCK6P",
        "outputId": "5f102e39-268b-4694-f3f4-1ba5ece01ada"
      },
      "source": [
        "#Defining the models and Training them\n",
        "gnb,mnb,bnb = GaussianNB(),MultinomialNB(alpha=1.0,fit_prior=True),BernoulliNB(alpha=1.0,fit_prior=True),\n",
        "conb,canb =ComplementNB(alpha=1.0,fit_prior=True),CategoricalNB(alpha=1.0,fit_prior=True)\n",
        "gnb.fit(trainx,trainy)\n",
        "mnb.fit(trainx,trainy)\n",
        "bnb.fit(trainx,trainy)"
      ],
      "execution_count": 270,
      "outputs": [
        {
          "output_type": "execute_result",
          "data": {
            "text/plain": [
              "BernoulliNB(alpha=1.0, binarize=0.0, class_prior=None, fit_prior=True)"
            ]
          },
          "metadata": {
            "tags": []
          },
          "execution_count": 270
        }
      ]
    },
    {
      "cell_type": "code",
      "metadata": {
        "colab": {
          "base_uri": "https://localhost:8080/"
        },
        "id": "0mDIwMUICK8O",
        "outputId": "a53e28e0-ef3d-4a8b-c985-c2319f95f26d"
      },
      "source": [
        "ypg = gnb.predict(testx)\n",
        "ypm = mnb.predict(testx)\n",
        "ypb = bnb.predict(testx)\n",
        "\n",
        "print(\"Gaussian = \",accuracy_score(testy,ypg))\n",
        "print(\"Multinomial = \",accuracy_score(testy,ypm))\n",
        "print(\"Bernoulli = \",accuracy_score(testy,ypb))"
      ],
      "execution_count": 271,
      "outputs": [
        {
          "output_type": "stream",
          "text": [
            "Gaussian =  0.691553733059959\n",
            "Multinomial =  0.7282092313847077\n",
            "Bernoulli =  0.7270090513577037\n"
          ],
          "name": "stdout"
        }
      ]
    },
    {
      "cell_type": "code",
      "metadata": {
        "id": "OI92TU-oCK_9"
      },
      "source": [
        "pickle.dump(bnb,open('model1.pkl','wb'))"
      ],
      "execution_count": 272,
      "outputs": []
    },
    {
      "cell_type": "code",
      "metadata": {
        "id": "wEkNDJM4TMTE"
      },
      "source": [
        "def SentimentAnalysis(txt) :\n",
        "  f1 = clean(txt)\n",
        "  f2 = is_special(f1)\n",
        "  f3 = to_lower(f2)\n",
        "  f4 = remove_stopwords(f3)\n",
        "  f5 = stem_word(f4)\n",
        "\n",
        "  bow,words = [],word_tokenize(f5)\n",
        "  for word in words:\n",
        "    bow.append(words.count(word))\n",
        "  word_dict = cv.vocabulary_\n",
        "  pickle.dump(word_dict,open('bow.pkl','wb'))\n",
        "  inp = []\n",
        "  for i in word_dict:\n",
        "    inp.append(f5.count(i[0]))\n",
        "  y_pred = mnb.predict(np.array(inp).reshape(1,1000))\n",
        "  return y_pred\n"
      ],
      "execution_count": 323,
      "outputs": []
    },
    {
      "cell_type": "code",
      "metadata": {
        "id": "_KxauAjYTz9d"
      },
      "source": [
        "text = 'very positive'"
      ],
      "execution_count": 324,
      "outputs": []
    },
    {
      "cell_type": "code",
      "metadata": {
        "colab": {
          "base_uri": "https://localhost:8080/"
        },
        "id": "QQuyxw4aTteO",
        "outputId": "7e536fc6-3e32-4173-e8c7-ad0e1b5618a8"
      },
      "source": [
        "SentimentAnalysis(text)"
      ],
      "execution_count": 325,
      "outputs": [
        {
          "output_type": "execute_result",
          "data": {
            "text/plain": [
              "array(['1'], dtype='<U1')"
            ]
          },
          "metadata": {
            "tags": []
          },
          "execution_count": 325
        }
      ]
    }
  ]
}